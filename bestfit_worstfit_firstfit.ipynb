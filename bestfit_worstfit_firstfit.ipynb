{
 "cells": [
  {
   "cell_type": "code",
   "execution_count": 1,
   "metadata": {},
   "outputs": [
    {
     "name": "stdout",
     "output_type": "stream",
     "text": [
      "Enter the size of the blocks:\n",
      "Enter the size of the files:\n",
      "File No\tFile Size\tBlock No\tBlock Size\tFragment\n",
      "1\t212\t\t2\t\t388\t\t288\n",
      "2\t417\t\t5\t\t600\t\t183\n",
      "3\t112\t\t2\t\t288\t\t176\n",
      "4\t426\t\tNot Allocated\n"
     ]
    }
   ],
   "source": [
    "##first fit\n",
    "block_num = int(input(\"Enter the number of blocks: \"))\n",
    "file_num = int(input(\"Enter the number of files: \"))\n",
    "\n",
    "block = []\n",
    "file = []\n",
    "\n",
    "print(\"Enter the size of the blocks:\")\n",
    "for i in range(block_num):\n",
    "    block.append(int(input(f\"Block {i + 1}: \")))\n",
    "\n",
    "print(\"Enter the size of the files:\")\n",
    "for i in range(file_num):\n",
    "    file.append(int(input(f\"File {i + 1}: \")))\n",
    "\n",
    "def first_fit(block, file):\n",
    "    allocation = [-1] * len(file)\n",
    "    fragments = [0] * len(file)\n",
    "    for i in range(len(file)):\n",
    "        for j in range(len(block)):\n",
    "            if block[j] >= file[i]:\n",
    "                allocation[i] = j\n",
    "                fragments[i] = block[j] - file[i]\n",
    "                block[j] -= file[i]\n",
    "                break\n",
    "\n",
    "    print(\"File No\\tFile Size\\tBlock No\\tBlock Size\\tFragment\")\n",
    "    for i in range(len(file)):\n",
    "        if allocation[i] != -1:\n",
    "            print(f\"{i + 1}\\t{file[i]}\\t\\t{allocation[i] + 1}\\t\\t{block[allocation[i]] + file[i]}\\t\\t{fragments[i]}\")\n",
    "        else:\n",
    "            print(f\"{i + 1}\\t{file[i]}\\t\\tNot Allocated\")\n",
    "\n",
    "first_fit(block, file)\n"
   ]
  },
  {
   "cell_type": "code",
   "execution_count": 2,
   "metadata": {},
   "outputs": [
    {
     "name": "stdout",
     "output_type": "stream",
     "text": [
      "Enter the size of the blocks:\n",
      "Enter the size of the files:\n",
      "File No\tFile Size\tBlock No\tBlock Size\tFragment\n",
      "1\t212\t\t4\t\t300\t\t88\n",
      "2\t417\t\t2\t\t500\t\t83\n",
      "3\t112\t\t3\t\t200\t\t88\n",
      "4\t426\t\t5\t\t600\t\t174\n"
     ]
    }
   ],
   "source": [
    "block_num = int(input(\"Enter the number of blocks: \"))\n",
    "file_num = int(input(\"Enter the number of files: \"))\n",
    "\n",
    "block = []\n",
    "file = []\n",
    "\n",
    "print(\"Enter the size of the blocks:\")\n",
    "for i in range(block_num):\n",
    "    block.append(int(input(f\"Block {i + 1}: \")))\n",
    "\n",
    "print(\"Enter the size of the files:\")\n",
    "for i in range(file_num):\n",
    "    file.append(int(input(f\"File {i + 1}: \")))\n",
    "\n",
    "def best_fit(block, file):\n",
    "    allocation = [-1] * len(file)\n",
    "    fragments = [0] * len(file)\n",
    "    \n",
    "    for i in range(len(file)):\n",
    "        best = -1\n",
    "        for j in range(len(block)):\n",
    "            if block[j] >= file[i]:\n",
    "                if best == -1 or block[best] > block[j]:\n",
    "                    best = j\n",
    "        \n",
    "        if best != -1:\n",
    "            allocation[i] = best\n",
    "            fragments[i] = block[best] - file[i]\n",
    "            block[best] -= file[i]\n",
    "\n",
    "    print(\"File No\\tFile Size\\tBlock No\\tBlock Size\\tFragment\")\n",
    "    for i in range(len(file)):\n",
    "        if allocation[i] != -1:\n",
    "            print(f\"{i + 1}\\t{file[i]}\\t\\t{allocation[i] + 1}\\t\\t{block[allocation[i]] + file[i]}\\t\\t{fragments[i]}\")\n",
    "        else:\n",
    "            print(f\"{i + 1}\\t{file[i]}\\t\\tNot Allocated\")\n",
    "\n",
    "best_fit(block, file)\n"
   ]
  },
  {
   "cell_type": "code",
   "execution_count": 3,
   "metadata": {},
   "outputs": [
    {
     "name": "stdout",
     "output_type": "stream",
     "text": [
      "Enter the size of the blocks:\n",
      "Enter the size of the files:\n",
      "File No\tFile Size\tBlock No\tBlock Size\tFragment\n",
      "1\t212\t\t5\t\t488\t\t388\n",
      "2\t417\t\t2\t\t500\t\t83\n",
      "3\t112\t\t5\t\t388\t\t276\n",
      "4\t426\t\tNot Allocated\n"
     ]
    }
   ],
   "source": [
    "block_num = int(input(\"Enter the number of blocks: \"))\n",
    "file_num = int(input(\"Enter the number of files: \"))\n",
    "\n",
    "block = []\n",
    "file = []\n",
    "\n",
    "print(\"Enter the size of the blocks:\")\n",
    "for i in range(block_num):\n",
    "    block.append(int(input(f\"Block {i + 1}: \")))\n",
    "\n",
    "print(\"Enter the size of the files:\")\n",
    "for i in range(file_num):\n",
    "    file.append(int(input(f\"File {i + 1}: \")))\n",
    "\n",
    "def worst_fit(block, file):\n",
    "    allocation = [-1] * len(file)\n",
    "    fragments = [0] * len(file)\n",
    "    \n",
    "    for i in range(len(file)):\n",
    "        worst = -1\n",
    "        for j in range(len(block)):\n",
    "            if block[j] >= file[i]:\n",
    "                if worst == -1 or block[worst] < block[j]:\n",
    "                    worst = j\n",
    "        \n",
    "        if worst != -1:\n",
    "            allocation[i] = worst\n",
    "            fragments[i] = block[worst] - file[i]\n",
    "            block[worst] -= file[i]\n",
    "\n",
    "    print(\"File No\\tFile Size\\tBlock No\\tBlock Size\\tFragment\")\n",
    "    for i in range(len(file)):\n",
    "        if allocation[i] != -1:\n",
    "            print(f\"{i + 1}\\t{file[i]}\\t\\t{allocation[i] + 1}\\t\\t{block[allocation[i]] + file[i]}\\t\\t{fragments[i]}\")\n",
    "        else:\n",
    "            print(f\"{i + 1}\\t{file[i]}\\t\\tNot Allocated\")\n",
    "\n",
    "worst_fit(block, file)\n"
   ]
  }
 ],
 "metadata": {
  "kernelspec": {
   "display_name": "Python 3",
   "language": "python",
   "name": "python3"
  },
  "language_info": {
   "codemirror_mode": {
    "name": "ipython",
    "version": 3
   },
   "file_extension": ".py",
   "mimetype": "text/x-python",
   "name": "python",
   "nbconvert_exporter": "python",
   "pygments_lexer": "ipython3",
   "version": "3.12.4"
  }
 },
 "nbformat": 4,
 "nbformat_minor": 2
}
