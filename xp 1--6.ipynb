{
 "cells": [
  {
   "cell_type": "markdown",
   "metadata": {},
   "source": [
    "prac 0 - \n",
    "1. Create a program that takes user input and determines its data type.\n"
   ]
  },
  {
   "cell_type": "code",
   "execution_count": 51,
   "metadata": {},
   "outputs": [
    {
     "name": "stdout",
     "output_type": "stream",
     "text": [
      "The data type of the input is: <class 'str'>\n"
     ]
    }
   ],
   "source": [
    "# Take user input\n",
    "user_input = input(\"Enter something: \")\n",
    "\n",
    "# Determine and print the data type\n",
    "print(f\"The data type of the input is: {type(user_input)}\")\n"
   ]
  },
  {
   "cell_type": "markdown",
   "metadata": {},
   "source": [
    "2. Write a program to perform arithmetic operations on two user-input numbers"
   ]
  },
  {
   "cell_type": "code",
   "execution_count": 52,
   "metadata": {},
   "outputs": [
    {
     "ename": "ValueError",
     "evalue": "could not convert string to float: ''",
     "output_type": "error",
     "traceback": [
      "\u001b[1;31m---------------------------------------------------------------------------\u001b[0m",
      "\u001b[1;31mValueError\u001b[0m                                Traceback (most recent call last)",
      "Cell \u001b[1;32mIn[52], line 2\u001b[0m\n\u001b[0;32m      1\u001b[0m \u001b[38;5;66;03m# Take two user inputs\u001b[39;00m\n\u001b[1;32m----> 2\u001b[0m num1 \u001b[38;5;241m=\u001b[39m \u001b[38;5;28;43mfloat\u001b[39;49m\u001b[43m(\u001b[49m\u001b[38;5;28;43minput\u001b[39;49m\u001b[43m(\u001b[49m\u001b[38;5;124;43m\"\u001b[39;49m\u001b[38;5;124;43mEnter the first number: \u001b[39;49m\u001b[38;5;124;43m\"\u001b[39;49m\u001b[43m)\u001b[49m\u001b[43m)\u001b[49m\n\u001b[0;32m      3\u001b[0m num2 \u001b[38;5;241m=\u001b[39m \u001b[38;5;28mfloat\u001b[39m(\u001b[38;5;28minput\u001b[39m(\u001b[38;5;124m\"\u001b[39m\u001b[38;5;124mEnter the second number: \u001b[39m\u001b[38;5;124m\"\u001b[39m))\n\u001b[0;32m      5\u001b[0m \u001b[38;5;66;03m# Perform and display arithmetic operations\u001b[39;00m\n",
      "\u001b[1;31mValueError\u001b[0m: could not convert string to float: ''"
     ]
    }
   ],
   "source": [
    "# Take two user inputs\n",
    "num1 = float(input(\"Enter the first number: \"))\n",
    "num2 = float(input(\"Enter the second number: \"))\n",
    "\n",
    "# Perform and display arithmetic operations\n",
    "print(f\"Addition: {num1 + num2}\")\n",
    "print(f\"Subtraction: {num1 - num2}\")\n",
    "print(f\"Multiplication: {num1 * num2}\")\n",
    "print(f\"Division: {num1 / num2 if num2 != 0 else 'Error! Division by zero.'}\")\n"
   ]
  },
  {
   "cell_type": "markdown",
   "metadata": {},
   "source": [
    "3. create a program that uses all comparison operators and prints the results for two user-input numbers."
   ]
  },
  {
   "cell_type": "code",
   "execution_count": 3,
   "metadata": {},
   "outputs": [
    {
     "name": "stdout",
     "output_type": "stream",
     "text": [
      "num1 == num2: False\n",
      "num1 != num2: True\n",
      "num1 > num2: False\n",
      "num1 < num2: True\n",
      "num1 >= num2: False\n",
      "num1 <= num2: True\n"
     ]
    }
   ],
   "source": [
    "# Take two user inputs\n",
    "num1 = float(input(\"Enter the first number: \"))\n",
    "num2 = float(input(\"Enter the second number: \"))\n",
    "\n",
    "# Perform and display comparison operations\n",
    "print(f\"num1 == num2: {num1 == num2}\")\n",
    "print(f\"num1 != num2: {num1 != num2}\")\n",
    "print(f\"num1 > num2: {num1 > num2}\")\n",
    "print(f\"num1 < num2: {num1 < num2}\")\n",
    "print(f\"num1 >= num2: {num1 >= num2}\")\n",
    "print(f\"num1 <= num2: {num1 <= num2}\")\n"
   ]
  },
  {
   "cell_type": "markdown",
   "metadata": {},
   "source": [
    "4. Program that takes three user-input numbers and calculates their average"
   ]
  },
  {
   "cell_type": "code",
   "execution_count": 4,
   "metadata": {},
   "outputs": [
    {
     "name": "stdout",
     "output_type": "stream",
     "text": [
      "The average of the three numbers is: 4.0\n"
     ]
    }
   ],
   "source": [
    "# Take three user inputs\n",
    "num1 = float(input(\"Enter the first number: \"))\n",
    "num2 = float(input(\"Enter the second number: \"))\n",
    "num3 = float(input(\"Enter the third number: \"))\n",
    "\n",
    "# Calculate and display the average\n",
    "average = (num1 + num2 + num3) / 3\n",
    "print(f\"The average of the three numbers is: {average}\")\n"
   ]
  },
  {
   "cell_type": "markdown",
   "metadata": {},
   "source": [
    "5. Program that takes the principal amount, rate of interest, and time period from the user and calculates the simple interest"
   ]
  },
  {
   "cell_type": "code",
   "execution_count": 5,
   "metadata": {},
   "outputs": [
    {
     "name": "stdout",
     "output_type": "stream",
     "text": [
      "The simple interest is: 23000.0\n"
     ]
    }
   ],
   "source": [
    "# Take user inputs for principal, rate of interest, and time period\n",
    "principal = float(input(\"Enter the principal amount: \"))\n",
    "rate_of_interest = float(input(\"Enter the rate of interest (in percentage): \"))\n",
    "time_period = float(input(\"Enter the time period (in years): \"))\n",
    "\n",
    "# Calculate simple interest\n",
    "simple_interest = (principal * rate_of_interest * time_period) / 100\n",
    "print(f\"The simple interest is: {simple_interest}\")\n"
   ]
  },
  {
   "cell_type": "markdown",
   "metadata": {},
   "source": [
    "prac 1 - \n",
    "1. WAP to demonstrate the if, elif, else loop"
   ]
  },
  {
   "cell_type": "code",
   "execution_count": 6,
   "metadata": {},
   "outputs": [
    {
     "name": "stdout",
     "output_type": "stream",
     "text": [
      "The number is positive.\n"
     ]
    }
   ],
   "source": [
    "# Take user input\n",
    "number = float(input(\"Enter a number: \"))\n",
    "\n",
    "# Check conditions using if, elif, else\n",
    "if number > 0:\n",
    "    print(\"The number is positive.\")\n",
    "elif number < 0:\n",
    "    print(\"The number is negative.\")\n",
    "else:\n",
    "    print(\"The number is zero.\")\n"
   ]
  },
  {
   "cell_type": "markdown",
   "metadata": {},
   "source": [
    "2. WAP to demonstrate the for loop"
   ]
  },
  {
   "cell_type": "code",
   "execution_count": 7,
   "metadata": {},
   "outputs": [
    {
     "name": "stdout",
     "output_type": "stream",
     "text": [
      "1\n",
      "2\n",
      "3\n",
      "4\n",
      "5\n",
      "6\n",
      "7\n",
      "8\n",
      "9\n",
      "10\n"
     ]
    }
   ],
   "source": [
    "# Using a for loop to print numbers from 1 to 10\n",
    "for i in range(1, 11):\n",
    "    print(i)\n"
   ]
  },
  {
   "cell_type": "markdown",
   "metadata": {},
   "source": [
    "3. WAP to print the following pattern"
   ]
  },
  {
   "cell_type": "code",
   "execution_count": 8,
   "metadata": {},
   "outputs": [
    {
     "name": "stdout",
     "output_type": "stream",
     "text": [
      "*****\n",
      "****\n",
      "***\n",
      "**\n",
      "*\n"
     ]
    }
   ],
   "source": [
    "rows = 5\n",
    "\n",
    "for i in range(rows, 0, -1):\n",
    "    print('*' * i)\n"
   ]
  },
  {
   "cell_type": "code",
   "execution_count": 9,
   "metadata": {},
   "outputs": [
    {
     "name": "stdout",
     "output_type": "stream",
     "text": [
      "1\n",
      "12\n",
      "123\n",
      "1234\n",
      "12345\n"
     ]
    }
   ],
   "source": [
    "n=5\n",
    "\n",
    "for i in range(1,n+1):\n",
    "    for j in range(1,i+1):\n",
    "        print(j,end=\"\")\n",
    "    print()    \n",
    "    \n",
    "    \n",
    "    "
   ]
  },
  {
   "cell_type": "code",
   "execution_count": 10,
   "metadata": {},
   "outputs": [
    {
     "name": "stdout",
     "output_type": "stream",
     "text": [
      "*\n",
      "**\n",
      "***\n",
      "**\n",
      "*\n"
     ]
    }
   ],
   "source": [
    "n=3\n",
    "\n",
    "for i in range(1,n+1):\n",
    "    print('*' * i)\n",
    "    \n",
    "for i in range(n-1,0,-1):\n",
    "    print('*' * i)    "
   ]
  },
  {
   "cell_type": "markdown",
   "metadata": {},
   "source": [
    "4. WAP to demonstrate the use of break, pass, and continue in a while loop"
   ]
  },
  {
   "cell_type": "code",
   "execution_count": 11,
   "metadata": {},
   "outputs": [
    {
     "name": "stdout",
     "output_type": "stream",
     "text": [
      "Current counter value: 1\n",
      "Current counter value: 2\n",
      "Skipping number 3\n",
      "Current counter value: 4\n",
      "Breaking the loop at 5\n"
     ]
    }
   ],
   "source": [
    "# Demonstrating break, pass, and continue in a while loop\n",
    "\n",
    "counter = 0\n",
    "while counter < 10:\n",
    "    counter += 1\n",
    "    if counter == 5:\n",
    "        print(\"Breaking the loop at 5\")\n",
    "        break  # Break the loop when counter is 5\n",
    "    elif counter == 3:\n",
    "        print(\"Skipping number 3\")\n",
    "        continue  # Skip the rest of the loop when counter is 3\n",
    "    else:\n",
    "        print(f\"Current counter value: {counter}\")\n"
   ]
  },
  {
   "cell_type": "markdown",
   "metadata": {},
   "source": [
    "5. Write a program to calculate the electricity bill (accept number of units from the user)"
   ]
  },
  {
   "cell_type": "code",
   "execution_count": 12,
   "metadata": {},
   "outputs": [
    {
     "name": "stdout",
     "output_type": "stream",
     "text": [
      "Your electricity bill is: Rs 0\n"
     ]
    }
   ],
   "source": [
    "# Program to calculate electricity bill\n",
    "\n",
    "units = int(input(\"Enter the number of units consumed: \"))\n",
    "\n",
    "if units <= 100:\n",
    "    bill = 0\n",
    "elif units <= 200:\n",
    "    bill = (units - 100) * 5\n",
    "else:\n",
    "    bill = (100 * 5) + (100 * 10) + ((units - 200) * 15)\n",
    "\n",
    "print(f\"Your electricity bill is: Rs {bill}\")\n"
   ]
  },
  {
   "cell_type": "markdown",
   "metadata": {},
   "source": [
    "6. Write a Python program to count the number of even and odd numbers in a series of numbers"
   ]
  },
  {
   "cell_type": "code",
   "execution_count": 13,
   "metadata": {},
   "outputs": [
    {
     "name": "stdout",
     "output_type": "stream",
     "text": [
      "Number of even numbers: 4\n",
      "Number of odd numbers: 5\n"
     ]
    }
   ],
   "source": [
    "# Counting even and odd numbers in a series\n",
    "\n",
    "numbers = (1, 2, 3, 4, 5, 6, 7, 8, 9)\n",
    "\n",
    "even_count = 0\n",
    "odd_count = 0\n",
    "\n",
    "for num in numbers:\n",
    "    if num % 2 == 0:\n",
    "        even_count += 1\n",
    "    else:\n",
    "        odd_count += 1\n",
    "\n",
    "print(f\"Number of even numbers: {even_count}\")\n",
    "print(f\"Number of odd numbers: {odd_count}\")\n"
   ]
  },
  {
   "cell_type": "markdown",
   "metadata": {},
   "source": [
    "7. Write a Python program that iterates through the integers from 1 to 50. For multiples of three, print \"Fizz\", for multiples of five print \"Buzz\", and for numbers that are multiples of both three and five, print \"FizzBuzz\"."
   ]
  },
  {
   "cell_type": "code",
   "execution_count": 14,
   "metadata": {},
   "outputs": [
    {
     "name": "stdout",
     "output_type": "stream",
     "text": [
      "1\n",
      "2\n",
      "Fizz\n",
      "4\n",
      "Buzz\n",
      "Fizz\n",
      "7\n",
      "8\n",
      "Fizz\n",
      "Buzz\n",
      "11\n",
      "Fizz\n",
      "13\n",
      "14\n",
      "FizzBuzz\n",
      "16\n",
      "17\n",
      "Fizz\n",
      "19\n",
      "Buzz\n",
      "Fizz\n",
      "22\n",
      "23\n",
      "Fizz\n",
      "Buzz\n",
      "26\n",
      "Fizz\n",
      "28\n",
      "29\n",
      "FizzBuzz\n",
      "31\n",
      "32\n",
      "Fizz\n",
      "34\n",
      "Buzz\n",
      "Fizz\n",
      "37\n",
      "38\n",
      "Fizz\n",
      "Buzz\n",
      "41\n",
      "Fizz\n",
      "43\n",
      "44\n",
      "FizzBuzz\n",
      "46\n",
      "47\n",
      "Fizz\n",
      "49\n",
      "Buzz\n"
     ]
    }
   ],
   "source": [
    "# FizzBuzz program for numbers from 1 to 50\n",
    "\n",
    "for num in range(1, 51):\n",
    "    if num % 3 == 0 and num % 5 == 0:\n",
    "        print(\"FizzBuzz\")\n",
    "    elif num % 3 == 0:\n",
    "        print(\"Fizz\")\n",
    "    elif num % 5 == 0:\n",
    "        print(\"Buzz\")\n",
    "    else:\n",
    "        print(num)\n"
   ]
  },
  {
   "cell_type": "markdown",
   "metadata": {},
   "source": [
    "exp 2 -\n",
    "1.Create a string variable s with the value \"Hello World\" and print its length"
   ]
  },
  {
   "cell_type": "code",
   "execution_count": 15,
   "metadata": {},
   "outputs": [
    {
     "name": "stdout",
     "output_type": "stream",
     "text": [
      "Length of the string: 11\n"
     ]
    }
   ],
   "source": [
    "# Create a string variable\n",
    "s = \"Hello World\"\n",
    "\n",
    "# Print the length of the string\n",
    "print(\"Length of the string:\", len(s))\n"
   ]
  },
  {
   "cell_type": "markdown",
   "metadata": {},
   "source": [
    "2.\tConvert the string \"Python Programming\" to lowercase and print it. "
   ]
  },
  {
   "cell_type": "code",
   "execution_count": 16,
   "metadata": {},
   "outputs": [
    {
     "name": "stdout",
     "output_type": "stream",
     "text": [
      "python programming\n"
     ]
    }
   ],
   "source": [
    "# Original string\n",
    "s = \"Python Programming\"\n",
    "\n",
    "# Convert to lowercase and print\n",
    "print(s.lower())\n"
   ]
  },
  {
   "cell_type": "markdown",
   "metadata": {},
   "source": [
    "3.\tConcatenate the strings \"Data\" and \"Science\" with a space in between and print the result. "
   ]
  },
  {
   "cell_type": "code",
   "execution_count": 17,
   "metadata": {},
   "outputs": [
    {
     "name": "stdout",
     "output_type": "stream",
     "text": [
      "Data Science\n"
     ]
    }
   ],
   "source": [
    "# Strings to concatenate\n",
    "str1 = \"Data\"\n",
    "str2 = \"Science\"\n",
    "\n",
    "# Concatenate with space in between and print\n",
    "result = str1 + \" \" + str2\n",
    "print(result)\n"
   ]
  },
  {
   "cell_type": "markdown",
   "metadata": {},
   "source": [
    "4.Remove all leading and trailing whitespace from the string \" Data Analysis \" and print it.  "
   ]
  },
  {
   "cell_type": "code",
   "execution_count": 18,
   "metadata": {},
   "outputs": [
    {
     "name": "stdout",
     "output_type": "stream",
     "text": [
      "Data Analysis\n"
     ]
    }
   ],
   "source": [
    "# Original string with leading and trailing spaces\n",
    "s = \" Data Analysis \"\n",
    "\n",
    "# Remove leading and trailing whitespace and print\n",
    "print(s.strip())\n"
   ]
  },
  {
   "cell_type": "markdown",
   "metadata": {},
   "source": [
    "5.\tCheck if the string \"level\" is a palindrome (reads the same forwards and backwards) and print the result  "
   ]
  },
  {
   "cell_type": "code",
   "execution_count": 19,
   "metadata": {},
   "outputs": [
    {
     "name": "stdout",
     "output_type": "stream",
     "text": [
      "The string is a palindrome.\n"
     ]
    }
   ],
   "source": [
    "# String to check\n",
    "s = \"level\"\n",
    "\n",
    "# Check if the string is equal to its reverse\n",
    "if s == s[::-1]:\n",
    "    print(\"The string is a palindrome.\")\n",
    "else:\n",
    "    print(\"The string is not a palindrome.\")\n"
   ]
  },
  {
   "cell_type": "markdown",
   "metadata": {},
   "source": [
    "6.\tWAP to print all even length words in a string  "
   ]
  },
  {
   "cell_type": "code",
   "execution_count": 20,
   "metadata": {},
   "outputs": [
    {
     "name": "stdout",
     "output_type": "stream",
     "text": [
      "This\n",
      "is\n",
      "sample\n",
      "string\n",
      "with\n",
      "some\n",
      "even\n",
      "length\n"
     ]
    }
   ],
   "source": [
    "# Input string\n",
    "s = \"This is a sample string with some even length words\"\n",
    "\n",
    "# Split the string into words\n",
    "words = s.split()\n",
    "\n",
    "# Loop through each word and check if its length is even\n",
    "for word in words:\n",
    "    if len(word) % 2 == 0:\n",
    "        print(word)\n"
   ]
  },
  {
   "cell_type": "markdown",
   "metadata": {},
   "source": [
    "7.\tWAP to print number of cvc (consonant-vowel-consonant) pairs in each string  "
   ]
  },
  {
   "cell_type": "code",
   "execution_count": 21,
   "metadata": {},
   "outputs": [
    {
     "name": "stdout",
     "output_type": "stream",
     "text": [
      "Number of CVC pairs: 3\n"
     ]
    }
   ],
   "source": [
    "# Function to count CVC pairs\n",
    "def count_cvc_pairs(s):\n",
    "    vowels = \"aeiou\"\n",
    "    count = 0\n",
    "    \n",
    "    # Loop through the string to check every 3 consecutive characters\n",
    "    for i in range(len(s) - 2):  # -2 to avoid index out of range\n",
    "        # Check if the pattern is consonant-vowel-consonant\n",
    "        if s[i].isalpha() and s[i+1].isalpha() and s[i+2].isalpha():\n",
    "            if s[i].lower() not in vowels and s[i+1].lower() in vowels and s[i+2].lower() not in vowels:\n",
    "                count += 1\n",
    "                \n",
    "    return count\n",
    "\n",
    "# Input string\n",
    "s = \"This is an example string\"\n",
    "\n",
    "# Call the function and print the result\n",
    "print(\"Number of CVC pairs:\", count_cvc_pairs(s))\n"
   ]
  },
  {
   "cell_type": "markdown",
   "metadata": {},
   "source": [
    "8.\tReverse the string ‘Hello’ only using string slicing  "
   ]
  },
  {
   "cell_type": "code",
   "execution_count": 22,
   "metadata": {},
   "outputs": [
    {
     "name": "stdout",
     "output_type": "stream",
     "text": [
      "olleH\n"
     ]
    }
   ],
   "source": [
    "# Original string\n",
    "s = \"Hello\"\n",
    "\n",
    "# Reverse the string using slicing\n",
    "reversed_s = s[::-1]\n",
    "\n",
    "# Print the reversed string\n",
    "print(reversed_s)\n"
   ]
  },
  {
   "cell_type": "markdown",
   "metadata": {},
   "source": [
    "9.\tWAP to remove more than 2 successive occurrences of the same alphabet in a sentence, example: “India is theeee besssst” must be made “India is the best”  "
   ]
  },
  {
   "cell_type": "code",
   "execution_count": 23,
   "metadata": {},
   "outputs": [
    {
     "name": "stdout",
     "output_type": "stream",
     "text": [
      "India is thee besst\n"
     ]
    }
   ],
   "source": [
    "# Function to remove more than 2 successive occurrences of the same character\n",
    "def remove_extra_characters(sentence):\n",
    "    result = []\n",
    "    count = 1  # Track the consecutive occurrences of a character\n",
    "\n",
    "    for i in range(1, len(sentence)):\n",
    "        if sentence[i] == sentence[i - 1]:\n",
    "            count += 1\n",
    "        else:\n",
    "            count = 1  # Reset count if the character changes\n",
    "        \n",
    "        if count <= 2:\n",
    "            result.append(sentence[i - 1])\n",
    "\n",
    "    # Append the last character of the string\n",
    "    result.append(sentence[-1])\n",
    "    \n",
    "    # Join the list into a string and return the result\n",
    "    return ''.join(result)\n",
    "\n",
    "# Input sentence\n",
    "sentence = \"India is theeee besssst\"\n",
    "\n",
    "# Call the function and print the result\n",
    "result = remove_extra_characters(sentence)\n",
    "print(result)\n"
   ]
  },
  {
   "cell_type": "markdown",
   "metadata": {},
   "source": [
    "10.\tWAP to find minimum number of rotations to obtain actual string. Example:  \n",
    "given string is “lohel” actual string is “hello” thus 2 rotations as l,o has to be rotated to the right to get actual string.  \n",
    " \n"
   ]
  },
  {
   "cell_type": "code",
   "execution_count": 24,
   "metadata": {},
   "outputs": [
    {
     "name": "stdout",
     "output_type": "stream",
     "text": [
      "Minimum rotations needed: 2\n"
     ]
    }
   ],
   "source": [
    "# Function to find the minimum number of rotations to get the actual string\n",
    "def min_rotations_to_match(string, target):\n",
    "    n = len(string)\n",
    "    \n",
    "    # Loop through all possible rotations\n",
    "    for i in range(n):\n",
    "        # Rotate the string by slicing and comparing with target string\n",
    "        rotated = string[i:] + string[:i]\n",
    "        \n",
    "        # Check if the rotated string matches the target\n",
    "        if rotated == target:\n",
    "            return i  # Return the number of rotations\n",
    "    \n",
    "    return -1  # If no match is found\n",
    "\n",
    "# Example input\n",
    "string = \"lohel\"\n",
    "target = \"hello\"\n",
    "\n",
    "# Call the function and print the result\n",
    "rotations = min_rotations_to_match(string, target)\n",
    "print(f\"Minimum rotations needed: {rotations}\")\n"
   ]
  },
  {
   "cell_type": "markdown",
   "metadata": {},
   "source": [
    "11.\tWAP to trim leading and trailing whitespaces from the string. "
   ]
  },
  {
   "cell_type": "code",
   "execution_count": 25,
   "metadata": {},
   "outputs": [
    {
     "name": "stdout",
     "output_type": "stream",
     "text": [
      "Trimmed string: 'Hello, World!'\n"
     ]
    }
   ],
   "source": [
    "# Function to trim leading and trailing whitespaces\n",
    "def trim_whitespaces(s):\n",
    "    return s.strip()\n",
    "\n",
    "# Example input\n",
    "s = \"   Hello, World!   \"\n",
    "\n",
    "# Call the function and print the result\n",
    "trimmed_string = trim_whitespaces(s)\n",
    "print(f\"Trimmed string: '{trimmed_string}'\")\n"
   ]
  },
  {
   "cell_type": "markdown",
   "metadata": {},
   "source": [
    "12.\tWAP to extract and display a substring using slicing based on user-specified start and end indices.  "
   ]
  },
  {
   "cell_type": "code",
   "execution_count": 26,
   "metadata": {},
   "outputs": [
    {
     "name": "stdout",
     "output_type": "stream",
     "text": [
      "Extracted substring: ' is '\n"
     ]
    }
   ],
   "source": [
    "# Function to extract a substring using slicing\n",
    "def extract_substring(s, start, end):\n",
    "    # Extract substring using slicing\n",
    "    return s[start:end]\n",
    "\n",
    "# Input string\n",
    "s = input(\"Enter the string: \")\n",
    "\n",
    "# User input for start and end indices\n",
    "start = int(input(\"Enter the start index: \"))\n",
    "end = int(input(\"Enter the end index: \"))\n",
    "\n",
    "# Call the function and print the result\n",
    "substring = extract_substring(s, start, end)\n",
    "print(f\"Extracted substring: '{substring}'\")\n"
   ]
  },
  {
   "cell_type": "markdown",
   "metadata": {},
   "source": [
    "13.\tWAP to count the number of words in the string.  "
   ]
  },
  {
   "cell_type": "code",
   "execution_count": 27,
   "metadata": {},
   "outputs": [
    {
     "name": "stdout",
     "output_type": "stream",
     "text": [
      "Number of words in the string: 6\n"
     ]
    }
   ],
   "source": [
    "# Function to count the number of words in a string\n",
    "def count_words(s):\n",
    "    # Split the string into words using spaces and count the number of words\n",
    "    words = s.split()\n",
    "    return len(words)\n",
    "\n",
    "# Input string\n",
    "s = input(\"Enter the string: \")\n",
    "\n",
    "# Call the function and print the result\n",
    "word_count = count_words(s)\n",
    "print(f\"Number of words in the string: {word_count}\")\n"
   ]
  },
  {
   "cell_type": "markdown",
   "metadata": {},
   "source": [
    "14.\tWAP to split the string into a list of words and then join them back into a single string with a user-defined delimiter.  "
   ]
  },
  {
   "cell_type": "code",
   "execution_count": 28,
   "metadata": {},
   "outputs": [
    {
     "name": "stdout",
     "output_type": "stream",
     "text": [
      "Resulting string: 'thank you for your service'\n"
     ]
    }
   ],
   "source": [
    "# Input string from the user\n",
    "s = input(\"Enter the string: \")\n",
    "\n",
    "# Split and join the string back\n",
    "result = ' '.join(s.split())\n",
    "\n",
    "# Output the result\n",
    "print(f\"Resulting string: '{result}'\")\n"
   ]
  },
  {
   "cell_type": "markdown",
   "metadata": {},
   "source": [
    "15.\tWAP to allow the user to input multiple values (e.g., name, age, city) and format them into a sentence using placeholders.  "
   ]
  },
  {
   "cell_type": "code",
   "execution_count": 29,
   "metadata": {},
   "outputs": [
    {
     "name": "stdout",
     "output_type": "stream",
     "text": [
      "My name is harsh, I am 31 years old, and I live in dubai.\n"
     ]
    }
   ],
   "source": [
    "# Get user inputs for name, age, and city\n",
    "name = input(\"Enter your name: \")\n",
    "age = input(\"Enter your age: \")\n",
    "city = input(\"Enter your city: \")\n",
    "\n",
    "# Format the inputs into a sentence using placeholders\n",
    "sentence = \"My name is {}, I am {} years old, and I live in {}.\".format(name, age, city)\n",
    "\n",
    "# Output the formatted sentence\n",
    "print(sentence)\n"
   ]
  },
  {
   "cell_type": "markdown",
   "metadata": {},
   "source": [
    "16.\tWAP to display the frequency of each character in the string."
   ]
  },
  {
   "cell_type": "code",
   "execution_count": 30,
   "metadata": {},
   "outputs": [
    {
     "name": "stdout",
     "output_type": "stream",
     "text": [
      "'w': 1\n",
      "'h': 2\n",
      "'a': 1\n",
      "'s': 9\n",
      "' ': 2\n",
      "'u': 1\n",
      "'p': 3\n",
      "'b': 1\n",
      "'i': 1\n",
      "'t': 1\n",
      "'c': 1\n",
      "'e': 1\n"
     ]
    }
   ],
   "source": [
    "# Function to display the frequency of each character\n",
    "def character_frequency(s):\n",
    "    # Create an empty dictionary to store character counts\n",
    "    freq = {}\n",
    "    \n",
    "    # Loop through each character in the string\n",
    "    for char in s:\n",
    "        # If the character is already in the dictionary, increment its count\n",
    "        if char in freq:\n",
    "            freq[char] += 1\n",
    "        else:\n",
    "            # Otherwise, add the character to the dictionary with count 1\n",
    "            freq[char] = 1\n",
    "            \n",
    "    # Display the frequency of each character\n",
    "    for char, count in freq.items():\n",
    "        print(f\"'{char}': {count}\")\n",
    "\n",
    "# Input string from the user\n",
    "s = input(\"Enter the string: \")\n",
    "\n",
    "# Call the function to display frequency\n",
    "character_frequency(s)\n"
   ]
  },
  {
   "cell_type": "markdown",
   "metadata": {},
   "source": [
    "17.\tWrite a python program to takes a list of words, reverses the order of the words, and then joins them into a single string with a hyphen - as the separator.  "
   ]
  },
  {
   "cell_type": "code",
   "execution_count": 31,
   "metadata": {},
   "outputs": [
    {
     "name": "stdout",
     "output_type": "stream",
     "text": [
      "Reversed string: tall-is-giraffe\n"
     ]
    }
   ],
   "source": [
    "# Function to reverse words and join them with a hyphen\n",
    "def reverse_and_join(words):\n",
    "    # Reverse the list of words and join them with a hyphen\n",
    "    return '-'.join(reversed(words))\n",
    "\n",
    "# Input: List of words\n",
    "words = input(\"Enter the list of words separated by space: \").split()\n",
    "\n",
    "# Call the function and print the result\n",
    "result = reverse_and_join(words)\n",
    "print(f\"Reversed string: {result}\")\n"
   ]
  },
  {
   "cell_type": "markdown",
   "metadata": {},
   "source": [
    "prac 3 - \n",
    "1.  Create a list of the first 10 positive integers and print the sum of the even numbers in the list."
   ]
  },
  {
   "cell_type": "code",
   "execution_count": 3,
   "metadata": {},
   "outputs": [
    {
     "name": "stdout",
     "output_type": "stream",
     "text": [
      "Sum of even numbers in the list: 30\n"
     ]
    }
   ],
   "source": [
    "# Create a list of the first 10 positive integers\n",
    "numbers = list(range(1, 11))\n",
    "\n",
    "# Calculate the sum of even numbers in the list using a list comprehension\n",
    "even_sum = sum([num for num in numbers if num % 2 == 0])\n",
    "\n",
    "# Output the result\n",
    "print(f\"Sum of even numbers in the list: {even_sum}\")\n"
   ]
  },
  {
   "cell_type": "markdown",
   "metadata": {},
   "source": [
    "2.  Given the tuple (10, 20, 30, 40, 50), use slicing to print a new tuple containing only the last three elements. \n"
   ]
  },
  {
   "cell_type": "code",
   "execution_count": 4,
   "metadata": {},
   "outputs": [
    {
     "name": "stdout",
     "output_type": "stream",
     "text": [
      "(30, 40, 50)\n"
     ]
    }
   ],
   "source": [
    "# Given tuple\n",
    "t = (10, 20, 30, 40, 50)\n",
    "\n",
    "# Slicing to get the last three elements\n",
    "last_three_elements = t[-3:]\n",
    "\n",
    "# Output the new tuple\n",
    "print(last_three_elements)\n"
   ]
  },
  {
   "cell_type": "markdown",
   "metadata": {},
   "source": [
    "3.  Create a set of the numbers {1, 2, 3, 4, 5} and compute the intersection with {4, 5, 6, 7}; print the result. "
   ]
  },
  {
   "cell_type": "code",
   "execution_count": 5,
   "metadata": {},
   "outputs": [
    {
     "name": "stdout",
     "output_type": "stream",
     "text": [
      "{4, 5}\n"
     ]
    }
   ],
   "source": [
    "# Create two sets\n",
    "set1 = {1, 2, 3, 4, 5}\n",
    "set2 = {4, 5, 6, 7}\n",
    "\n",
    "# Compute the intersection of the two sets\n",
    "intersection = set1 & set2\n",
    "\n",
    "# Output the result\n",
    "print(intersection)\n"
   ]
  },
  {
   "cell_type": "markdown",
   "metadata": {},
   "source": [
    "4.  Define a dictionary with the keys 'a', 'b', and 'c' and their respective values 1, 2, and 3, then update the value for key 'b' to 10 and print the updated dictionary. "
   ]
  },
  {
   "cell_type": "code",
   "execution_count": 6,
   "metadata": {},
   "outputs": [
    {
     "name": "stdout",
     "output_type": "stream",
     "text": [
      "{'a': 1, 'b': 10, 'c': 3}\n"
     ]
    }
   ],
   "source": [
    "# Define the dictionary\n",
    "my_dict = {'a': 1, 'b': 2, 'c': 3}\n",
    "\n",
    "# Update the value for key 'b' to 10\n",
    "my_dict['b'] = 10\n",
    "\n",
    "# Output the updated dictionary\n",
    "print(my_dict)\n"
   ]
  },
  {
   "cell_type": "markdown",
   "metadata": {},
   "source": [
    "5.  Using a list comprehension, create a list of squares for the numbers from 1 to 5 and print the resulting list. \n"
   ]
  },
  {
   "cell_type": "code",
   "execution_count": 7,
   "metadata": {},
   "outputs": [
    {
     "name": "stdout",
     "output_type": "stream",
     "text": [
      "[1, 4, 9, 16, 25]\n"
     ]
    }
   ],
   "source": [
    "# List comprehension to create a list of squares from 1 to 5\n",
    "squares = [x**2 for x in range(1, 6)]\n",
    "\n",
    "# Output the resulting list\n",
    "print(squares)\n"
   ]
  },
  {
   "cell_type": "markdown",
   "metadata": {},
   "source": [
    "6.  Create a tuple with elements 'cat', 'dog', and 'bird', then check and print whether 'dog' is in the tuple.\n"
   ]
  },
  {
   "cell_type": "code",
   "execution_count": 8,
   "metadata": {},
   "outputs": [
    {
     "name": "stdout",
     "output_type": "stream",
     "text": [
      "True\n"
     ]
    }
   ],
   "source": [
    "# Create the tuple\n",
    "animals = ('cat', 'dog', 'bird')\n",
    "\n",
    "# Check if 'dog' is in the tuple\n",
    "is_dog_in_tuple = 'dog' in animals\n",
    "\n",
    "# Output the result\n",
    "print(is_dog_in_tuple)\n"
   ]
  },
  {
   "cell_type": "markdown",
   "metadata": {},
   "source": [
    "7.  Given the list [1, 1, 2, 3, 5, 8, 13], convert it to a set and print the set’s length."
   ]
  },
  {
   "cell_type": "code",
   "execution_count": 9,
   "metadata": {},
   "outputs": [
    {
     "name": "stdout",
     "output_type": "stream",
     "text": [
      "6\n"
     ]
    }
   ],
   "source": [
    "# Given list\n",
    "my_list = [1, 1, 2, 3, 5, 8, 13]\n",
    "\n",
    "# Convert the list to a set to remove duplicates\n",
    "my_set = set(my_list)\n",
    "\n",
    "# Output the length of the set\n",
    "print(len(my_set))\n"
   ]
  },
  {
   "cell_type": "markdown",
   "metadata": {},
   "source": [
    "8. Create two dictionaries {'A': [1, 2], 'B': [3, 4]} and {'B': [5, 6], 'C': [7, 8]}, then merge them into one dictionary and print the result. "
   ]
  },
  {
   "cell_type": "code",
   "execution_count": 10,
   "metadata": {},
   "outputs": [
    {
     "name": "stdout",
     "output_type": "stream",
     "text": [
      "{'A': [1, 2], 'B': [5, 6], 'C': [7, 8]}\n"
     ]
    }
   ],
   "source": [
    "# Define the two dictionaries\n",
    "dict1 = {'A': [1, 2], 'B': [3, 4]}\n",
    "dict2 = {'B': [5, 6], 'C': [7, 8]}\n",
    "\n",
    "# Merge the dictionaries\n",
    "merged_dict = {**dict1, **dict2}\n",
    "\n",
    "# Output the merged dictionary\n",
    "print(merged_dict)\n"
   ]
  },
  {
   "cell_type": "markdown",
   "metadata": {},
   "source": [
    "9.  For the list [3, 5, 7, 3, 5, 9, 3], create a dictionary to count the occurrences of each element and print the dictionary. \n"
   ]
  },
  {
   "cell_type": "code",
   "execution_count": 11,
   "metadata": {},
   "outputs": [
    {
     "name": "stdout",
     "output_type": "stream",
     "text": [
      "{3: 3, 5: 2, 7: 1, 9: 1}\n"
     ]
    }
   ],
   "source": [
    "# Given list\n",
    "my_list = [3, 5, 7, 3, 5, 9, 3]\n",
    "\n",
    "# Create a dictionary to count occurrences using a loop\n",
    "occurrences = {}\n",
    "\n",
    "for num in my_list:\n",
    "    if num in occurrences:\n",
    "        occurrences[num] += 1\n",
    "    else:\n",
    "        occurrences[num] = 1\n",
    "\n",
    "# Output the dictionary\n",
    "print(occurrences)\n"
   ]
  },
  {
   "cell_type": "markdown",
   "metadata": {},
   "source": [
    "10. Define a tuple (1, 2, 3, 4, 5) and find the maximum and minimum values in the tuple; print both values. "
   ]
  },
  {
   "cell_type": "code",
   "execution_count": 12,
   "metadata": {},
   "outputs": [
    {
     "name": "stdout",
     "output_type": "stream",
     "text": [
      "Maximum value: 5\n",
      "Minimum value: 1\n"
     ]
    }
   ],
   "source": [
    "# Define the tuple\n",
    "my_tuple = (1, 2, 3, 4, 5)\n",
    "\n",
    "# Find the maximum and minimum values\n",
    "max_value = max(my_tuple)\n",
    "min_value = min(my_tuple)\n",
    "\n",
    "# Output the results\n",
    "print(f\"Maximum value: {max_value}\")\n",
    "print(f\"Minimum value: {min_value}\")\n"
   ]
  },
  {
   "cell_type": "markdown",
   "metadata": {},
   "source": [
    "11. Given a list of integers [12, 15, 18, 20, 22, 25, 30], calculate and print the variance using the statistics module."
   ]
  },
  {
   "cell_type": "code",
   "execution_count": 13,
   "metadata": {},
   "outputs": [
    {
     "name": "stdout",
     "output_type": "stream",
     "text": [
      "Variance: 36.904761904761905\n"
     ]
    }
   ],
   "source": [
    "import statistics\n",
    "\n",
    "# Given list of integers\n",
    "numbers = [12, 15, 18, 20, 22, 25, 30]\n",
    "\n",
    "# Calculate the variance\n",
    "variance = statistics.variance(numbers)\n",
    "\n",
    "# Output the result\n",
    "print(f\"Variance: {variance}\")\n"
   ]
  },
  {
   "cell_type": "markdown",
   "metadata": {},
   "source": [
    "12. Create a dictionary where keys are product names and values are their sales numbers; calculate and print the total sales across all products. "
   ]
  },
  {
   "cell_type": "code",
   "execution_count": 14,
   "metadata": {},
   "outputs": [
    {
     "name": "stdout",
     "output_type": "stream",
     "text": [
      "Total sales across all products: 500\n"
     ]
    }
   ],
   "source": [
    "# Create a dictionary with product names and their sales numbers\n",
    "sales_data = {\n",
    "    'Product A': 150,\n",
    "    'Product B': 200,\n",
    "    'Product C': 100,\n",
    "    'Product D': 50\n",
    "}\n",
    "\n",
    "# Calculate the total sales by summing the values of the dictionary\n",
    "total_sales = sum(sales_data.values())\n",
    "\n",
    "# Output the result\n",
    "print(f\"Total sales across all products: {total_sales}\")\n"
   ]
  },
  {
   "cell_type": "markdown",
   "metadata": {},
   "source": [
    "13. From a list of temperatures [22, 25, 19, 30, 28, 32, 26], find and print the highest and lowest temperatures using the max () and min() functions."
   ]
  },
  {
   "cell_type": "code",
   "execution_count": 15,
   "metadata": {},
   "outputs": [
    {
     "name": "stdout",
     "output_type": "stream",
     "text": [
      "Highest temperature: 32\n",
      "Lowest temperature: 19\n"
     ]
    }
   ],
   "source": [
    "# Given list of temperatures\n",
    "temperatures = [22, 25, 19, 30, 28, 32, 26]\n",
    "\n",
    "# Find the highest and lowest temperatures\n",
    "highest_temp = max(temperatures)\n",
    "lowest_temp = min(temperatures)\n",
    "\n",
    "# Output the results\n",
    "print(f\"Highest temperature: {highest_temp}\")\n",
    "print(f\"Lowest temperature: {lowest_temp}\")\n"
   ]
  },
  {
   "cell_type": "markdown",
   "metadata": {},
   "source": [
    "14. Create a list of tuples representing student scores [(90, 'Alice'), (85, 'Bob'), (88, 'Charlie')] and print the name of the student with the highest score. "
   ]
  },
  {
   "cell_type": "code",
   "execution_count": 16,
   "metadata": {},
   "outputs": [
    {
     "name": "stdout",
     "output_type": "stream",
     "text": [
      "Student with the highest score: Alice\n"
     ]
    }
   ],
   "source": [
    "# List of tuples representing student scores\n",
    "student_scores = [(90, 'Alice'), (85, 'Bob'), (88, 'Charlie')]\n",
    "\n",
    "# Find the student with the highest score\n",
    "top_student = max(student_scores, key=lambda x: x[0])\n",
    "\n",
    "# Output the result\n",
    "print(f\"Student with the highest score: {top_student[1]}\")\n"
   ]
  },
  {
   "cell_type": "markdown",
   "metadata": {},
   "source": [
    "15. Given a list of numbers [2, 4, 6, 8, 10], compute and print the cumulative sum of the list using a loop. "
   ]
  },
  {
   "cell_type": "code",
   "execution_count": 17,
   "metadata": {},
   "outputs": [
    {
     "name": "stdout",
     "output_type": "stream",
     "text": [
      "2\n",
      "6\n",
      "12\n",
      "20\n",
      "30\n"
     ]
    }
   ],
   "source": [
    "# Given list of numbers\n",
    "numbers = [2, 4, 6, 8, 10]\n",
    "\n",
    "# Initialize a variable to store the cumulative sum\n",
    "cumulative_sum = 0\n",
    "\n",
    "# Loop through the list and calculate the cumulative sum\n",
    "for num in numbers:\n",
    "    cumulative_sum += num\n",
    "    print(cumulative_sum)\n"
   ]
  },
  {
   "cell_type": "markdown",
   "metadata": {},
   "source": [
    "16. Create a list of squares for numbers 1 through 10 using a list comprehension. "
   ]
  },
  {
   "cell_type": "code",
   "execution_count": 18,
   "metadata": {},
   "outputs": [
    {
     "name": "stdout",
     "output_type": "stream",
     "text": [
      "[1, 4, 9, 16, 25, 36, 49, 64, 81, 100]\n"
     ]
    }
   ],
   "source": [
    "# List comprehension to create a list of squares for numbers 1 through 10\n",
    "squares = [x**2 for x in range(1, 11)]\n",
    "\n",
    "# Output the resulting list\n",
    "print(squares)\n"
   ]
  },
  {
   "cell_type": "markdown",
   "metadata": {},
   "source": [
    "17. Create a list that replaces every number divisible by 3 with \"Fizz\", every number divisible by 5 with \"Buzz\", and numbers divisible by both with \"FizzBuzz\", for numbers 1 through 15"
   ]
  },
  {
   "cell_type": "code",
   "execution_count": 19,
   "metadata": {},
   "outputs": [
    {
     "name": "stdout",
     "output_type": "stream",
     "text": [
      "[1, 2, 'Fizz', 4, 'Buzz', 'Fizz', 7, 8, 'Fizz', 'Buzz', 11, 'Fizz', 13, 14, 'FizzBuzz']\n"
     ]
    }
   ],
   "source": [
    "# List comprehension to replace numbers based on divisibility rules\n",
    "result = [\n",
    "    \"FizzBuzz\" if x % 3 == 0 and x % 5 == 0 \n",
    "    else \"Fizz\" if x % 3 == 0 \n",
    "    else \"Buzz\" if x % 5 == 0 \n",
    "    else x\n",
    "    for x in range(1, 16)\n",
    "]\n",
    "\n",
    "# Output the resulting list\n",
    "print(result)\n"
   ]
  },
  {
   "cell_type": "markdown",
   "metadata": {},
   "source": [
    "18. Create a list of numbers from 1 to 100 that are divisible by both 2 and 5."
   ]
  },
  {
   "cell_type": "code",
   "execution_count": 20,
   "metadata": {},
   "outputs": [
    {
     "name": "stdout",
     "output_type": "stream",
     "text": [
      "[10, 20, 30, 40, 50, 60, 70, 80, 90, 100]\n"
     ]
    }
   ],
   "source": [
    "# List comprehension to find numbers divisible by both 2 and 5\n",
    "divisible_by_2_and_5 = [x for x in range(1, 101) if x % 2 == 0 and x % 5 == 0]\n",
    "\n",
    "# Output the resulting list\n",
    "print(divisible_by_2_and_5)\n"
   ]
  },
  {
   "cell_type": "markdown",
   "metadata": {},
   "source": [
    "19. Write a program that takes a dictionary where each value is a list and converts it into a dictionary where each value is a set containing the unique elements from the original list."
   ]
  },
  {
   "cell_type": "code",
   "execution_count": 21,
   "metadata": {},
   "outputs": [
    {
     "name": "stdout",
     "output_type": "stream",
     "text": [
      "{'a': {1, 2, 3}, 'b': {4, 5, 6}, 'c': {8, 9, 7}}\n"
     ]
    }
   ],
   "source": [
    "# Given dictionary with lists as values\n",
    "original_dict = {\n",
    "    'a': [1, 2, 3, 2, 1],\n",
    "    'b': [4, 5, 6, 5, 4],\n",
    "    'c': [7, 8, 9, 7, 9]\n",
    "}\n",
    "\n",
    "# Convert lists to sets (removing duplicates)\n",
    "converted_dict = {key: set(value) for key, value in original_dict.items()}\n",
    "\n",
    "# Output the resulting dictionary\n",
    "print(converted_dict)\n"
   ]
  },
  {
   "cell_type": "markdown",
   "metadata": {},
   "source": [
    " \n",
    "20. Write a program that takes two dictionaries and returns a set of keys that are present in the first dictionary but not in the second."
   ]
  },
  {
   "cell_type": "code",
   "execution_count": 22,
   "metadata": {},
   "outputs": [
    {
     "name": "stdout",
     "output_type": "stream",
     "text": [
      "{'c', 'a'}\n"
     ]
    }
   ],
   "source": [
    "# Define two dictionaries\n",
    "dict1 = {'a': 1, 'b': 2, 'c': 3, 'd': 4}\n",
    "dict2 = {'b': 2, 'd': 4, 'e': 5}\n",
    "\n",
    "# Find the keys present in dict1 but not in dict2\n",
    "keys_in_dict1_not_in_dict2 = set(dict1.keys()) - set(dict2.keys())\n",
    "\n",
    "# Output the result\n",
    "print(keys_in_dict1_not_in_dict2)\n"
   ]
  },
  {
   "cell_type": "markdown",
   "metadata": {},
   "source": [
    " \n",
    "21. Write a function that takes two sets of tuples and returns a tuple containing three sets: \n",
    "Elements that are in both sets. \n",
    "Elements that are only in the first set. \n",
    "Elements that are only in the second set."
   ]
  },
  {
   "cell_type": "code",
   "execution_count": 23,
   "metadata": {},
   "outputs": [
    {
     "name": "stdout",
     "output_type": "stream",
     "text": [
      "({(3, 4)}, {(1, 2), (5, 6)}, {(9, 10), (7, 8)})\n"
     ]
    }
   ],
   "source": [
    "def compare_sets(set1, set2):\n",
    "    # Elements that are in both sets (intersection)\n",
    "    intersection = set1 & set2\n",
    "    \n",
    "    # Elements that are only in the first set (difference)\n",
    "    only_in_set1 = set1 - set2\n",
    "    \n",
    "    # Elements that are only in the second set (difference)\n",
    "    only_in_set2 = set2 - set1\n",
    "    \n",
    "    # Return the result as a tuple of three sets\n",
    "    return (intersection, only_in_set1, only_in_set2)\n",
    "\n",
    "# Example sets of tuples\n",
    "set1 = {(1, 2), (3, 4), (5, 6)}\n",
    "set2 = {(3, 4), (7, 8), (9, 10)}\n",
    "\n",
    "# Call the function and print the result\n",
    "result = compare_sets(set1, set2)\n",
    "print(result)\n"
   ]
  },
  {
   "cell_type": "markdown",
   "metadata": {},
   "source": [
    " \n",
    "22. Write a program that takes a list of sets and returns a single set that is the union of all the sets in the list. "
   ]
  },
  {
   "cell_type": "code",
   "execution_count": 24,
   "metadata": {},
   "outputs": [
    {
     "name": "stdout",
     "output_type": "stream",
     "text": [
      "{1, 2, 3, 4, 5, 6, 7}\n"
     ]
    }
   ],
   "source": [
    "def union_of_sets(list_of_sets):\n",
    "    # Use set union to combine all sets in the list\n",
    "    result_set = set().union(*list_of_sets)\n",
    "    return result_set\n",
    "\n",
    "# Example list of sets\n",
    "sets_list = [{1, 2, 3}, {3, 4, 5}, {5, 6, 7}]\n",
    "\n",
    "# Call the function and print the result\n",
    "result = union_of_sets(sets_list)\n",
    "print(result)\n"
   ]
  },
  {
   "cell_type": "markdown",
   "metadata": {},
   "source": [
    "23. Write a program that takes a list of tuples and rotates each tuple by a given number of positions. For example, rotating (1, 2, 3, 4) by 2 positions would result in (3, 4, 1,2)."
   ]
  },
  {
   "cell_type": "code",
   "execution_count": 25,
   "metadata": {},
   "outputs": [
    {
     "name": "stdout",
     "output_type": "stream",
     "text": [
      "[(3, 4, 1, 2), (7, 8, 5, 6), (11, 12, 9, 10)]\n"
     ]
    }
   ],
   "source": [
    "def rotate_tuple(tup, positions):\n",
    "    # Rotate the tuple by slicing and concatenating\n",
    "    return tup[positions:] + tup[:positions]\n",
    "\n",
    "def rotate_tuples_in_list(list_of_tuples, positions):\n",
    "    # Apply rotation to each tuple in the list\n",
    "    return [rotate_tuple(tup, positions) for tup in list_of_tuples]\n",
    "\n",
    "# Example list of tuples\n",
    "tuples_list = [(1, 2, 3, 4), (5, 6, 7, 8), (9, 10, 11, 12)]\n",
    "\n",
    "# Number of positions to rotate each tuple\n",
    "positions = 2\n",
    "\n",
    "# Call the function and print the result\n",
    "result = rotate_tuples_in_list(tuples_list, positions)\n",
    "print(result)\n"
   ]
  },
  {
   "cell_type": "markdown",
   "metadata": {},
   "source": [
    "24. Write a program that takes a list of tuples where each tuple contains integers and returns the tuple with the highest sum of its elements."
   ]
  },
  {
   "cell_type": "code",
   "execution_count": 26,
   "metadata": {},
   "outputs": [
    {
     "name": "stdout",
     "output_type": "stream",
     "text": [
      "(10, 20)\n"
     ]
    }
   ],
   "source": [
    "def tuple_with_highest_sum(list_of_tuples):\n",
    "    # Use max() with key to find the tuple with the highest sum of elements\n",
    "    return max(list_of_tuples, key=sum)\n",
    "\n",
    "# Example list of tuples\n",
    "tuples_list = [(1, 2, 3), (4, 5, 6), (7, 8, 9), (10, 20)]\n",
    "\n",
    "# Call the function and print the result\n",
    "result = tuple_with_highest_sum(tuples_list)\n",
    "print(result)\n"
   ]
  },
  {
   "cell_type": "markdown",
   "metadata": {},
   "source": [
    "EXPERIMENT 4 ---------------\n",
    "\n",
    "\n",
    "\n",
    "Q1. Define a function multiply(x, y) that returns the product of x and y"
   ]
  },
  {
   "cell_type": "code",
   "execution_count": 27,
   "metadata": {},
   "outputs": [],
   "source": [
    "def multiply(x, y):\n",
    "    return x * y\n"
   ]
  },
  {
   "cell_type": "markdown",
   "metadata": {},
   "source": [
    "2. Write a function is_even(num) that returns True if num is even, and False otherwise."
   ]
  },
  {
   "cell_type": "code",
   "execution_count": 28,
   "metadata": {},
   "outputs": [],
   "source": [
    "def is_even(num):\n",
    "    return num % 2 == 0\n"
   ]
  },
  {
   "cell_type": "markdown",
   "metadata": {},
   "source": [
    "3. Create a function concat_strings(s1, s2) that returns the concatenation of s1 and s2."
   ]
  },
  {
   "cell_type": "code",
   "execution_count": 29,
   "metadata": {},
   "outputs": [],
   "source": [
    "def concat_strings(s1, s2):\n",
    "    return s1 + s2\n"
   ]
  },
  {
   "cell_type": "markdown",
   "metadata": {},
   "source": [
    "4. Define max_of_two(a, b) that returns the larger of a and b."
   ]
  },
  {
   "cell_type": "code",
   "execution_count": 30,
   "metadata": {},
   "outputs": [],
   "source": [
    "def max_of_two(a, b):\n",
    "    return a if a > b else b\n"
   ]
  },
  {
   "cell_type": "markdown",
   "metadata": {},
   "source": [
    "5. Write a recursive function count_down(n) that prints numbers from n down to 1."
   ]
  },
  {
   "cell_type": "code",
   "execution_count": 31,
   "metadata": {},
   "outputs": [],
   "source": [
    "def count_down(n):\n",
    "    if n > 0:\n",
    "        print(n)\n",
    "        count_down(n - 1)\n"
   ]
  },
  {
   "cell_type": "markdown",
   "metadata": {},
   "source": [
    "6. Create a recursive function sum_of_list(lst) that returns the sum of all elements in the list lst."
   ]
  },
  {
   "cell_type": "code",
   "execution_count": 32,
   "metadata": {},
   "outputs": [],
   "source": [
    "def sum_of_list(lst):\n",
    "    if len(lst) == 0:\n",
    "        return 0\n",
    "    return lst[0] + sum_of_list(lst[1:])\n"
   ]
  },
  {
   "cell_type": "markdown",
   "metadata": {},
   "source": [
    "7. Define a recursive function find_max(lst) that returns the maximum value in the list lst."
   ]
  },
  {
   "cell_type": "code",
   "execution_count": 33,
   "metadata": {},
   "outputs": [],
   "source": [
    "def find_max(lst):\n",
    "    if len(lst) == 1:\n",
    "        return lst[0]\n",
    "    else:\n",
    "        max_rest = find_max(lst[1:])\n",
    "        return lst[0] if lst[0] > max_rest else max_rest\n"
   ]
  },
  {
   "cell_type": "markdown",
   "metadata": {},
   "source": [
    "8. Write a function reverse_list(lst) that reverses the list lst using recursion."
   ]
  },
  {
   "cell_type": "code",
   "execution_count": 34,
   "metadata": {},
   "outputs": [],
   "source": [
    "def reverse_list(lst):\n",
    "    if len(lst) == 0:\n",
    "        return lst\n",
    "    return reverse_list(lst[1:]) + [lst[0]]\n"
   ]
  },
  {
   "cell_type": "markdown",
   "metadata": {},
   "source": [
    "9. Create a recursive function string_length(s) that returns the length of the string s."
   ]
  },
  {
   "cell_type": "code",
   "execution_count": 35,
   "metadata": {},
   "outputs": [],
   "source": [
    "def string_length(s):\n",
    "    if s == \"\":\n",
    "        return 0\n",
    "    return 1 + string_length(s[1:])\n"
   ]
  },
  {
   "cell_type": "markdown",
   "metadata": {},
   "source": [
    "10. Define power(base, exp) that calculates base raised to the power of exp using recursion."
   ]
  },
  {
   "cell_type": "code",
   "execution_count": 38,
   "metadata": {},
   "outputs": [],
   "source": [
    "def power(base, exp):\n",
    "    if exp == 0:\n",
    "        return 1\n",
    "    return base * power(base, exp - 1)\n"
   ]
  },
  {
   "cell_type": "markdown",
   "metadata": {},
   "source": [
    "11. Write a recursive function print_pattern(n) that prints a pattern of * in n rows."
   ]
  },
  {
   "cell_type": "code",
   "execution_count": 39,
   "metadata": {},
   "outputs": [],
   "source": [
    "def print_pattern(n):\n",
    "    if n > 0:\n",
    "        print('*' * n)\n",
    "        print_pattern(n - 1)\n"
   ]
  },
  {
   "cell_type": "markdown",
   "metadata": {},
   "source": [
    "12. Create a recursive function factorial(n) that returns the factorial of n."
   ]
  },
  {
   "cell_type": "code",
   "execution_count": 40,
   "metadata": {},
   "outputs": [],
   "source": [
    "def factorial(n):\n",
    "    if n == 0 or n == 1:\n",
    "        return 1\n",
    "    return n * factorial(n - 1)"
   ]
  },
  {
   "cell_type": "markdown",
   "metadata": {},
   "source": [
    "13. Write a function that merges two dictionaries. The merger should handle cases where the dictionaries have overlapping keys by storing values in a list."
   ]
  },
  {
   "cell_type": "code",
   "execution_count": 41,
   "metadata": {},
   "outputs": [],
   "source": [
    "def merge_dicts(dict1, dict2):\n",
    "    result = dict1.copy()\n",
    "    for key, value in dict2.items():\n",
    "        if key in result:\n",
    "            result[key] = [result[key], value] if isinstance(result[key], list) else [result[key], value]\n",
    "        else:\n",
    "            result[key] = value\n",
    "    return result\n"
   ]
  },
  {
   "cell_type": "markdown",
   "metadata": {},
   "source": [
    "14. Write program using lambda function to display numbers divisible by 9 from the given list."
   ]
  },
  {
   "cell_type": "code",
   "execution_count": 42,
   "metadata": {},
   "outputs": [
    {
     "name": "stdout",
     "output_type": "stream",
     "text": [
      "[9, 18, 27, 45]\n"
     ]
    }
   ],
   "source": [
    "nums = [1, 9, 18, 27, 30, 45, 50]\n",
    "div_by_9 = list(filter(lambda x: x % 9 == 0, nums))\n",
    "print(div_by_9)"
   ]
  },
  {
   "cell_type": "markdown",
   "metadata": {},
   "source": [
    "15. Write a Python program to sort a list of tuples using Lambda."
   ]
  },
  {
   "cell_type": "code",
   "execution_count": 43,
   "metadata": {},
   "outputs": [
    {
     "name": "stdout",
     "output_type": "stream",
     "text": [
      "[('Social sciences', 82), ('English', 88), ('Science', 90), ('Maths', 97)]\n"
     ]
    }
   ],
   "source": [
    "tuples = [('English', 88), ('Science', 90), ('Maths', 97), ('Social sciences', 82)]\n",
    "sorted_tuples = sorted(tuples, key=lambda x: x[1])\n",
    "print(sorted_tuples)\n"
   ]
  },
  {
   "cell_type": "markdown",
   "metadata": {},
   "source": [
    "16. Write a Python program to find the intersection of two given arrays using Lambda."
   ]
  },
  {
   "cell_type": "code",
   "execution_count": 44,
   "metadata": {},
   "outputs": [
    {
     "name": "stdout",
     "output_type": "stream",
     "text": [
      "[1, 2, 8, 9]\n"
     ]
    }
   ],
   "source": [
    "arr1 = [1, 2, 3, 5, 7, 8, 9, 10]\n",
    "arr2 = [1, 2, 4, 8, 9]\n",
    "intersection = list(filter(lambda x: x in arr1, arr2))\n",
    "print(intersection)\n"
   ]
  },
  {
   "cell_type": "markdown",
   "metadata": {},
   "source": [
    "17. Write a Python program to add two given lists using map and lambda."
   ]
  },
  {
   "cell_type": "code",
   "execution_count": 45,
   "metadata": {},
   "outputs": [
    {
     "name": "stdout",
     "output_type": "stream",
     "text": [
      "[5, 7, 9]\n"
     ]
    }
   ],
   "source": [
    "list1 = [1, 2, 3]\n",
    "list2 = [4, 5, 6]\n",
    "result = list(map(lambda x, y: x + y, list1, list2))\n",
    "print(result)\n"
   ]
  },
  {
   "cell_type": "markdown",
   "metadata": {},
   "source": [
    "18. Write a Python program to remove all elements from a given list present in another list using lambda."
   ]
  },
  {
   "cell_type": "code",
   "execution_count": 46,
   "metadata": {},
   "outputs": [
    {
     "name": "stdout",
     "output_type": "stream",
     "text": [
      "[1, 3, 5, 7, 9, 10]\n"
     ]
    }
   ],
   "source": [
    "list1 = [1, 2, 3, 4, 5, 6, 7, 8, 9, 10]\n",
    "list2 = [2, 4, 6, 8]\n",
    "result = list(filter(lambda x: x not in list2, list1))\n",
    "print(result)\n"
   ]
  },
  {
   "cell_type": "markdown",
   "metadata": {},
   "source": [
    "19. (a) Read the total marks of 5 students and convert it to the percentage.\n",
    "(b) Filter the top 3 students' percentage."
   ]
  },
  {
   "cell_type": "code",
   "execution_count": 47,
   "metadata": {},
   "outputs": [
    {
     "name": "stdout",
     "output_type": "stream",
     "text": [
      "[('David', 96.0), ('Alice', 90.0), ('Eva', 84.0)]\n"
     ]
    }
   ],
   "source": [
    "marks = {'Alice': 450, 'Bob': 400, 'Charlie': 350, 'David': 480, 'Eva': 420}\n",
    "total_marks = 500\n",
    "percentages = {name: (marks / total_marks) * 100 for name, marks in marks.items()}\n",
    "\n",
    "# Get top 3 students\n",
    "top_3_students = sorted(percentages.items(), key=lambda x: x[1], reverse=True)[:3]\n",
    "print(top_3_students)\n"
   ]
  },
  {
   "cell_type": "markdown",
   "metadata": {},
   "source": [
    "20. (a) In the list of numbers from 1 to 20, replace multiples of 3 with \"Fizz\", multiples of 5 with \"Buzz\", and multiples of both 3 and 5 with \"FizzBuzz\". Use the lambda function to get the task done."
   ]
  },
  {
   "cell_type": "code",
   "execution_count": 48,
   "metadata": {},
   "outputs": [
    {
     "name": "stdout",
     "output_type": "stream",
     "text": [
      "[1, 2, 'Fizz', 4, 'Buzz', 'Fizz', 7, 8, 'Fizz', 'Buzz', 11, 'Fizz', 13, 14, 'FizzBuzz', 16, 17, 'Fizz', 19, 'Buzz']\n",
      "Sum: 38, Average: 7.6\n"
     ]
    }
   ],
   "source": [
    "numbers = list(range(1, 21))\n",
    "result = list(map(lambda x: \"FizzBuzz\" if x % 3 == 0 and x % 5 == 0 else (\"Fizz\" if x % 3 == 0 else (\"Buzz\" if x % 5 == 0 else x)), numbers))\n",
    "print(result)\n",
    "\n",
    "numbers = [3, 5, 8, 10, 12]\n",
    "sum_numbers = sum(numbers)\n",
    "average = sum_numbers / len(numbers)\n",
    "print(f\"Sum: {sum_numbers}, Average: {average}\")\n",
    "\n"
   ]
  },
  {
   "cell_type": "markdown",
   "metadata": {},
   "source": [
    "21. Write a Python program to count the occurrences of items in a given list using lambda."
   ]
  },
  {
   "cell_type": "code",
   "execution_count": 49,
   "metadata": {},
   "outputs": [
    {
     "name": "stdout",
     "output_type": "stream",
     "text": [
      "{3: 4, 4: 2, 5: 3, 8: 2, 0: 2, 1: 1, 2: 2}\n"
     ]
    }
   ],
   "source": [
    "from collections import Counter\n",
    "nums = [3, 4, 5, 8, 0, 3, 8, 5, 0, 3, 1, 5, 2, 3, 4, 2]\n",
    "occurrences = dict(Counter(nums))\n",
    "print(occurrences)\n"
   ]
  },
  {
   "cell_type": "markdown",
   "metadata": {},
   "source": [
    "EXPERIMENT 5 -- \n",
    "\n",
    "1. Extract unique words from text, ignoring case and punctuation, and return a sorted list."
   ]
  },
  {
   "cell_type": "code",
   "execution_count": null,
   "metadata": {},
   "outputs": [],
   "source": [
    "import re\n",
    "\n",
    "def extract_unique_words(text):\n",
    "    words = re.findall(r'\\b\\w+\\b', text.lower())  # Extract words and ignore case\n",
    "    return sorted(set(words))\n",
    "\n",
    "# Example usage\n",
    "text = \"Hello world! Welcome to the world of Data Science.\"\n",
    "print(extract_unique_words(text))\n"
   ]
  },
  {
   "cell_type": "markdown",
   "metadata": {},
   "source": [
    "2. Identify and count distinct named entities using regular expressions."
   ]
  },
  {
   "cell_type": "code",
   "execution_count": null,
   "metadata": {},
   "outputs": [],
   "source": [
    "import re\n",
    "\n",
    "def count_named_entities(text):\n",
    "    named_entities = re.findall(r'\\b[A-Z][a-z]*\\s[A-Z][a-z]*\\b|\\b[A-Z][a-z]*\\b', text)\n",
    "    entity_count = {entity: named_entities.count(entity) for entity in set(named_entities)}\n",
    "    return entity_count\n",
    "\n",
    "# Example usage\n",
    "text = \"Barack Obama was born in Hawaii. Google is a major tech company.\"\n",
    "print(count_named_entities(text))\n"
   ]
  },
  {
   "cell_type": "markdown",
   "metadata": {},
   "source": [
    "3. Extract and normalize all dates in YYYY-MM-DD format."
   ]
  },
  {
   "cell_type": "code",
   "execution_count": null,
   "metadata": {},
   "outputs": [],
   "source": [
    "import re\n",
    "from datetime import datetime\n",
    "\n",
    "def extract_dates(text):\n",
    "    date_pattern = r'(\\d{2})[-/](\\d{2})[-/](\\d{4})'\n",
    "    matches = re.findall(date_pattern, text)\n",
    "    dates = [datetime.strptime(f'{y}-{m}-{d}', '%Y-%m-%d').date().strftime('%Y-%m-%d') for d, m, y in matches]\n",
    "    return dates\n",
    "\n",
    "# Example usage\n",
    "text = \"The event is scheduled for 12/31/2024 and the deadline is 01-15-2024.\"\n",
    "print(extract_dates(text))\n"
   ]
  },
  {
   "cell_type": "markdown",
   "metadata": {},
   "source": [
    "4. Extract key-value pairs from structured text and return them as a dictionary."
   ]
  },
  {
   "cell_type": "code",
   "execution_count": null,
   "metadata": {},
   "outputs": [],
   "source": [
    "import re\n",
    "\n",
    "def extract_key_value_pairs(text):\n",
    "    pattern = r'(\\w+):\\s?([\\w\\s]+)'\n",
    "    pairs = dict(re.findall(pattern, text))\n",
    "    return pairs\n",
    "\n",
    "# Example usage\n",
    "text = \"name: John Doe; age: 30; profession: Data Scientist\"\n",
    "print(extract_key_value_pairs(text))\n"
   ]
  },
  {
   "cell_type": "markdown",
   "metadata": {},
   "source": [
    "5. Extract and format phone numbers in (XXX) XXX-XXXX format."
   ]
  },
  {
   "cell_type": "code",
   "execution_count": null,
   "metadata": {},
   "outputs": [],
   "source": [
    "import re\n",
    "\n",
    "def extract_phone_numbers(text):\n",
    "    phone_pattern = r'(\\d{3})[-\\s]?\\d{3}[-\\s]?\\d{4}'\n",
    "    phone_numbers = re.findall(phone_pattern, text)\n",
    "    formatted_numbers = [f\"({num[:3]}) {num[3:6]}-{num[6:]}\" for num in phone_numbers]\n",
    "    return formatted_numbers\n",
    "\n",
    "# Example usage\n",
    "text = \"Contact me at 1234567890 or 987-654-3210.\"\n",
    "print(extract_phone_numbers(text))\n"
   ]
  },
  {
   "cell_type": "markdown",
   "metadata": {},
   "source": [
    "6. Detect and extract currency amounts, converting them to numeric format."
   ]
  },
  {
   "cell_type": "code",
   "execution_count": null,
   "metadata": {},
   "outputs": [],
   "source": [
    "import re\n",
    "\n",
    "def extract_currency(text):\n",
    "    currency_pattern = r'\\$\\s?([\\d,]+\\.\\d{2}|\\d+)'\n",
    "    amounts = re.findall(currency_pattern, text)\n",
    "    return [float(amount.replace(',', '')) for amount in amounts]\n",
    "\n",
    "# Example usage\n",
    "text = \"The price is $1,234.56 and $789.00 for the additional items.\"\n",
    "print(extract_currency(text))\n"
   ]
  },
  {
   "cell_type": "markdown",
   "metadata": {},
   "source": [
    "7. Extract email addresses from a specific domain (e.g., @example.com)."
   ]
  },
  {
   "cell_type": "code",
   "execution_count": null,
   "metadata": {},
   "outputs": [],
   "source": [
    "import re\n",
    "\n",
    "def extract_emails(text, domain=\"@example.com\"):\n",
    "    email_pattern = rf'\\b[A-Za-z0-9._%+-]+{domain}\\b'\n",
    "    return re.findall(email_pattern, text)\n",
    "\n",
    "# Example usage\n",
    "text = \"Please contact us at support@example.com or sales@otherdomain.com.\"\n",
    "print(extract_emails(text))\n"
   ]
  },
  {
   "cell_type": "markdown",
   "metadata": {},
   "source": [
    "8. Extract ISBN numbers from a text."
   ]
  },
  {
   "cell_type": "code",
   "execution_count": null,
   "metadata": {},
   "outputs": [],
   "source": [
    "import re\n",
    "\n",
    "def extract_isbn(text):\n",
    "    isbn_pattern = r'\\b\\d{3}[-]\\d{1}[-]\\d{2}[-]\\d{6}[-]\\d{1}\\b'\n",
    "    return re.findall(isbn_pattern, text)\n",
    "\n",
    "# Example usage\n",
    "text = \"The books have ISBN numbers like 978-3-16-148410-0 and 978-0-306-40615-7.\"\n",
    "print(extract_isbn(text))\n"
   ]
  },
  {
   "cell_type": "markdown",
   "metadata": {},
   "source": [
    "9. Extract URLs from text and distinguish between different types."
   ]
  },
  {
   "cell_type": "code",
   "execution_count": null,
   "metadata": {},
   "outputs": [],
   "source": [
    "import re\n",
    "\n",
    "def extract_urls(text):\n",
    "    url_pattern = r'(https?://[^\\s]+|ftp://[^\\s]+)'\n",
    "    return re.findall(url_pattern, text)\n",
    "\n",
    "# Example usage\n",
    "text = \"Visit our sites at http://example.com, https://secure-site.org, and ftp://files.example.net.\"\n",
    "print(extract_urls(text))\n"
   ]
  },
  {
   "cell_type": "markdown",
   "metadata": {},
   "source": [
    "10. Clean and preprocess text by removing HTML tags, unnecessary whitespace, and converting special characters."
   ]
  },
  {
   "cell_type": "code",
   "execution_count": null,
   "metadata": {},
   "outputs": [],
   "source": [
    "import re\n",
    "from html import unescape\n",
    "\n",
    "def clean_text(text):\n",
    "    text = re.sub(r'<.*?>', '', text)  # Remove HTML tags\n",
    "    text = re.sub(r'\\s+', ' ', text)  # Remove extra spaces\n",
    "    text = unescape(text)  # Convert special characters to plain text\n",
    "    return text.strip()\n",
    "\n",
    "# Example usage\n",
    "text = \"Hello <b>World</b>! This is a <a href='http://example.com'>link</a>.\"\n",
    "print(clean_text(text))\n"
   ]
  },
  {
   "cell_type": "markdown",
   "metadata": {},
   "source": [
    "11. Extract and sort all numerical values from a text."
   ]
  },
  {
   "cell_type": "code",
   "execution_count": null,
   "metadata": {},
   "outputs": [],
   "source": [
    "import re\n",
    "\n",
    "def extract_sorted_numbers(text):\n",
    "    numbers = re.findall(r'\\d+', text)\n",
    "    return sorted(map(int, numbers))\n",
    "\n",
    "# Example usage\n",
    "text = \"The quantities are 12 apples, 2 oranges, and 25 bananas.\"\n",
    "print(extract_sorted_numbers(text))\n"
   ]
  },
  {
   "cell_type": "markdown",
   "metadata": {},
   "source": [
    "12. Extract hashtags, mentions, and URLs from a social media post."
   ]
  },
  {
   "cell_type": "code",
   "execution_count": null,
   "metadata": {},
   "outputs": [],
   "source": [
    "import re\n",
    "\n",
    "def extract_social_media_data(text):\n",
    "    hashtags = re.findall(r'#\\w+', text)\n",
    "    mentions = re.findall(r'@\\w+', text)\n",
    "    urls = re.findall(r'https?://[^\\s]+', text)\n",
    "    \n",
    "    return {\n",
    "        'hashtags': hashtags,\n",
    "        'mentions': mentions,\n",
    "        'urls': urls\n",
    "    }\n",
    "\n",
    "# Example usage\n",
    "text = \"Check out #DataScience and @JohnDoe's post at http://example.com! #AI\"\n",
    "print(extract_social_media_data(text))\n"
   ]
  }
 ],
 "metadata": {
  "kernelspec": {
   "display_name": "Python 3",
   "language": "python",
   "name": "python3"
  },
  "language_info": {
   "codemirror_mode": {
    "name": "ipython",
    "version": 3
   },
   "file_extension": ".py",
   "mimetype": "text/x-python",
   "name": "python",
   "nbconvert_exporter": "python",
   "pygments_lexer": "ipython3",
   "version": "3.12.4"
  }
 },
 "nbformat": 4,
 "nbformat_minor": 2
}
