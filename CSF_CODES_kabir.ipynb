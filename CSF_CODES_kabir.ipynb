{
 "cells": [
  {
   "cell_type": "code",
   "execution_count": null,
   "id": "462347cd-7c04-40a8-9db8-85ecd668bbd0",
   "metadata": {},
   "outputs": [],
   "source": [
    "PAGE REPLACEMENT POLICIES\n"
   ]
  },
  {
   "cell_type": "code",
   "execution_count": null,
   "id": "a416e2a9-66f8-4bc6-80af-013da5393a95",
   "metadata": {},
   "outputs": [],
   "source": [
    "#FIFO\n",
    "def fifo(pages , capacity) :\n",
    "    cache = []\n",
    "    faults = 0\n",
    "    for page in pages:\n",
    "        if page not in cache:\n",
    "            if len(cache) >= capacity :\n",
    "                cache.pop(0)\n",
    "            cache.append(page)\n",
    "            faults += 1\n",
    "    return faults"
   ]
  },
  {
   "cell_type": "code",
   "execution_count": null,
   "id": "d5ee4274-1b6e-44ea-9982-8887c29cd51d",
   "metadata": {},
   "outputs": [],
   "source": [
    "#LRU\n",
    "def lru(pages , capacity) :\n",
    "    cache = []\n",
    "    faults = 0\n",
    "    for page in pages :\n",
    "        if page  in cache :\n",
    "            cache.remove(page)\n",
    "        else:\n",
    "            if len(cache) >= capacity :\n",
    "                cache.pop(0)\n",
    "            faults +=1\n",
    "            cache.append(page)\n",
    "    return faults"
   ]
  },
  {
   "cell_type": "code",
   "execution_count": null,
   "id": "7f23c865-a8dd-4992-80e2-0a53971a5a72",
   "metadata": {},
   "outputs": [],
   "source": [
    "#optimal\n",
    "def optimal(pages , capacity) :\n",
    "    cache = []\n",
    "    faults = 0\n",
    "    for i,page in enumerate(pages) :\n",
    "        if page not in cache :\n",
    "            if len(cache) >= capacity :\n",
    "                furthest = max(cache , key = lambda x : pages[i + 1:].index(x) if x in pages[i + 1:] else float('inf'))\n",
    "                cache.remove(furthest)\n",
    "            cache.append(page)\n",
    "            faults += 1\n",
    "    return faults\n",
    "    "
   ]
  },
  {
   "cell_type": "code",
   "execution_count": null,
   "id": "64c4beca-4ad7-4556-a1e3-6dc9e49391c1",
   "metadata": {},
   "outputs": [],
   "source": [
    "pages = [7, 0, 1, 2, 0, 3, 0, 4, 2, 3, 0, 3, 2]\n",
    "capacity = 4\n",
    "\n",
    "print(\"FIFO Faults:\", fifo(pages, capacity))\n",
    "print(\"LRU Faults:\", lru(pages, capacity))\n",
    "print(\"Optimal Faults:\", optimal(pages, capacity))"
   ]
  },
  {
   "cell_type": "markdown",
   "id": "e29460f0-e306-425d-8093-0dec049ead2a",
   "metadata": {},
   "source": [
    "BANKER'S ALGORITHM"
   ]
  },
  {
   "cell_type": "code",
   "execution_count": 20,
   "id": "9452b4c7-a736-4704-945e-0f6f8a52df58",
   "metadata": {},
   "outputs": [],
   "source": [
    "def bankers_algorithm( alloc , max_need , avail) :\n",
    "    n = len(alloc)\n",
    "    m = len(avail)\n",
    "    need = [[max_need[i][j] - alloc[i][j] for j in range(m)] for i in range (n)]\n",
    "    finish = [False] * n\n",
    "    safe_seq = []\n",
    "    def can_allocate(process) :\n",
    "        return all(need[process][j] <= avail[j] for j in range(m))\n",
    "    while len(safe_seq) < n :\n",
    "        allocated = False\n",
    "        for i in range(n) :\n",
    "            if not finish[i] and can_allocate(i) :\n",
    "                avail = [avail[j] + alloc[i][j] for j in range(m)]\n",
    "                finish[i] = True\n",
    "                safe_seq = safe_seq + [i]\n",
    "                allocated = True\n",
    "                break\n",
    "        if not allocated :\n",
    "            return \"Unsafe state\"\n",
    "    return safe_seq"
   ]
  },
  {
   "cell_type": "code",
   "execution_count": 21,
   "id": "0f1689fd-8152-4717-b8f1-3c55759e28b9",
   "metadata": {},
   "outputs": [
    {
     "name": "stdout",
     "output_type": "stream",
     "text": [
      "[1, 3, 0, 2, 4]\n"
     ]
    }
   ],
   "source": [
    "alloc = [[0, 1, 0], [2, 0, 0], [3, 0, 2], [2, 1, 1], [0, 0, 2]]\n",
    "max_need = [[7, 5, 3], [3, 2, 2], [9, 0, 2], [2, 2, 2], [4, 3, 3]]\n",
    "avail = [3, 3, 2]\n",
    "\n",
    "print(bankers_algorithm(alloc, max_need, avail))\n"
   ]
  },
  {
   "cell_type": "markdown",
   "id": "cf9c50aa-57e0-4862-bff2-07e7da3688cb",
   "metadata": {},
   "source": [
    "CACHE MEMORY MAPPING"
   ]
  },
  {
   "cell_type": "code",
   "execution_count": 22,
   "id": "0e9b10d8-c6f4-4055-93a7-e63b4522259a",
   "metadata": {},
   "outputs": [],
   "source": [
    "def fully_associative(addresses , cache_size) :\n",
    "    cache , hits , accesses = [] , 0 , len(addresses)\n",
    "    for addr in addresses :\n",
    "        if addr in cache :\n",
    "            hit += 1\n",
    "        elif len(cache) < cache_size :\n",
    "            cache.append(addr);\n",
    "        else :\n",
    "            cache.pop(0)\n",
    "            cache.append(addr)\n",
    "    return hits , accesses"
   ]
  },
  {
   "cell_type": "code",
   "execution_count": 23,
   "id": "4777a3b1-aa5c-4c5e-9280-2daf3a9b3a12",
   "metadata": {},
   "outputs": [],
   "source": [
    "addresses = [0, 1, 2, 3, 4, 5, 6, 7, 0, 1, 2, 3, 4, 5, 6, 7]\n",
    "cache_size = 4"
   ]
  },
  {
   "cell_type": "code",
   "execution_count": 26,
   "id": "bbb4a17f-2ef4-4935-88d0-92767cc43694",
   "metadata": {},
   "outputs": [
    {
     "name": "stdout",
     "output_type": "stream",
     "text": [
      "0 16 0.0\n"
     ]
    }
   ],
   "source": [
    "hits , accesses = fully_associative(addresses , cache_size)\n",
    "hit_rate = hits/accesses\n",
    "print(hits , accesses , hit_rate)"
   ]
  },
  {
   "cell_type": "markdown",
   "id": "0e437613-b3a8-4f1a-a3cb-ab0ca0e73a53",
   "metadata": {},
   "source": [
    "MEMORY ALLOCATION POLICY"
   ]
  },
  {
   "cell_type": "code",
   "execution_count": 31,
   "id": "4eeb4936-d2d8-4201-b935-aee4873f202f",
   "metadata": {},
   "outputs": [
    {
     "name": "stdout",
     "output_type": "stream",
     "text": [
      "First Fit: [2, 5, 2, -1]\n",
      "Best Fit: [4, 2, 3, 5]\n",
      "Worst Fit: [5, 2, 5, -1]\n"
     ]
    }
   ],
   "source": [
    "def allocate(blockSize , process_size , stratergy) :\n",
    "    allocation = [-1]* len(processSize)\n",
    "    for i , process in enumerate(processSize) :\n",
    "        if stratergy == \"first\" :\n",
    "            for j , block in enumerate(blockSize) :\n",
    "                if block >= process :\n",
    "                    allocation[i] = j + 1\n",
    "                    blockSize[j] = process\n",
    "                    break\n",
    "        elif stratergy == \"best\" :\n",
    "            best = -1\n",
    "            for j , block in enumerate(blockSize) :\n",
    "                if block >= process and (best == -1 or block < blockSize[best]) :\n",
    "                    best = j\n",
    "            if best != -1 :\n",
    "                allocation[i] = best + 1\n",
    "                blockSize[best] = process\n",
    "        elif stratergy == \"worst\" :\n",
    "            worst = -1\n",
    "            for j , block in enumerate(blockSize) :\n",
    "                if block >= process and (worst == -1 or block > blockSize[worst]):\n",
    "                    worst = j\n",
    "            if worst != -1 :\n",
    "                allocation[i] = worst + 1\n",
    "                blockSize [worst] -= process\n",
    "    return allocation\n",
    "\n",
    "blockSize = [100, 500, 200, 300, 600]\n",
    "processSize = [212, 417, 112, 426]\n",
    "\n",
    "print(\"First Fit:\", allocate(blockSize[:], processSize, \"first\"))\n",
    "print(\"Best Fit:\", allocate(blockSize[:], processSize, \"best\"))\n",
    "print(\"Worst Fit:\", allocate(blockSize[:], processSize, \"worst\"))\n"
   ]
  },
  {
   "cell_type": "markdown",
   "id": "7a008550-0c96-4373-8c1b-2ea3bc07d8aa",
   "metadata": {},
   "source": [
    "NON-PREEMPTIVE SCHEDULING"
   ]
  },
  {
   "cell_type": "code",
   "execution_count": 18,
   "id": "5fbf81db-0add-4643-aa01-6a4864461353",
   "metadata": {},
   "outputs": [
    {
     "name": "stdout",
     "output_type": "stream",
     "text": [
      "\n",
      "GANTT CHART :\n",
      "P1|P2|P3\n",
      "0 5 8 16\n",
      "Average Waiting Time: 3.3333333333333335\n",
      "Average Turnaround Time: 8.666666666666666\n"
     ]
    }
   ],
   "source": [
    "#FCFS\n",
    "def fcfs(processes , arrival, burst) :\n",
    "    n = len(processes)\n",
    "    start , finish , wait , tat = [0] * n , [0] * n , [0] * n , [0] * n\n",
    "    for i in range(n) :\n",
    "        start[i] = max(finish[i-1] if i>0 else 0 , arrival[i])\n",
    "        finish[i] = start[i] + burst[i]\n",
    "        wait[i] = start[i] - arrival[i]\n",
    "        tat[i] = finish[i] -arrival[i]\n",
    "    avg_wait = sum(wait)/n\n",
    "    avg_tat = sum(tat)/n\n",
    "\n",
    "    print(\"\\nGANTT CHART :\")\n",
    "    print(\"|\".join(f\"P{processes[i]}\" for i in range(n)))\n",
    "    print(\"0\",\" \".join(str(finish[i]) for i in range(n)))\n",
    "    return avg_wait , avg_tat\n",
    "processes = [1, 2, 3]\n",
    "arrival = [0, 1, 2]\n",
    "burst = [5, 3, 8]\n",
    "avg_wait, avg_tat = fcfs(processes, arrival, burst)\n",
    "print(f\"Average Waiting Time: {avg_wait}\")\n",
    "print(f\"Average Turnaround Time: {avg_tat}\")"
   ]
  },
  {
   "cell_type": "code",
   "execution_count": 26,
   "id": "cf47a43b-2853-4c3f-ae07-713f1980330c",
   "metadata": {},
   "outputs": [
    {
     "name": "stdout",
     "output_type": "stream",
     "text": [
      "\n",
      "Gantt Chart:\n",
      "P1 | P2 | P3\n",
      "0 5 8 16\n",
      "Average Waiting Time: 3.3333333333333335\n",
      "Average Turnaround Time: 8.666666666666666\n"
     ]
    }
   ],
   "source": [
    "def sjn(processes, arrival, burst):\n",
    "    n=len(processes)\n",
    "    time, finish, wait, tat = 0, [0] * n, [0] * n, [0] * n\n",
    "    remaining = list(range(n))\n",
    "    gantt = []\n",
    "    while remaining:\n",
    "        available = [i for i in remaining if arrival[i] <= time]\n",
    "        if not available:\n",
    "            time += 1\n",
    "            continue\n",
    "        shortest = min(available, key=lambda i: burst[i])\n",
    "        gantt.append(shortest)\n",
    "        time = max(time, arrival[shortest]) + burst[shortest]\n",
    "        finish[shortest] = time\n",
    "        wait[shortest] = time - arrival[shortest] - burst[shortest]\n",
    "        tat[shortest] = finish[shortest] - arrival[shortest]\n",
    "        remaining.remove(shortest)\n",
    "\n",
    "    avg_wait = sum(wait) / n\n",
    "    avg_tat = sum(tat) / n\n",
    "\n",
    "    print(\"\\nGantt Chart:\")\n",
    "    print(\" | \".join(f\"P{processes[i]}\" for i in gantt))\n",
    "    print(\"0\", \" \".join(str(finish[i]) for i in gantt))\n",
    "\n",
    "    return avg_wait, avg_tat\n",
    "\n",
    "# Example\n",
    "processes = [1, 2, 3]\n",
    "arrival = [0, 1, 2]\n",
    "burst = [5, 3, 8]\n",
    "avg_wait, avg_tat = sjn(processes, arrival, burst)\n",
    "print(f\"Average Waiting Time: {avg_wait}\")\n",
    "print(f\"Average Turnaround Time: {avg_tat}\")\n"
   ]
  },
  {
   "cell_type": "code",
   "execution_count": 34,
   "id": "1026979f-8490-4de2-8d53-b8050f111b35",
   "metadata": {},
   "outputs": [
    {
     "name": "stdout",
     "output_type": "stream",
     "text": [
      "\n",
      "Gantt Chart:\n",
      "P1 | P2 | P3\n",
      "0 5 8 16\n",
      "Average Waiting Time: 3.3333333333333335\n",
      "Average Turnaround Time: 8.666666666666666\n"
     ]
    }
   ],
   "source": [
    "#priority scheduling\n",
    "def priority_scheduling( processes , arrival , burst , priority) :\n",
    "    n = len(processes)\n",
    "    time = 0\n",
    "    finish , wait , tat = [0] * n , [0] * n , [0] * n\n",
    "    remaining = list(range(n))\n",
    "    gantt = []\n",
    "    while remaining :\n",
    "        available = [i for i in remaining if arrival[i] <= time]\n",
    "        if not available :\n",
    "            time += 1\n",
    "            continue\n",
    "        highest_priority = min(available , key=lambda i : priority[i])\n",
    "        gantt.append(highest_priority)\n",
    "        time = max(time , arrival[highest_priority]) + burst[highest_priority]\n",
    "        finish[highest_priority] = time\n",
    "        wait[highest_priority] = time - arrival[highest_priority] - burst[highest_priority]\n",
    "        tat[highest_priority] = finish[highest_priority] - arrival[highest_priority]\n",
    "        remaining.remove(highest_priority)\n",
    "    avg_wait = sum(wait) / n\n",
    "    avg_tat = sum(tat) / n\n",
    "\n",
    "    print(\"\\nGantt Chart:\")\n",
    "    print(\" | \".join(f\"P{processes[i]}\" for i in gantt))\n",
    "    print(\"0\", \" \".join(str(finish[i]) for i in gantt))\n",
    "\n",
    "    return avg_wait, avg_tat\n",
    "\n",
    "# Example\n",
    "processes = [1, 2, 3]\n",
    "arrival = [0, 1, 2]\n",
    "burst = [5, 3, 8]\n",
    "priority = [2, 1, 3]\n",
    "avg_wait, avg_tat = priority_scheduling(processes, arrival, burst, priority)\n",
    "print(f\"Average Waiting Time: {avg_wait}\")\n",
    "print(f\"Average Turnaround Time: {avg_tat}\")\n",
    "    "
   ]
  },
  {
   "cell_type": "markdown",
   "id": "27457522-fed5-4623-b488-342ea3f50abb",
   "metadata": {},
   "source": [
    "PREEMPTIVE SCHEDULING"
   ]
  },
  {
   "cell_type": "code",
   "execution_count": 6,
   "id": "3bf18a84-8652-4384-a4c0-ec662f6cdb4a",
   "metadata": {},
   "outputs": [
    {
     "name": "stdout",
     "output_type": "stream",
     "text": [
      "\n",
      "GANTT CHART :\n",
      "1|1|2|2|3|2|2|1|1|1|1|1\n",
      "Average Waiting Time: 2.0\n",
      "Average Turnaround Time: 6.0\n"
     ]
    }
   ],
   "source": [
    "#SRTF\n",
    "def srtf( processes , arrival , burst) :\n",
    "    n = len(processes)\n",
    "    remaining = burst[:]\n",
    "    time , completed = 0 , 0\n",
    "    wait , tat = [0] * n , [0] * n\n",
    "    gantt = []\n",
    "    while completed < n :\n",
    "        available = [i for i in range(n) if arrival[i] <= time and remaining[i] > 0]\n",
    "        if available :\n",
    "            current = min(available , key=lambda i : remaining [i])\n",
    "            gantt.append(processes[current])\n",
    "            remaining[current] -= 1\n",
    "            if remaining[current] == 0 :\n",
    "                completed += 1\n",
    "                finish_time = time + 1\n",
    "                tat[current] = finish_time - arrival[current]\n",
    "                wait[current] = tat[current] - burst[current]\n",
    "        time += 1\n",
    "    avg_wait = sum(wait)/n\n",
    "    avg_tat = sum(tat)/n\n",
    "    print(\"\\nGANTT CHART :\")\n",
    "    print(\"|\".join(map(str,gantt)))\n",
    "    print(f\"Average Waiting Time: {avg_wait}\")\n",
    "    print(f\"Average Turnaround Time: {avg_tat}\")\n",
    "\n",
    "# Example\n",
    "processes = [1, 2, 3]\n",
    "arrival = [0, 2, 4]\n",
    "burst = [7, 4, 1]\n",
    "srtf(processes, arrival, burst)"
   ]
  },
  {
   "cell_type": "code",
   "execution_count": 7,
   "id": "fc4b9792-b115-4c16-a54b-731c1f8e68c4",
   "metadata": {},
   "outputs": [
    {
     "name": "stdout",
     "output_type": "stream",
     "text": [
      "\n",
      "Gantt Chart:\n",
      "1 | 2 | 2 | 2 | 2 | 1 | 1 | 1 | 1 | 1 | 1 | 1 | 3 | 3\n",
      "Average Waiting Time: 4.666666666666667\n",
      "Average Turnaround Time: 9.333333333333334\n"
     ]
    }
   ],
   "source": [
    "#priority\n",
    "def preemptive_priority(processes , arrival , burst , priority) :\n",
    "    n = len(processes)\n",
    "    remaining = burst[:]\n",
    "    time , completed = 0 , 0\n",
    "    wait , tat = [0] * n , [0] * n\n",
    "    gantt =[]\n",
    "    while completed < n :\n",
    "        available = [i for i in range(n) if arrival[i] <= time and remaining[i] > 0]\n",
    "        if available :\n",
    "            current = min(available , key=lambda i : priority[i])\n",
    "            gantt.append(processes[current])\n",
    "            remaining[current] -= 1\n",
    "            if remaining[current] == 0 :\n",
    "                completed += 1\n",
    "                finish_time = time + 1\n",
    "                tat[current] = finish_time - arrival[current]\n",
    "                wait[current] = tat[current] - burst[current]\n",
    "        time += 1\n",
    "    avg_wait = sum(wait) / n\n",
    "    avg_tat = sum(tat) / n\n",
    "    print(\"\\nGantt Chart:\")\n",
    "    print(\" | \".join(map(str, gantt)))\n",
    "    print(f\"Average Waiting Time: {avg_wait}\")\n",
    "    print(f\"Average Turnaround Time: {avg_tat}\")\n",
    "\n",
    "# Example\n",
    "processes = [1, 2, 3]\n",
    "arrival = [0, 1, 2]\n",
    "burst = [8, 4, 2]\n",
    "priority = [2, 1, 3]\n",
    "preemptive_priority(processes, arrival, burst, priority)    "
   ]
  },
  {
   "cell_type": "code",
   "execution_count": null,
   "id": "c1b2310b-c659-496a-b176-780ed7e36651",
   "metadata": {},
   "outputs": [],
   "source": [
    "#Round Robin\n",
    "def round_robin(processes , arrival , burst , quantum) :\n",
    "    n = len(processes)\n",
    "    remaining = burst[:]\n",
    "    time , completed = 0 , 0\n",
    "    wait , tat = [0] * n , [0] * n\n",
    "    queue = []\n",
    "    gantt = []\n",
    "    while completed < n or queue :\n",
    "        for i in range(n) :\n",
    "            if arrival[i] <= time and i not in queue and remaining[i] > 0 :\n",
    "                queue.append(i)\n",
    "        if queue :\n",
    "            current = queue.pop(0)\n",
    "            gantt.append(processes[current])\n",
    "            executed_time = min(remaining[current] , quantum)\n",
    "            remaining[current] -= executed_time\n",
    "            time += executed_time\n",
    "            if remaining[current] > 0 :\n",
    "                queue.append(current)\n",
    "            else :\n",
    "                completed += 1\n",
    "                tat[current] = time - arrival[current]\n",
    "                wait[current] = tat[current] - burst[current]\n",
    "        else :\n",
    "            time += 1\n",
    "    avg_wait = sum(wait) / n\n",
    "    avg_tat = sum(tat) / n\n",
    "\n",
    "    print(\"\\nGantt Chart:\")\n",
    "    print(\" | \".join(map(str, gantt)))\n",
    "    print(f\"Average Waiting Time: {avg_wait}\")\n",
    "    print(f\"Average Turnaround Time: {avg_tat}\")\n",
    "\n",
    "# Example\n",
    "processes = [1, 2, 3]\n",
    "arrival = [0, 1, 2]\n",
    "burst = [5, 4, 2]\n",
    "quantum = 2\n",
    "round_robin(processes, arrival, burst, quantum)"
   ]
  },
  {
   "cell_type": "markdown",
   "id": "9981a120-1173-4f96-9fed-bc1a123c9c02",
   "metadata": {},
   "source": [
    "PRODUCER-CONSUMER PROBLEM"
   ]
  },
  {
   "cell_type": "code",
   "execution_count": 1,
   "id": "ba2dda9b-5a65-46c5-9dc2-da7792424be8",
   "metadata": {},
   "outputs": [
    {
     "name": "stdout",
     "output_type": "stream",
     "text": [
      "Produced : 82 , Buffer: [82]\n",
      "Consumed : 82 , Buffer : []\n",
      "Produced : 71 , Buffer: [71]\n",
      "Consumed : 71 , Buffer : []\n",
      "Produced : 84 , Buffer: [84]\n",
      "Consumed : 84 , Buffer : []\n",
      "Produced : 90 , Buffer: [90]\n",
      "Consumed : 90 , Buffer : []\n",
      "Produced : 26 , Buffer: [26]\n",
      "Consumed : 26 , Buffer : []\n",
      "Produced : 26 , Buffer: [26]\n",
      "Consumed : 26 , Buffer : []\n",
      "Produced : 32 , Buffer: [32]\n",
      "Consumed : 32 , Buffer : []\n",
      "Produced : 62 , Buffer: [62]\n",
      "Consumed : 62 , Buffer : []\n",
      "Produced : 38 , Buffer: [38]\n",
      "Consumed : 38 , Buffer : []\n",
      "Produced : 57 , Buffer: [57]\n",
      "Consumed : 57 , Buffer : []\n",
      "Produced : 34 , Buffer: [34]\n",
      "Consumed : 34 , Buffer : []\n",
      "Produced : 58 , Buffer: [58]\n",
      "Produced : 96 , Buffer: [58, 96]\n",
      "Consumed : 58 , Buffer : [96]\n",
      "Consumed : 96 , Buffer : []\n",
      "Produced : 98 , Buffer: [98]\n",
      "Consumed : 98 , Buffer : []\n",
      "Produced : 21 , Buffer: [21]\n",
      "Consumed : 21 , Buffer : []\n",
      "Produced : 18 , Buffer: [18]\n",
      "Produced : 9 , Buffer: [18, 9]\n",
      "Consumed : 18 , Buffer : [9]\n",
      "Produced : 89 , Buffer: [9, 89]\n",
      "Consumed : 9 , Buffer : [89]\n",
      "Produced : 10 , Buffer: [89, 10]\n",
      "Consumed : 89 , Buffer : [10]\n",
      "Consumed : 10 , Buffer : []\n",
      "Produced : 95 , Buffer: [95]\n",
      "Consumed : 95 , Buffer : []\n",
      "\n",
      " All items have been consumed\n"
     ]
    }
   ],
   "source": [
    "import threading\n",
    "import time\n",
    "import random\n",
    "\n",
    "buffer_size = 10\n",
    "num_items = 20\n",
    "\n",
    "empty = threading.Semaphore(buffer_size)\n",
    "full = threading.Semaphore(0)\n",
    "mutex = threading.Semaphore(1)\n",
    "\n",
    "buffer = []\n",
    "produced_count = 0\n",
    "consumed_count = 0\n",
    "\n",
    "def producer() :\n",
    "    global produced_count\n",
    "    while produced_count < num_items :\n",
    "        item = random.randint(1 , 100)\n",
    "        empty.acquire()\n",
    "        mutex.acquire()\n",
    "        if produced_count < num_items :\n",
    "            buffer.append(item)\n",
    "            produced_count += 1\n",
    "            print(f\"Produced : {item} , Buffer: {buffer}\")\n",
    "        mutex.release()\n",
    "        full.release()\n",
    "        time.sleep(random.uniform(0.5 , 2))\n",
    "\n",
    "def consumer() :\n",
    "    global consumed_count\n",
    "    while consumed_count < num_items :\n",
    "        full.acquire()\n",
    "        mutex.acquire()\n",
    "        if consumed_count < num_items :\n",
    "            item = buffer.pop(0)\n",
    "            consumed_count += 1\n",
    "            print(f\"Consumed : {item} , Buffer : {buffer}\")\n",
    "        mutex.release()\n",
    "        empty.release()\n",
    "        time.sleep(random.uniform(0.5 , 2))\n",
    "\n",
    "producer_thread = threading.Thread(target = producer)\n",
    "consumer_thread = threading.Thread(target = consumer)\n",
    "\n",
    "producer_thread.start()\n",
    "consumer_thread.start()\n",
    "\n",
    "producer_thread.join()\n",
    "consumer_thread.join()\n",
    "\n",
    "print(\"\\n All items have been consumed\")"
   ]
  },
  {
   "cell_type": "markdown",
   "id": "0c3a37b8-3774-46cd-b251-b3fc2352be3e",
   "metadata": {},
   "source": [
    "DISK SCHEDULING"
   ]
  },
  {
   "cell_type": "code",
   "execution_count": 2,
   "id": "d4fd241b-130e-4312-8555-d7ec28865b1d",
   "metadata": {},
   "outputs": [
    {
     "ename": "ModuleNotFoundError",
     "evalue": "No module named 'matplotlib'",
     "output_type": "error",
     "traceback": [
      "\u001b[1;31m---------------------------------------------------------------------------\u001b[0m",
      "\u001b[1;31mModuleNotFoundError\u001b[0m                       Traceback (most recent call last)",
      "Cell \u001b[1;32mIn[2], line 1\u001b[0m\n\u001b[1;32m----> 1\u001b[0m \u001b[38;5;28;01mimport\u001b[39;00m \u001b[38;5;21;01mmatplotlib\u001b[39;00m\u001b[38;5;21;01m.\u001b[39;00m\u001b[38;5;21;01mpyplot\u001b[39;00m \u001b[38;5;28;01mas\u001b[39;00m \u001b[38;5;21;01mplt\u001b[39;00m\n",
      "\u001b[1;31mModuleNotFoundError\u001b[0m: No module named 'matplotlib'"
     ]
    }
   ],
   "source": [
    "import matplotlib.pyplot as plt"
   ]
  },
  {
   "cell_type": "code",
   "execution_count": null,
   "id": "66ab2f6c-5726-4059-a0b5-7966d6311d64",
   "metadata": {},
   "outputs": [],
   "source": [
    "#FCFS\n",
    "def fcf(requests , head) :\n",
    "  seq = [head] + requests\n",
    "  return seq\n",
    "\n",
    "requests = [98, 183, 37, 122, 14, 124, 65, 67]\n",
    "head = 53\n",
    "seq = fcf(requests , head)\n",
    "\n",
    "plt.figure(figsize = ( 8 , 5 ))\n",
    "plt.plot(seq , range(len(seq)) , marker = 'o' , linestyle ='-' , color = 'b')\n",
    "plt.title(\"FCFS\")\n",
    "plt.xlabel(\"Disk cylinder\")\n",
    "plt.ylabel(\"Request Order\")\n",
    "plt.gca().invert_yaxis()\n",
    "plt.grid(True)\n",
    "plt.show()"
   ]
  },
  {
   "cell_type": "code",
   "execution_count": null,
   "id": "e1113f6a-ab4c-44d8-a3a1-1efb9ec927a7",
   "metadata": {},
   "outputs": [],
   "source": [
    "#SSTF\n",
    "def sstf(req , head) :\n",
    "  seq = [head]\n",
    "  pending = req[:]\n",
    "  while pending :\n",
    "    nearest = min(pending, key=lambda x : abs(x-head))\n",
    "    seq.append(nearest)\n",
    "    pending.remove(nearest)\n",
    "  return seq\n",
    "req = [98, 183, 37, 122, 14, 124, 65, 67]\n",
    "head = 53\n",
    "seq = sstf(req , head)\n",
    "\n",
    "plt.figure(figsize=(8, 5))\n",
    "plt.plot(seq, range(len(seq)), marker='o', linestyle='-', color='b')\n",
    "plt.title(\"SSTF Disk Scheduling\")\n",
    "plt.xlabel(\"Disk Cylinder\")\n",
    "plt.ylabel(\"Request Order\")\n",
    "plt.gca().invert_yaxis()\n",
    "plt.grid(True)\n",
    "plt.show()"
   ]
  },
  {
   "cell_type": "code",
   "execution_count": null,
   "id": "900d63f0-6b9c-4f72-a761-c2210590bd31",
   "metadata": {},
   "outputs": [],
   "source": [
    "#SCAN\n",
    "def scan(req , head , dirctn , size) :\n",
    "  seq = [head]\n",
    "  pending = sorted(req)\n",
    "  if dirctn == \"left\" :\n",
    "    for reqs in reversed(pending) :\n",
    "      if reqs <= head :\n",
    "        seq.append(reqs)\n",
    "        head = 0\n",
    "        for reqs in pending :\n",
    "          if reqs > head :\n",
    "            seq.append(req)\n",
    "  else :\n",
    "    for reqs in pending :\n",
    "      if reqs >= head :\n",
    "        seq.append(reqs)\n",
    "    seq.append(size - 1)\n",
    "    head = size - 1\n",
    "    for reqs in reversed(pending) :\n",
    "      if reqs < head :\n",
    "        seq.append(reqs)\n",
    "  return seq\n",
    "\n",
    "requests = [98, 183, 37, 122, 14, 124, 65, 67]\n",
    "head = 53\n",
    "direction = \"left\"\n",
    "disk_size = 200\n",
    "sequence = scan(requests, head, direction, disk_size)\n",
    "\n",
    "plt.figure(figsize=(8,5))\n",
    "plt.plot(seq , range(len(seq)) , marker = 'o' , linestyle = '-' , color = 'b')\n",
    "plt.title(\"SCAN\")\n",
    "plt.xlabel(\"Disk cylinder\")\n",
    "plt.ylabel(\"Request order\")\n",
    "plt.gca().invert_yaxis()\n",
    "plt.grid(True)\n",
    "plt.show()"
   ]
  },
  {
   "cell_type": "code",
   "execution_count": null,
   "id": "33a06da0-b498-47e3-812c-719258e99c84",
   "metadata": {},
   "outputs": [],
   "source": [
    "#C-SCAN\n",
    "def cscan(req , head , size) :\n",
    "  seq = [head]\n",
    "  pending = sorted(req)\n",
    "  for reqs in pending :\n",
    "    if reqs >= head :\n",
    "      seq.append(reqs)\n",
    "  seq.append(size - 1)\n",
    "  seq.append(0)\n",
    "  for reqs in pending :\n",
    "    if reqs < head :\n",
    "      seq.append(reqs)\n",
    "    return seq\n",
    "\n",
    "req = [98, 183, 37, 122, 14, 124, 65, 67]\n",
    "head = 53\n",
    "size = 200\n",
    "seq = cscan(req, head, size)\n",
    "\n",
    "plt.figure(figsize=(8, 5))\n",
    "plt.plot(seq, range(len(seq)), marker='o', linestyle='-', color='b')\n",
    "plt.title(\"C-SCAN Disk Scheduling\")\n",
    "plt.xlabel(\"Disk Cylinder\")\n",
    "plt.ylabel(\"Request Order\")\n",
    "plt.gca().invert_yaxis()\n",
    "plt.grid(True)\n",
    "plt.show()"
   ]
  },
  {
   "cell_type": "code",
   "execution_count": null,
   "id": "6d487b53-e790-4476-9759-88bfe6a48a80",
   "metadata": {},
   "outputs": [],
   "source": [
    "#LOOK\n",
    "def look(req , head , dirctn) :\n",
    "  seq = [head]\n",
    "  pending = sorted(req)\n",
    "  if dirctn == \"left\" :\n",
    "    for reqs in reversed(pending) :\n",
    "      if reqs <= head :\n",
    "        seq.append(reqs)\n",
    "    for reqs in pending :\n",
    "      if reqs > head :\n",
    "        seq.append(reqs)\n",
    "  else :\n",
    "    for reqs in pending :\n",
    "      if reqs >= head :\n",
    "        seq.append(reqs)\n",
    "      for reqs in reversed(pending) :\n",
    "        if reqs < head :\n",
    "          seq.append(reqs)\n",
    "  return seq\n",
    "\n",
    "requests = [98, 183, 37, 122, 14, 124, 65, 67]\n",
    "head = 53\n",
    "dirctn = \"left\"\n",
    "seq = look(req, head, dirctn)\n",
    "\n",
    "plt.figure(figsize=(8, 5))\n",
    "plt.plot(seq, range(len(seq)), marker='o', linestyle='-', color='b')\n",
    "plt.title(\"LOOK Disk Scheduling\")\n",
    "plt.xlabel(\"Disk Cylinder\")\n",
    "plt.ylabel(\"Request Order\")\n",
    "plt.gca().invert_yaxis()\n",
    "plt.grid(True)\n",
    "plt.show()"
   ]
  },
  {
   "cell_type": "code",
   "execution_count": null,
   "id": "1bc2a1f1-83a6-48f5-af12-7d08f9035eab",
   "metadata": {},
   "outputs": [],
   "source": [
    "#C-LOOK\n",
    "def clook(req , head) :\n",
    "  seq = [head]\n",
    "  pending = sorted(req)\n",
    "  for reqs in pending :\n",
    "    if reqs >= head :\n",
    "      seq.append(reqs)\n",
    "  seq.append(pending[0])\n",
    "  for reqs in pending :\n",
    "    if reqs < head :\n",
    "      seq.append(reqs)\n",
    "  return seq\n",
    "\n",
    "req = [98, 183, 37, 122, 14, 124, 65, 67]\n",
    "head = 53\n",
    "seq = clook(req, head)\n",
    "\n",
    "plt.figure(figsize=(8, 5))\n",
    "plt.plot(seq, range(len(seq)), marker='o', linestyle='-', color='b')\n",
    "plt.title(\"C-LOOK Disk Scheduling\")\n",
    "plt.xlabel(\"Disk Cylinder\")\n",
    "plt.ylabel(\"Request Order\")\n",
    "plt.gca().invert_yaxis()\n",
    "plt.grid(True)\n",
    "plt.show()"
   ]
  }
 ],
 "metadata": {
  "kernelspec": {
   "display_name": "Python 3 (ipykernel)",
   "language": "python",
   "name": "python3"
  },
  "language_info": {
   "codemirror_mode": {
    "name": "ipython",
    "version": 3
   },
   "file_extension": ".py",
   "mimetype": "text/x-python",
   "name": "python",
   "nbconvert_exporter": "python",
   "pygments_lexer": "ipython3",
   "version": "3.11.1"
  }
 },
 "nbformat": 4,
 "nbformat_minor": 5
}
