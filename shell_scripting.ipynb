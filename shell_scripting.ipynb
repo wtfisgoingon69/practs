{
 "cells": [
  {
   "cell_type": "code",
   "execution_count": null,
   "metadata": {},
   "outputs": [],
   "source": []
  },
  {
   "cell_type": "code",
   "execution_count": null,
   "metadata": {},
   "outputs": [],
   "source": [
    "##copy the content of one file into another\n",
    "cat > sales.txt\n",
    "Month, Profit\n",
    "01/Apr/2004, $1500\n",
    "01/May/2004, $1600\n",
    "01/Jun/2004, $1450\n",
    "01/Jul/2004, $1950\n",
    "01/Aug/2004, $3950\n",
    "01/Sep/2004, $2990\n",
    "01/Oct/2004, $1750\n",
    "01/Nov/2004, $1950\n",
    "01/Dec/2004, $3250\n",
    "cat > sales1.txt\n",
    "\n",
    "cp sales.txt sales1.txt\n",
    "cat sales1.txt\n",
    "Month, Profit\n",
    "01/Apr/2004, $1500\n",
    "01/May/2004, $1600\n",
    "01/Jun/2004, $1450\n",
    "01/Jul/2004, $1950\n",
    "01/Aug/2004, $3950\n",
    "01/Sep/2004, $2950\n",
    "01/Oct/2004, $1750\n",
    "01/Nov/2004, $1950\n",
    "01/Dec/2004, $3250\n"
   ]
  },
  {
   "cell_type": "code",
   "execution_count": null,
   "metadata": {},
   "outputs": [],
   "source": [
    "##to count number of words, chars, lines\n",
    "\n",
    "echo \"Enter the filename:\"\n",
    "read filename\n",
    "if [ -f \"$filename\" ]; then\n",
    "    words=$(wc -w < \"$filename\")\n",
    "    chars=$(wc -m < \"$filename\")\n",
    "    lines=$(wc -l < \"$filename\")\n",
    "    echo \"Words: $words\"\n",
    "    echo \"Characters: $chars\"\n",
    "    echo \"Lines: $lines\"\n",
    "else\n",
    "    echo \"File does not exist.\"\n",
    "fi\n"
   ]
  },
  {
   "cell_type": "code",
   "execution_count": null,
   "metadata": {},
   "outputs": [],
   "source": [
    "##Write Shell script To describe files in different format.\n",
    "\n",
    "echo \"Enter the filename:\"\n",
    "read filename\n",
    "if [ -f \"$filename\" ]; then\n",
    "    file \"$filename\"\n",
    "else\n",
    "    echo \"File does not exist.\"\n",
    "fi\n"
   ]
  },
  {
   "cell_type": "code",
   "execution_count": null,
   "metadata": {},
   "outputs": [],
   "source": [
    "##Write Shell script to find factorial of given number using bash script\n",
    "\n",
    "factorial()\n",
    "{\n",
    "    if [ $1 -le 1 ]; \n",
    "    then \n",
    "        echo 1\n",
    "    else \n",
    "        echo $(($1 * $(factorial $(($1 - 1)))))\n",
    "    fi\n",
    "}\n",
    "echo \"Enter a number:\"\n",
    "read num\n",
    "echo \"Factorial of $num is $(factorial $num)\"\n"
   ]
  },
  {
   "cell_type": "code",
   "execution_count": null,
   "metadata": {},
   "outputs": [],
   "source": [
    "##Display first 10 natural numbers using bash script\n",
    "for i in {1..10}\n",
    "do\n",
    "    echo $i\n",
    "done\n"
   ]
  },
  {
   "cell_type": "code",
   "execution_count": null,
   "metadata": {},
   "outputs": [],
   "source": [
    "##display Fibonacci series using bash script\n",
    "echo \"Enter a number:\"\n",
    "read num\n",
    "fact=1\n",
    "for (( i=1; i<=num; i++ ))\n",
    "do\n",
    "    fact=$((fact * i))\n",
    "done\n",
    "echo \"Factorial of $num is $fact\"\n"
   ]
  },
  {
   "cell_type": "code",
   "execution_count": null,
   "metadata": {},
   "outputs": [],
   "source": [
    "##Find given number is prime or nor using bash script\n",
    "echo \"Enter a number:\"\n",
    "read num\n",
    "for (( i=2; i<=num/2; i++ ))\n",
    "do\n",
    "    if [ $((num % i)) -eq 0 ]\n",
    "    then\n",
    "        echo \"$num is not a prime number.\"\n",
    "        exit\n",
    "    fi\n",
    "done\n",
    "echo \"$num is a prime number.\"\n"
   ]
  },
  {
   "cell_type": "code",
   "execution_count": null,
   "metadata": {},
   "outputs": [],
   "source": [
    "##Write shell script to find biggest of three numbers\n",
    "echo \"Enter three numbers:\"\n",
    "read a b c\n",
    "if [ $a -ge $b ] && [ $a -ge $c ]\n",
    "then\n",
    "    echo \"$a is the largest number.\"\n",
    "elif [ $b -ge $a ] && [ $b -ge $c ]\n",
    "then\n",
    "    echo \"$b is the largest number.\"\n",
    "else\n",
    "    echo \"$c is the largest number.\"\n",
    "fi\n"
   ]
  },
  {
   "cell_type": "code",
   "execution_count": null,
   "metadata": {},
   "outputs": [],
   "source": [
    "##Write shell script to reverse a given number\n",
    "echo \"Enter a number:\"\n",
    "read num\n",
    "rev=0\n",
    "while [ $num -gt 0 ]\n",
    "do\n",
    "    rem=$((num % 10))\n",
    "    rev=$((rev * 10 + rem))\n",
    "    num=$((num / 10))\n",
    "done\n",
    "echo \"Reversed number is $rev\"\n"
   ]
  },
  {
   "cell_type": "code",
   "execution_count": null,
   "metadata": {},
   "outputs": [],
   "source": [
    "##Write shell script to find Sum of individual digits (1234 =>  1+2+3+4=10)\n",
    "echo \"Enter a number:\"\n",
    "read num\n",
    "sum=0\n",
    "while [ $num -gt 0 ]\n",
    "do\n",
    "    sum=$((sum + num % 10))\n",
    "    num=$((num / 10))\n",
    "done\n",
    "echo \"Sum of individual digits is $sum\"\n"
   ]
  },
  {
   "cell_type": "code",
   "execution_count": null,
   "metadata": {},
   "outputs": [],
   "source": [
    "##Write a shell script to display a list of users currently logged in.\n",
    "$ who"
   ]
  },
  {
   "cell_type": "code",
   "execution_count": null,
   "metadata": {},
   "outputs": [],
   "source": [
    "##Write a shell script to perform arithmetic operations.\n",
    "echo \"Enter two numbers:\"\n",
    "read a b\n",
    "echo \"Enter operation (+, -, *, /):\"\n",
    "read op\n",
    "case $op in\n",
    "    +) result=$((a + b)) ;;\n",
    "    -) result=$((a - b)) ;;\n",
    "    \\*) result=$((a * b)) ;;\n",
    "    /) result=$((a / b)) ;;\n",
    "    *) echo \"Invalid operation\" ;;\n",
    "esac\n",
    "echo \"Result: $result\"\n"
   ]
  },
  {
   "cell_type": "code",
   "execution_count": null,
   "metadata": {},
   "outputs": [],
   "source": []
  },
  {
   "cell_type": "code",
   "execution_count": null,
   "metadata": {},
   "outputs": [],
   "source": [
    "##Write a shell script to copy contents of one file to another.\n",
    "cat > blank.txt\n",
    "\n",
    "cat blank.txt\n",
    "\n",
    "echo \"Enter source file:\"\n",
    "read src\n",
    "echo \"Enter destination file:\"\n",
    "read dest\n",
    "if [ -f \"$src\" ]; \n",
    "then \n",
    "    cp \"$src\" \"$dest\"\n",
    "    echo \"Contents copied to $dest\"\n",
    "else \n",
    "    echo \"Source file does not exist.\"\n",
    "fi\n",
    "cat blank.txt\n"
   ]
  },
  {
   "cell_type": "code",
   "execution_count": null,
   "metadata": {},
   "outputs": [],
   "source": [
    "##Write a shell program to generate multiplication table of a number upto a given range.\n",
    "echo \"Enter a number:\"\n",
    "read num\n",
    "echo \"Enter range:\"\n",
    "read range\n",
    "for (( i=1; i<=range; i++ ))\n",
    "do\n",
    "    echo \"$num * $i = $((num * i))\"\n",
    "done\n"
   ]
  },
  {
   "cell_type": "code",
   "execution_count": null,
   "metadata": {},
   "outputs": [],
   "source": [
    "##Write a shell program to count the number of files in a directory.\n",
    "mkdir word\n",
    "\n",
    "echo \"Enter directory path:\"\n",
    "read dir\n",
    "if [ -d \"$dir\" ]; \n",
    "then \n",
    "    file_count=$(ls -1 \"$dir\" | wc -l)\n",
    "    echo \"Number of files: $file_count\"\n",
    "else \n",
    "    echo \"Directory does not exist.\"\n",
    "fi\n"
   ]
  },
  {
   "cell_type": "code",
   "execution_count": null,
   "metadata": {},
   "outputs": [],
   "source": [
    "##Shell Script to find the number of matched characters, words and lines in a file.\n",
    "echo \"Enter the filename:\"\n",
    "read filename\n",
    "echo \"Enter the search pattern:\"\n",
    "read pattern\n",
    "if [ -f \"$filename\" ]; \n",
    "then\n",
    "    char_count=$(grep -o \"$pattern\" \"$filename\" | wc -c)\n",
    "    word_count=$(grep -o \"$pattern\" \"$filename\" | wc -w)\n",
    "    line_count=$(grep -c \"$pattern\" \"$filename\")\n",
    "    echo \"Matched characters: $char_count\"\n",
    "    echo \"Matched words: $word_count\"\n",
    "    echo \"Matched lines: $line_count\"\n",
    "else\n",
    "    echo \"File does not exist.\"\n",
    "fi\n"
   ]
  },
  {
   "cell_type": "code",
   "execution_count": null,
   "metadata": {},
   "outputs": [],
   "source": [
    "##Write a script to find the number of characters, words and lines \n",
    "echo \"Enter the filename:\"\n",
    "read filename\n",
    "if [ -f \"$filename\" ]; \n",
    "then\n",
    "    chars=$(wc -m < \"$filename\")\n",
    "    words=$(wc -w < \"$filename\")\n",
    "    lines=$(wc -l < \"$filename\")\n",
    "    echo \"Characters: $chars\"\n",
    "    echo \"Words: $words\"\n",
    "    echo \"Lines: $lines\"\n",
    "else\n",
    "    echo \"File does not exist.\"\n",
    "fi\n"
   ]
  },
  {
   "cell_type": "code",
   "execution_count": null,
   "metadata": {},
   "outputs": [],
   "source": [
    "##Write a script to display list of files starting with particular letter in the directory.\n",
    "mkdir plate\n",
    "cd plate\n",
    "cat > spoons.txt\n",
    "cat > forks.txt\n",
    "cat > bowls.txt\n",
    "cat > knifes.txt\n",
    "cat > salt.txt\n",
    "\n",
    "cat > sugar.txt\n",
    "\n",
    "echo \"Enter the directory path:\"\n",
    "read dir\n",
    "echo \"Enter the starting letter:\"\n",
    "read letter\n",
    "if [ -d \"$dir\" ]; \n",
    "then \n",
    "    files=$(ls \"$dir\" | grep \"^$letter\")\n",
    "    echo \"Files starting with $letter:\"\n",
    "    echo \"$files\"\n",
    "else \n",
    "    echo \"Directory does not exist.\"\n",
    "fi\n"
   ]
  },
  {
   "cell_type": "code",
   "execution_count": null,
   "metadata": {},
   "outputs": [],
   "source": [
    "##Write a shell script to replace the Nth occurrence of a pattern.\n",
    "\n",
    "cat > fruits.txt\n",
    "echo \"Enter file name:\"\n",
    "read file\n",
    "echo \"Enter pattern to search:\"\n",
    "read pattern\n",
    "echo \"Enter replacement string:\"\n",
    "read replacement\n",
    "echo \"Enter occurrence number:\"\n",
    "read n\n",
    "awk -v pat=\"$pattern\" -v rep=\"$replacement\" -v occ=\"$n\" '{\n",
    "    count=0\n",
    "    for (i=1; i<=NF; i++) \n",
    "        if ($i == pat && ++count == occ) \n",
    "            $i=rep\n",
    "    print\n",
    "}' \"$file\" > temp && mv temp \"$file\"\n",
    "\n",
    "cat fruits.txt\n"
   ]
  },
  {
   "cell_type": "code",
   "execution_count": null,
   "metadata": {},
   "outputs": [],
   "source": [
    "##Write a shell script to convert temperature from Centigrade to  Fahrenheit.\n",
    "echo \"Enter temperature in Centigrade:\"\n",
    "read c\n",
    "f=$(echo \"scale=2; $c * 9 / 5 + 32\" | bc)\n",
    "echo \"$c C is $f F\"\n"
   ]
  },
  {
   "cell_type": "code",
   "execution_count": null,
   "metadata": {},
   "outputs": [],
   "source": [
    "##Write a shell script to compute the power of a given number.\n",
    "echo \"Enter base:\"\n",
    "read base\n",
    "echo \"Enter exponent:\"\n",
    "read exp\n",
    "result=1\n",
    "for (( i=0; i<exp; i++ ))\n",
    "do\n",
    "    result=$((result * base))\n",
    "done\n",
    "echo \"$base raised to the power of $exp is $result\"\n"
   ]
  },
  {
   "cell_type": "code",
   "execution_count": null,
   "metadata": {},
   "outputs": [],
   "source": [
    "##Write a shell script to check whether the year is leap year or not.\n",
    "echo \"Enter a year:\"\n",
    "read year\n",
    "if [ $((year % 4)) -ne 0 ]\n",
    "then\n",
    "    echo \"$year is not a leap year.\"\n",
    "elif [ $((year % 100)) -ne 0 ]\n",
    "then\n",
    "    echo \"$year is a leap year.\"\n",
    "elif [ $((year % 400)) -eq 0 ]\n",
    "then\n",
    "    echo \"$year is a leap year.\"\n",
    "else\n",
    "    echo \"$year is not a leap year.\"\n",
    "fi\n"
   ]
  },
  {
   "cell_type": "code",
   "execution_count": null,
   "metadata": {},
   "outputs": [],
   "source": [
    "##Write a shell script to check whether a number is even or odd.\n",
    "echo \"Enter a number:\"\n",
    "read num\n",
    "if [ $((num % 2)) -eq 0 ]\n",
    "then\n",
    "    echo \"$num is even.\"\n",
    "else\n",
    "    echo \"$num is odd.\"\n",
    "fi\n"
   ]
  },
  {
   "cell_type": "code",
   "execution_count": null,
   "metadata": {},
   "outputs": [],
   "source": [
    "##Where is the bash program located on your system?\n",
    "which bash\n",
    "\n",
    "##How to find the current shell which you are using in UNIX?\n",
    "$ echo $SHELL"
   ]
  }
 ],
 "metadata": {
  "language_info": {
   "name": "python"
  }
 },
 "nbformat": 4,
 "nbformat_minor": 2
}
