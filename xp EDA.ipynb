{
 "cells": [
  {
   "cell_type": "markdown",
   "metadata": {},
   "source": [
    "EXPERIMENT 9 ---\n",
    "\n",
    "1. Create a Pandas Series from a list of 10 random integers and calculate its mean.\n",
    "\n"
   ]
  },
  {
   "cell_type": "code",
   "execution_count": 82,
   "metadata": {},
   "outputs": [
    {
     "name": "stdout",
     "output_type": "stream",
     "text": [
      "71.6\n"
     ]
    }
   ],
   "source": [
    "import pandas as pd\n",
    "import numpy as np\n",
    "\n",
    "# Create a Series\n",
    "data = np.random.randint(1, 100, 10)\n",
    "series = pd.Series(data)\n",
    "\n",
    "# Calculate the mean\n",
    "mean = series.mean()\n",
    "print(mean)\n"
   ]
  },
  {
   "cell_type": "markdown",
   "metadata": {},
   "source": [
    "2. Create a DataFrame from a dictionary with columns 'Name', 'Age', and 'City'."
   ]
  },
  {
   "cell_type": "code",
   "execution_count": 83,
   "metadata": {},
   "outputs": [
    {
     "name": "stdout",
     "output_type": "stream",
     "text": [
      "      Name  Age         City\n",
      "0    Alice   24     New York\n",
      "1      Bob   27  Los Angeles\n",
      "2  Charlie   22      Chicago\n"
     ]
    }
   ],
   "source": [
    "import pandas as pd\n",
    "\n",
    "# Create DataFrame\n",
    "data = {'Name': ['Alice', 'Bob', 'Charlie'], 'Age': [24, 27, 22], 'City': ['New York', 'Los Angeles', 'Chicago']}\n",
    "df = pd.DataFrame(data)\n",
    "print(df)\n"
   ]
  },
  {
   "cell_type": "markdown",
   "metadata": {},
   "source": [
    "3. Access the first 5 elements of a Pandas Series using slicing."
   ]
  },
  {
   "cell_type": "code",
   "execution_count": 84,
   "metadata": {},
   "outputs": [
    {
     "name": "stdout",
     "output_type": "stream",
     "text": [
      "0     5\n",
      "1    10\n",
      "2    15\n",
      "3    20\n",
      "4    25\n",
      "dtype: int64\n"
     ]
    }
   ],
   "source": [
    "import pandas as pd\n",
    "\n",
    "# Create a Series\n",
    "data = [5, 10, 15, 20, 25, 30, 35, 40, 45, 50]\n",
    "series = pd.Series(data)\n",
    "\n",
    "# Access first 5 elements\n",
    "print(series[:5])\n"
   ]
  },
  {
   "cell_type": "markdown",
   "metadata": {},
   "source": [
    "4. Add a new column 'Score' to a DataFrame with values [85, 90, 78, 92]."
   ]
  },
  {
   "cell_type": "code",
   "execution_count": 85,
   "metadata": {},
   "outputs": [
    {
     "name": "stdout",
     "output_type": "stream",
     "text": [
      "      Name  Age  Score\n",
      "0    Alice   24     85\n",
      "1      Bob   27     90\n",
      "2  Charlie   22     78\n",
      "3    David   25     92\n"
     ]
    }
   ],
   "source": [
    "import pandas as pd\n",
    "\n",
    "# Create DataFrame\n",
    "data = {'Name': ['Alice', 'Bob', 'Charlie', 'David'], 'Age': [24, 27, 22, 25]}\n",
    "df = pd.DataFrame(data)\n",
    "\n",
    "# Add new column 'Score'\n",
    "df['Score'] = [85, 90, 78, 92]\n",
    "print(df)\n"
   ]
  },
  {
   "cell_type": "markdown",
   "metadata": {},
   "source": [
    "5. Use .iloc to access the first row of a DataFrame."
   ]
  },
  {
   "cell_type": "code",
   "execution_count": 86,
   "metadata": {},
   "outputs": [
    {
     "name": "stdout",
     "output_type": "stream",
     "text": [
      "Name       Alice\n",
      "Age           24\n",
      "City    New York\n",
      "Name: 0, dtype: object\n"
     ]
    }
   ],
   "source": [
    "import pandas as pd\n",
    "\n",
    "# Create DataFrame\n",
    "data = {'Name': ['Alice', 'Bob', 'Charlie'], 'Age': [24, 27, 22], 'City': ['New York', 'Los Angeles', 'Chicago']}\n",
    "df = pd.DataFrame(data)\n",
    "\n",
    "# Access first row using iloc\n",
    "print(df.iloc[0])\n"
   ]
  },
  {
   "cell_type": "markdown",
   "metadata": {},
   "source": [
    "6. Use .loc to select the rows where 'Age' is 25 in a DataFrame."
   ]
  },
  {
   "cell_type": "code",
   "execution_count": 87,
   "metadata": {},
   "outputs": [
    {
     "name": "stdout",
     "output_type": "stream",
     "text": [
      "    Name  Age    City\n",
      "3  David   25  Boston\n"
     ]
    }
   ],
   "source": [
    "import pandas as pd\n",
    "\n",
    "# Create DataFrame\n",
    "data = {'Name': ['Alice', 'Bob', 'Charlie', 'David'], 'Age': [24, 27, 22, 25], 'City': ['New York', 'Los Angeles', 'Chicago', 'Boston']}\n",
    "df = pd.DataFrame(data)\n",
    "\n",
    "# Select rows where 'Age' is 25\n",
    "print(df.loc[df['Age'] == 25])\n"
   ]
  },
  {
   "cell_type": "markdown",
   "metadata": {},
   "source": [
    "7. Create a Series with a custom index ['a', 'b', 'c'] and access the value at index 'b'."
   ]
  },
  {
   "cell_type": "code",
   "execution_count": 88,
   "metadata": {},
   "outputs": [
    {
     "name": "stdout",
     "output_type": "stream",
     "text": [
      "20\n"
     ]
    }
   ],
   "source": [
    "import pandas as pd\n",
    "\n",
    "# Create a Series with custom index\n",
    "series = pd.Series([10, 20, 30], index=['a', 'b', 'c'])\n",
    "\n",
    "# Access value at index 'b'\n",
    "print(series['b'])\n"
   ]
  },
  {
   "cell_type": "markdown",
   "metadata": {},
   "source": [
    "8. Calculate the standard deviation of a Series containing numerical values."
   ]
  },
  {
   "cell_type": "code",
   "execution_count": 89,
   "metadata": {},
   "outputs": [
    {
     "name": "stdout",
     "output_type": "stream",
     "text": [
      "25.069015847367357\n"
     ]
    }
   ],
   "source": [
    "import pandas as pd\n",
    "import numpy as np\n",
    "\n",
    "# Create a Series\n",
    "data = np.random.randint(1, 100, 10)\n",
    "series = pd.Series(data)\n",
    "\n",
    "# Calculate standard deviation\n",
    "print(series.std())\n"
   ]
  },
  {
   "cell_type": "markdown",
   "metadata": {},
   "source": [
    "9. Create a DataFrame and drop the 'City' column using the drop method."
   ]
  },
  {
   "cell_type": "code",
   "execution_count": 90,
   "metadata": {},
   "outputs": [
    {
     "name": "stdout",
     "output_type": "stream",
     "text": [
      "      Name  Age\n",
      "0    Alice   24\n",
      "1      Bob   27\n",
      "2  Charlie   22\n"
     ]
    }
   ],
   "source": [
    "import pandas as pd\n",
    "\n",
    "# Create DataFrame\n",
    "data = {'Name': ['Alice', 'Bob', 'Charlie'], 'Age': [24, 27, 22], 'City': ['New York', 'Los Angeles', 'Chicago']}\n",
    "df = pd.DataFrame(data)\n",
    "\n",
    "# Drop 'City' column\n",
    "df = df.drop('City', axis=1)\n",
    "print(df)\n"
   ]
  },
  {
   "cell_type": "markdown",
   "metadata": {},
   "source": [
    "10. Filter a DataFrame to show rows where 'Age' is greater than 30 using boolean indexing."
   ]
  },
  {
   "cell_type": "code",
   "execution_count": 91,
   "metadata": {},
   "outputs": [
    {
     "name": "stdout",
     "output_type": "stream",
     "text": [
      "      Name  Age\n",
      "2  Charlie   32\n",
      "3    David   35\n"
     ]
    }
   ],
   "source": [
    "import pandas as pd\n",
    "\n",
    "# Create DataFrame\n",
    "data = {'Name': ['Alice', 'Bob', 'Charlie', 'David'], 'Age': [24, 27, 32, 35]}\n",
    "df = pd.DataFrame(data)\n",
    "\n",
    "# Filter rows where Age > 30\n",
    "print(df[df['Age'] > 30])\n"
   ]
  },
  {
   "cell_type": "markdown",
   "metadata": {},
   "source": [
    "11. Apply a lambda function to a DataFrame column to square the values."
   ]
  },
  {
   "cell_type": "code",
   "execution_count": 92,
   "metadata": {},
   "outputs": [
    {
     "name": "stdout",
     "output_type": "stream",
     "text": [
      "      Name  Score  Squared Score\n",
      "0    Alice     85           7225\n",
      "1      Bob     90           8100\n",
      "2  Charlie     78           6084\n"
     ]
    }
   ],
   "source": [
    "import pandas as pd\n",
    "\n",
    "# Create DataFrame\n",
    "data = {'Name': ['Alice', 'Bob', 'Charlie'], 'Score': [85, 90, 78]}\n",
    "df = pd.DataFrame(data)\n",
    "\n",
    "# Apply lambda function to square values in 'Score' column\n",
    "df['Squared Score'] = df['Score'].apply(lambda x: x**2)\n",
    "print(df)\n"
   ]
  },
  {
   "cell_type": "markdown",
   "metadata": {},
   "source": [
    "12. Use .iloc to select the last 3 rows of a DataFrame."
   ]
  },
  {
   "cell_type": "code",
   "execution_count": 93,
   "metadata": {},
   "outputs": [
    {
     "name": "stdout",
     "output_type": "stream",
     "text": [
      "      Name  Age\n",
      "2  Charlie   22\n",
      "3    David   25\n",
      "4      Eve   28\n"
     ]
    }
   ],
   "source": [
    "import pandas as pd\n",
    "\n",
    "# Create DataFrame\n",
    "data = {'Name': ['Alice', 'Bob', 'Charlie', 'David', 'Eve'], 'Age': [24, 27, 22, 25, 28]}\n",
    "df = pd.DataFrame(data)\n",
    "\n",
    "# Select last 3 rows\n",
    "print(df.iloc[-3:])\n"
   ]
  },
  {
   "cell_type": "markdown",
   "metadata": {},
   "source": [
    "13. Rename the 'Name' column to 'FullName' in a DataFrame and display the DataFrame."
   ]
  },
  {
   "cell_type": "code",
   "execution_count": 94,
   "metadata": {},
   "outputs": [
    {
     "name": "stdout",
     "output_type": "stream",
     "text": [
      "  FullName  Age         City\n",
      "0    Alice   24     New York\n",
      "1      Bob   27  Los Angeles\n",
      "2  Charlie   22      Chicago\n"
     ]
    }
   ],
   "source": [
    "import pandas as pd\n",
    "\n",
    "# Create DataFrame\n",
    "data = {'Name': ['Alice', 'Bob', 'Charlie'], 'Age': [24, 27, 22], 'City': ['New York', 'Los Angeles', 'Chicago']}\n",
    "df = pd.DataFrame(data)\n",
    "\n",
    "# Rename 'Name' column to 'FullName'\n",
    "df = df.rename(columns={'Name': 'FullName'})\n",
    "print(df)\n"
   ]
  },
  {
   "cell_type": "markdown",
   "metadata": {},
   "source": [
    "14. Use .loc to select rows based on a condition and specific columns."
   ]
  },
  {
   "cell_type": "code",
   "execution_count": 95,
   "metadata": {},
   "outputs": [
    {
     "name": "stdout",
     "output_type": "stream",
     "text": [
      "0    Alice\n",
      "1      Bob\n",
      "Name: Name, dtype: object\n"
     ]
    }
   ],
   "source": [
    "import pandas as pd\n",
    "\n",
    "# Create DataFrame\n",
    "data = {'Name': ['Alice', 'Bob', 'Charlie'], 'Age': [24, 27, 22], 'City': ['New York', 'Los Angeles', 'Chicago']}\n",
    "df = pd.DataFrame(data)\n",
    "\n",
    "# Select rows where 'Age' > 23 and only 'Name' column\n",
    "print(df.loc[df['Age'] > 23, 'Name'])\n"
   ]
  },
  {
   "cell_type": "markdown",
   "metadata": {},
   "source": [
    "15. Create a DataFrame from a list of lists with columns ['A', 'B', 'C'] and calculate the mean of each column."
   ]
  },
  {
   "cell_type": "code",
   "execution_count": 96,
   "metadata": {},
   "outputs": [
    {
     "name": "stdout",
     "output_type": "stream",
     "text": [
      "A    4.0\n",
      "B    5.0\n",
      "C    6.0\n",
      "dtype: float64\n"
     ]
    }
   ],
   "source": [
    "import pandas as pd\n",
    "\n",
    "# Create DataFrame from list of lists\n",
    "data = [[1, 2, 3], [4, 5, 6], [7, 8, 9]]\n",
    "df = pd.DataFrame(data, columns=['A', 'B', 'C'])\n",
    "\n",
    "# Calculate mean of each column\n",
    "print(df.mean())\n"
   ]
  },
  {
   "cell_type": "markdown",
   "metadata": {},
   "source": [
    "16. Load the Titanic dataset from Kaggle into a DataFrame and display the first 5 rows."
   ]
  },
  {
   "cell_type": "code",
   "execution_count": 97,
   "metadata": {},
   "outputs": [
    {
     "name": "stdout",
     "output_type": "stream",
     "text": [
      "   PassengerId  Survived  Pclass  \\\n",
      "0            1         0       3   \n",
      "1            2         1       1   \n",
      "2            3         1       3   \n",
      "3            4         1       1   \n",
      "4            5         0       3   \n",
      "\n",
      "                                                Name     Sex   Age  SibSp  \\\n",
      "0                            Braund, Mr. Owen Harris    male  22.0      1   \n",
      "1  Cumings, Mrs. John Bradley (Florence Briggs Th...  female  38.0      1   \n",
      "2                             Heikkinen, Miss. Laina  female  26.0      0   \n",
      "3       Futrelle, Mrs. Jacques Heath (Lily May Peel)  female  35.0      1   \n",
      "4                           Allen, Mr. William Henry    male  35.0      0   \n",
      "\n",
      "   Parch            Ticket     Fare Cabin Embarked  \n",
      "0      0         A/5 21171   7.2500   NaN        S  \n",
      "1      0          PC 17599  71.2833   C85        C  \n",
      "2      0  STON/O2. 3101282   7.9250   NaN        S  \n",
      "3      0            113803  53.1000  C123        S  \n",
      "4      0            373450   8.0500   NaN        S  \n"
     ]
    }
   ],
   "source": [
    "import pandas as pd\n",
    "\n",
    "# Load the Titanic dataset\n",
    "df = pd.read_csv(r'C:\\Users\\Aishwarya\\OneDrive\\Desktop\\DSL PRACTS\\titanic\\train.csv')\n",
    "\n",
    "# Display the first 5 rows\n",
    "print(df.head())\n"
   ]
  },
  {
   "cell_type": "markdown",
   "metadata": {},
   "source": [
    "17. Calculate the correlation matrix of a DataFrame with numerical columns from the Wine Quality dataset."
   ]
  },
  {
   "cell_type": "code",
   "execution_count": 98,
   "metadata": {},
   "outputs": [
    {
     "name": "stdout",
     "output_type": "stream",
     "text": [
      "                      fixed acidity  volatile acidity  citric acid  \\\n",
      "fixed acidity              1.000000         -0.256131     0.671703   \n",
      "volatile acidity          -0.256131          1.000000    -0.552496   \n",
      "citric acid                0.671703         -0.552496     1.000000   \n",
      "residual sugar             0.114777          0.001918     0.143577   \n",
      "chlorides                  0.093705          0.061298     0.203823   \n",
      "free sulfur dioxide       -0.153794         -0.010504    -0.060978   \n",
      "total sulfur dioxide      -0.113181          0.076470     0.035533   \n",
      "density                    0.668047          0.022026     0.364947   \n",
      "pH                        -0.682978          0.234937    -0.541904   \n",
      "sulphates                  0.183006         -0.260987     0.312770   \n",
      "alcohol                   -0.061668         -0.202288     0.109903   \n",
      "quality                    0.124052         -0.390558     0.226373   \n",
      "\n",
      "                      residual sugar  chlorides  free sulfur dioxide  \\\n",
      "fixed acidity               0.114777   0.093705            -0.153794   \n",
      "volatile acidity            0.001918   0.061298            -0.010504   \n",
      "citric acid                 0.143577   0.203823            -0.060978   \n",
      "residual sugar              1.000000   0.055610             0.187049   \n",
      "chlorides                   0.055610   1.000000             0.005562   \n",
      "free sulfur dioxide         0.187049   0.005562             1.000000   \n",
      "total sulfur dioxide        0.203028   0.047400             0.667666   \n",
      "density                     0.355283   0.200632            -0.021946   \n",
      "pH                         -0.085652  -0.265026             0.070377   \n",
      "sulphates                   0.005527   0.371260             0.051658   \n",
      "alcohol                     0.042075  -0.221141            -0.069408   \n",
      "quality                     0.013732  -0.128907            -0.050656   \n",
      "\n",
      "                      total sulfur dioxide   density        pH  sulphates  \\\n",
      "fixed acidity                    -0.113181  0.668047 -0.682978   0.183006   \n",
      "volatile acidity                  0.076470  0.022026  0.234937  -0.260987   \n",
      "citric acid                       0.035533  0.364947 -0.541904   0.312770   \n",
      "residual sugar                    0.203028  0.355283 -0.085652   0.005527   \n",
      "chlorides                         0.047400  0.200632 -0.265026   0.371260   \n",
      "free sulfur dioxide               0.667666 -0.021946  0.070377   0.051658   \n",
      "total sulfur dioxide              1.000000  0.071269 -0.066495   0.042947   \n",
      "density                           0.071269  1.000000 -0.341699   0.148506   \n",
      "pH                               -0.066495 -0.341699  1.000000  -0.196648   \n",
      "sulphates                         0.042947  0.148506 -0.196648   1.000000   \n",
      "alcohol                          -0.205654 -0.496180  0.205633   0.093595   \n",
      "quality                          -0.185100 -0.174919 -0.057731   0.251397   \n",
      "\n",
      "                       alcohol   quality  \n",
      "fixed acidity        -0.061668  0.124052  \n",
      "volatile acidity     -0.202288 -0.390558  \n",
      "citric acid           0.109903  0.226373  \n",
      "residual sugar        0.042075  0.013732  \n",
      "chlorides            -0.221141 -0.128907  \n",
      "free sulfur dioxide  -0.069408 -0.050656  \n",
      "total sulfur dioxide -0.205654 -0.185100  \n",
      "density              -0.496180 -0.174919  \n",
      "pH                    0.205633 -0.057731  \n",
      "sulphates             0.093595  0.251397  \n",
      "alcohol               1.000000  0.476166  \n",
      "quality               0.476166  1.000000  \n"
     ]
    }
   ],
   "source": [
    "import pandas as pd\n",
    "\n",
    "# Load Wine Quality dataset (you can use pd.read_csv to load from a file)\n",
    "df = pd.read_csv(r'C:\\Users\\Aishwarya\\OneDrive\\Desktop\\DSL PRACTS\\winequality-red.csv')\n",
    "\n",
    "# Calculate correlation matrix\n",
    "print(df.corr())\n"
   ]
  },
  {
   "cell_type": "markdown",
   "metadata": {},
   "source": [
    "18. Create a DataFrame with a 'Date' column and set it as the index, then resample the data by month."
   ]
  },
  {
   "cell_type": "code",
   "execution_count": 99,
   "metadata": {},
   "outputs": [
    {
     "name": "stdout",
     "output_type": "stream",
     "text": [
      "            Value\n",
      "Date             \n",
      "2024-01-31     10\n",
      "2024-02-29     20\n",
      "2024-03-31     30\n"
     ]
    },
    {
     "name": "stderr",
     "output_type": "stream",
     "text": [
      "C:\\Users\\Aishwarya\\AppData\\Local\\Temp\\ipykernel_18076\\180502758.py:14: FutureWarning: 'M' is deprecated and will be removed in a future version, please use 'ME' instead.\n",
      "  monthly_data = df.resample('M').sum()\n"
     ]
    }
   ],
   "source": [
    "import pandas as pd\n",
    "\n",
    "# Create DataFrame with Date column\n",
    "data = {'Date': ['2024-01-01', '2024-02-01', '2024-03-01'], 'Value': [10, 20, 30]}\n",
    "df = pd.DataFrame(data)\n",
    "\n",
    "# Convert 'Date' column to datetime\n",
    "df['Date'] = pd.to_datetime(df['Date'])\n",
    "\n",
    "# Set 'Date' as the index\n",
    "df.set_index('Date', inplace=True)\n",
    "\n",
    "# Resample data by month\n",
    "monthly_data = df.resample('M').sum()\n",
    "print(monthly_data)\n"
   ]
  },
  {
   "cell_type": "markdown",
   "metadata": {},
   "source": [
    "EXPERIMENT 10 -- \n",
    "\n",
    "Assignments for this experiment:\n",
    "\n",
    "1. In the Titanic dataset, replace missing values in the age column with the median age of passengers.\n"
   ]
  },
  {
   "cell_type": "code",
   "execution_count": 100,
   "metadata": {},
   "outputs": [
    {
     "name": "stderr",
     "output_type": "stream",
     "text": [
      "C:\\Users\\Aishwarya\\AppData\\Local\\Temp\\ipykernel_18076\\2389075332.py:7: FutureWarning: A value is trying to be set on a copy of a DataFrame or Series through chained assignment using an inplace method.\n",
      "The behavior will change in pandas 3.0. This inplace method will never work because the intermediate object on which we are setting values always behaves as a copy.\n",
      "\n",
      "For example, when doing 'df[col].method(value, inplace=True)', try using 'df.method({col: value}, inplace=True)' or df[col] = df[col].method(value) instead, to perform the operation inplace on the original object.\n",
      "\n",
      "\n",
      "  df['Age'].fillna(df['Age'].median(), inplace=True)\n"
     ]
    },
    {
     "name": "stdout",
     "output_type": "stream",
     "text": [
      "   PassengerId  Survived  Pclass  \\\n",
      "0            1         0       3   \n",
      "1            2         1       1   \n",
      "2            3         1       3   \n",
      "3            4         1       1   \n",
      "4            5         0       3   \n",
      "\n",
      "                                                Name     Sex   Age  SibSp  \\\n",
      "0                            Braund, Mr. Owen Harris    male  22.0      1   \n",
      "1  Cumings, Mrs. John Bradley (Florence Briggs Th...  female  38.0      1   \n",
      "2                             Heikkinen, Miss. Laina  female  26.0      0   \n",
      "3       Futrelle, Mrs. Jacques Heath (Lily May Peel)  female  35.0      1   \n",
      "4                           Allen, Mr. William Henry    male  35.0      0   \n",
      "\n",
      "   Parch            Ticket     Fare Cabin Embarked  \n",
      "0      0         A/5 21171   7.2500   NaN        S  \n",
      "1      0          PC 17599  71.2833   C85        C  \n",
      "2      0  STON/O2. 3101282   7.9250   NaN        S  \n",
      "3      0            113803  53.1000  C123        S  \n",
      "4      0            373450   8.0500   NaN        S  \n"
     ]
    }
   ],
   "source": [
    "import pandas as pd\n",
    "\n",
    "# Load Titanic dataset\n",
    "df = pd.read_csv(r'C:\\Users\\Aishwarya\\OneDrive\\Desktop\\DSL PRACTS\\titanic\\train.csv')\n",
    "\n",
    "# Replace missing values in 'Age' column with the median age\n",
    "df['Age'].fillna(df['Age'].median(), inplace=True)\n",
    "\n",
    "# Display the cleaned DataFrame\n",
    "print(df.head())\n"
   ]
  },
  {
   "cell_type": "code",
   "execution_count": 101,
   "metadata": {},
   "outputs": [
    {
     "data": {
      "text/html": [
       "<div>\n",
       "<style scoped>\n",
       "    .dataframe tbody tr th:only-of-type {\n",
       "        vertical-align: middle;\n",
       "    }\n",
       "\n",
       "    .dataframe tbody tr th {\n",
       "        vertical-align: top;\n",
       "    }\n",
       "\n",
       "    .dataframe thead th {\n",
       "        text-align: right;\n",
       "    }\n",
       "</style>\n",
       "<table border=\"1\" class=\"dataframe\">\n",
       "  <thead>\n",
       "    <tr style=\"text-align: right;\">\n",
       "      <th></th>\n",
       "      <th>PassengerId</th>\n",
       "      <th>Survived</th>\n",
       "      <th>Pclass</th>\n",
       "      <th>Name</th>\n",
       "      <th>Sex</th>\n",
       "      <th>Age</th>\n",
       "      <th>SibSp</th>\n",
       "      <th>Parch</th>\n",
       "      <th>Ticket</th>\n",
       "      <th>Fare</th>\n",
       "      <th>Cabin</th>\n",
       "      <th>Embarked</th>\n",
       "    </tr>\n",
       "  </thead>\n",
       "  <tbody>\n",
       "    <tr>\n",
       "      <th>0</th>\n",
       "      <td>1</td>\n",
       "      <td>0</td>\n",
       "      <td>3</td>\n",
       "      <td>Braund, Mr. Owen Harris</td>\n",
       "      <td>male</td>\n",
       "      <td>22.0</td>\n",
       "      <td>1</td>\n",
       "      <td>0</td>\n",
       "      <td>A/5 21171</td>\n",
       "      <td>7.2500</td>\n",
       "      <td>NaN</td>\n",
       "      <td>S</td>\n",
       "    </tr>\n",
       "    <tr>\n",
       "      <th>1</th>\n",
       "      <td>2</td>\n",
       "      <td>1</td>\n",
       "      <td>1</td>\n",
       "      <td>Cumings, Mrs. John Bradley (Florence Briggs Th...</td>\n",
       "      <td>female</td>\n",
       "      <td>38.0</td>\n",
       "      <td>1</td>\n",
       "      <td>0</td>\n",
       "      <td>PC 17599</td>\n",
       "      <td>71.2833</td>\n",
       "      <td>C85</td>\n",
       "      <td>C</td>\n",
       "    </tr>\n",
       "    <tr>\n",
       "      <th>2</th>\n",
       "      <td>3</td>\n",
       "      <td>1</td>\n",
       "      <td>3</td>\n",
       "      <td>Heikkinen, Miss. Laina</td>\n",
       "      <td>female</td>\n",
       "      <td>26.0</td>\n",
       "      <td>0</td>\n",
       "      <td>0</td>\n",
       "      <td>STON/O2. 3101282</td>\n",
       "      <td>7.9250</td>\n",
       "      <td>NaN</td>\n",
       "      <td>S</td>\n",
       "    </tr>\n",
       "    <tr>\n",
       "      <th>3</th>\n",
       "      <td>4</td>\n",
       "      <td>1</td>\n",
       "      <td>1</td>\n",
       "      <td>Futrelle, Mrs. Jacques Heath (Lily May Peel)</td>\n",
       "      <td>female</td>\n",
       "      <td>35.0</td>\n",
       "      <td>1</td>\n",
       "      <td>0</td>\n",
       "      <td>113803</td>\n",
       "      <td>53.1000</td>\n",
       "      <td>C123</td>\n",
       "      <td>S</td>\n",
       "    </tr>\n",
       "    <tr>\n",
       "      <th>4</th>\n",
       "      <td>5</td>\n",
       "      <td>0</td>\n",
       "      <td>3</td>\n",
       "      <td>Allen, Mr. William Henry</td>\n",
       "      <td>male</td>\n",
       "      <td>35.0</td>\n",
       "      <td>0</td>\n",
       "      <td>0</td>\n",
       "      <td>373450</td>\n",
       "      <td>8.0500</td>\n",
       "      <td>NaN</td>\n",
       "      <td>S</td>\n",
       "    </tr>\n",
       "    <tr>\n",
       "      <th>...</th>\n",
       "      <td>...</td>\n",
       "      <td>...</td>\n",
       "      <td>...</td>\n",
       "      <td>...</td>\n",
       "      <td>...</td>\n",
       "      <td>...</td>\n",
       "      <td>...</td>\n",
       "      <td>...</td>\n",
       "      <td>...</td>\n",
       "      <td>...</td>\n",
       "      <td>...</td>\n",
       "      <td>...</td>\n",
       "    </tr>\n",
       "    <tr>\n",
       "      <th>886</th>\n",
       "      <td>887</td>\n",
       "      <td>0</td>\n",
       "      <td>2</td>\n",
       "      <td>Montvila, Rev. Juozas</td>\n",
       "      <td>male</td>\n",
       "      <td>27.0</td>\n",
       "      <td>0</td>\n",
       "      <td>0</td>\n",
       "      <td>211536</td>\n",
       "      <td>13.0000</td>\n",
       "      <td>NaN</td>\n",
       "      <td>S</td>\n",
       "    </tr>\n",
       "    <tr>\n",
       "      <th>887</th>\n",
       "      <td>888</td>\n",
       "      <td>1</td>\n",
       "      <td>1</td>\n",
       "      <td>Graham, Miss. Margaret Edith</td>\n",
       "      <td>female</td>\n",
       "      <td>19.0</td>\n",
       "      <td>0</td>\n",
       "      <td>0</td>\n",
       "      <td>112053</td>\n",
       "      <td>30.0000</td>\n",
       "      <td>B42</td>\n",
       "      <td>S</td>\n",
       "    </tr>\n",
       "    <tr>\n",
       "      <th>888</th>\n",
       "      <td>889</td>\n",
       "      <td>0</td>\n",
       "      <td>3</td>\n",
       "      <td>Johnston, Miss. Catherine Helen \"Carrie\"</td>\n",
       "      <td>female</td>\n",
       "      <td>28.0</td>\n",
       "      <td>1</td>\n",
       "      <td>2</td>\n",
       "      <td>W./C. 6607</td>\n",
       "      <td>23.4500</td>\n",
       "      <td>NaN</td>\n",
       "      <td>S</td>\n",
       "    </tr>\n",
       "    <tr>\n",
       "      <th>889</th>\n",
       "      <td>890</td>\n",
       "      <td>1</td>\n",
       "      <td>1</td>\n",
       "      <td>Behr, Mr. Karl Howell</td>\n",
       "      <td>male</td>\n",
       "      <td>26.0</td>\n",
       "      <td>0</td>\n",
       "      <td>0</td>\n",
       "      <td>111369</td>\n",
       "      <td>30.0000</td>\n",
       "      <td>C148</td>\n",
       "      <td>C</td>\n",
       "    </tr>\n",
       "    <tr>\n",
       "      <th>890</th>\n",
       "      <td>891</td>\n",
       "      <td>0</td>\n",
       "      <td>3</td>\n",
       "      <td>Dooley, Mr. Patrick</td>\n",
       "      <td>male</td>\n",
       "      <td>32.0</td>\n",
       "      <td>0</td>\n",
       "      <td>0</td>\n",
       "      <td>370376</td>\n",
       "      <td>7.7500</td>\n",
       "      <td>NaN</td>\n",
       "      <td>Q</td>\n",
       "    </tr>\n",
       "  </tbody>\n",
       "</table>\n",
       "<p>891 rows × 12 columns</p>\n",
       "</div>"
      ],
      "text/plain": [
       "     PassengerId  Survived  Pclass  \\\n",
       "0              1         0       3   \n",
       "1              2         1       1   \n",
       "2              3         1       3   \n",
       "3              4         1       1   \n",
       "4              5         0       3   \n",
       "..           ...       ...     ...   \n",
       "886          887         0       2   \n",
       "887          888         1       1   \n",
       "888          889         0       3   \n",
       "889          890         1       1   \n",
       "890          891         0       3   \n",
       "\n",
       "                                                  Name     Sex   Age  SibSp  \\\n",
       "0                              Braund, Mr. Owen Harris    male  22.0      1   \n",
       "1    Cumings, Mrs. John Bradley (Florence Briggs Th...  female  38.0      1   \n",
       "2                               Heikkinen, Miss. Laina  female  26.0      0   \n",
       "3         Futrelle, Mrs. Jacques Heath (Lily May Peel)  female  35.0      1   \n",
       "4                             Allen, Mr. William Henry    male  35.0      0   \n",
       "..                                                 ...     ...   ...    ...   \n",
       "886                              Montvila, Rev. Juozas    male  27.0      0   \n",
       "887                       Graham, Miss. Margaret Edith  female  19.0      0   \n",
       "888           Johnston, Miss. Catherine Helen \"Carrie\"  female  28.0      1   \n",
       "889                              Behr, Mr. Karl Howell    male  26.0      0   \n",
       "890                                Dooley, Mr. Patrick    male  32.0      0   \n",
       "\n",
       "     Parch            Ticket     Fare Cabin Embarked  \n",
       "0        0         A/5 21171   7.2500   NaN        S  \n",
       "1        0          PC 17599  71.2833   C85        C  \n",
       "2        0  STON/O2. 3101282   7.9250   NaN        S  \n",
       "3        0            113803  53.1000  C123        S  \n",
       "4        0            373450   8.0500   NaN        S  \n",
       "..     ...               ...      ...   ...      ...  \n",
       "886      0            211536  13.0000   NaN        S  \n",
       "887      0            112053  30.0000   B42        S  \n",
       "888      2        W./C. 6607  23.4500   NaN        S  \n",
       "889      0            111369  30.0000  C148        C  \n",
       "890      0            370376   7.7500   NaN        Q  \n",
       "\n",
       "[891 rows x 12 columns]"
      ]
     },
     "execution_count": 101,
     "metadata": {},
     "output_type": "execute_result"
    }
   ],
   "source": [
    "df"
   ]
  },
  {
   "cell_type": "markdown",
   "metadata": {},
   "source": [
    "2. In the Titanic dataset, detect outliers in the fare column using Z-scores and display them."
   ]
  },
  {
   "cell_type": "code",
   "execution_count": 102,
   "metadata": {},
   "outputs": [
    {
     "name": "stdout",
     "output_type": "stream",
     "text": [
      "         Fare  Fare_zscore\n",
      "27   263.0000     4.647001\n",
      "88   263.0000     4.647001\n",
      "118  247.5208     4.335332\n",
      "258  512.3292     9.667167\n",
      "299  247.5208     4.335332\n",
      "311  262.3750     4.634417\n",
      "341  263.0000     4.647001\n",
      "377  211.5000     3.610065\n",
      "380  227.5250     3.932723\n",
      "438  263.0000     4.647001\n",
      "527  221.7792     3.817033\n",
      "557  227.5250     3.932723\n",
      "679  512.3292     9.667167\n",
      "689  211.3375     3.606793\n",
      "700  227.5250     3.932723\n",
      "716  227.5250     3.932723\n",
      "730  211.3375     3.606793\n",
      "737  512.3292     9.667167\n",
      "742  262.3750     4.634417\n",
      "779  211.3375     3.606793\n"
     ]
    }
   ],
   "source": [
    "import numpy as np\n",
    "from scipy.stats import zscore\n",
    "\n",
    "# Z-score calculation for 'Fare' column\n",
    "df['Fare_zscore'] = zscore(df['Fare'].dropna())\n",
    "\n",
    "# Identify outliers where the Z-score is greater than 3 or less than -3\n",
    "outliers = df[df['Fare_zscore'].abs() > 3]\n",
    "\n",
    "# Display the outliers\n",
    "print(outliers[['Fare', 'Fare_zscore']])\n"
   ]
  },
  {
   "cell_type": "markdown",
   "metadata": {},
   "source": [
    "3. Given the Iris dataset, identify and print rows where sepal length (cm) is an outlier using the IQR method."
   ]
  },
  {
   "cell_type": "code",
   "execution_count": 103,
   "metadata": {},
   "outputs": [
    {
     "name": "stdout",
     "output_type": "stream",
     "text": [
      "Empty DataFrame\n",
      "Columns: [Id, SepalLengthCm, SepalWidthCm, PetalLengthCm, PetalWidthCm, Species]\n",
      "Index: []\n"
     ]
    }
   ],
   "source": [
    "# Load the Iris dataset\n",
    "iris = pd.read_csv(r'C:\\Users\\Aishwarya\\OneDrive\\Desktop\\DSL PRACTS\\Iris.csv')\n",
    "\n",
    "# Calculate IQR for 'SepalLengthCm'\n",
    "Q1 = iris['SepalLengthCm'].quantile(0.25)\n",
    "Q3 = iris['SepalLengthCm'].quantile(0.75)\n",
    "IQR = Q3 - Q1\n",
    "\n",
    "# Identify outliers\n",
    "outliers = iris[(iris['SepalLengthCm'] < (Q1 - 1.5 * IQR)) | (iris['SepalLengthCm'] > (Q3 + 1.5 * IQR))]\n",
    "\n",
    "# Display the outliers\n",
    "print(outliers)\n"
   ]
  },
  {
   "cell_type": "markdown",
   "metadata": {},
   "source": [
    "4. Given the Iris dataset, calculate and print the Z-scores for petal width (cm) and identify outliers."
   ]
  },
  {
   "cell_type": "code",
   "execution_count": 104,
   "metadata": {},
   "outputs": [
    {
     "name": "stdout",
     "output_type": "stream",
     "text": [
      "Empty DataFrame\n",
      "Columns: [PetalWidthCm, PetalWidth_zscore]\n",
      "Index: []\n"
     ]
    }
   ],
   "source": [
    "# Z-score calculation for 'PetalWidthCm'\n",
    "iris['PetalWidth_zscore'] = zscore(iris['PetalWidthCm'])\n",
    "\n",
    "# Identify outliers where the Z-score is greater than 3 or less than -3\n",
    "outliers = iris[iris['PetalWidth_zscore'].abs() > 3]\n",
    "\n",
    "# Display the outliers\n",
    "print(outliers[['PetalWidthCm', 'PetalWidth_zscore']])\n"
   ]
  },
  {
   "cell_type": "markdown",
   "metadata": {},
   "source": [
    "5. For the Boston Housing dataset, drop rows where the RM (average number of rooms per dwelling) column has missing values."
   ]
  },
  {
   "cell_type": "code",
   "execution_count": 105,
   "metadata": {},
   "outputs": [
    {
     "name": "stdout",
     "output_type": "stream",
     "text": [
      "   ID     crim    zn  indus  chas    nox     rm   age     dis  rad  tax  \\\n",
      "0   1  0.00632  18.0   2.31     0  0.538  6.575  65.2  4.0900    1  296   \n",
      "1   2  0.02731   0.0   7.07     0  0.469  6.421  78.9  4.9671    2  242   \n",
      "2   4  0.03237   0.0   2.18     0  0.458  6.998  45.8  6.0622    3  222   \n",
      "3   5  0.06905   0.0   2.18     0  0.458  7.147  54.2  6.0622    3  222   \n",
      "4   7  0.08829  12.5   7.87     0  0.524  6.012  66.6  5.5605    5  311   \n",
      "\n",
      "   ptratio   black  lstat  medv  \n",
      "0     15.3  396.90   4.98  24.0  \n",
      "1     17.8  396.90   9.14  21.6  \n",
      "2     18.7  394.63   2.94  33.4  \n",
      "3     18.7  396.90   5.33  36.2  \n",
      "4     15.2  395.60  12.43  22.9  \n"
     ]
    }
   ],
   "source": [
    "# Load the Boston Housing dataset\n",
    "boston = pd.read_csv(r'C:\\Users\\Aishwarya\\OneDrive\\Desktop\\DSL PRACTS\\boston-housing\\train.csv')\n",
    "\n",
    "# Drop rows where 'RM' column has missing values\n",
    "boston_cleaned = boston.dropna(subset=['rm'])\n",
    "\n",
    "# Display the cleaned DataFrame\n",
    "print(boston_cleaned.head())\n"
   ]
  },
  {
   "cell_type": "markdown",
   "metadata": {},
   "source": [
    "6. For the Boston Housing dataset, use the IQR method to detect outliers in the AGE column and list them."
   ]
  },
  {
   "cell_type": "code",
   "execution_count": 106,
   "metadata": {},
   "outputs": [
    {
     "name": "stdout",
     "output_type": "stream",
     "text": [
      "Empty DataFrame\n",
      "Columns: [age]\n",
      "Index: []\n"
     ]
    }
   ],
   "source": [
    "# Calculate IQR for 'AGE' column\n",
    "Q1 = boston['age'].quantile(0.25)\n",
    "Q3 = boston['age'].quantile(0.75)\n",
    "IQR = Q3 - Q1\n",
    "\n",
    "# Identify outliers\n",
    "outliers = boston[(boston['age'] < (Q1 - 1.5 * IQR)) | (boston['age'] > (Q3 + 1.5 * IQR))]\n",
    "\n",
    "# Display the outliers\n",
    "print(outliers[['age']])\n"
   ]
  },
  {
   "cell_type": "markdown",
   "metadata": {},
   "source": [
    "7. In the Wine Quality dataset, fill missing values in the total sulfur dioxide column with the mean of that column."
   ]
  },
  {
   "cell_type": "code",
   "execution_count": 107,
   "metadata": {},
   "outputs": [
    {
     "name": "stdout",
     "output_type": "stream",
     "text": [
      "   fixed acidity  volatile acidity  citric acid  residual sugar  chlorides  \\\n",
      "0            7.4              0.70         0.00             1.9      0.076   \n",
      "1            7.8              0.88         0.00             2.6      0.098   \n",
      "2            7.8              0.76         0.04             2.3      0.092   \n",
      "3           11.2              0.28         0.56             1.9      0.075   \n",
      "4            7.4              0.70         0.00             1.9      0.076   \n",
      "\n",
      "   free sulfur dioxide  total sulfur dioxide  density    pH  sulphates  \\\n",
      "0                 11.0                  34.0   0.9978  3.51       0.56   \n",
      "1                 25.0                  67.0   0.9968  3.20       0.68   \n",
      "2                 15.0                  54.0   0.9970  3.26       0.65   \n",
      "3                 17.0                  60.0   0.9980  3.16       0.58   \n",
      "4                 11.0                  34.0   0.9978  3.51       0.56   \n",
      "\n",
      "   alcohol  quality  \n",
      "0      9.4        5  \n",
      "1      9.8        5  \n",
      "2      9.8        5  \n",
      "3      9.8        6  \n",
      "4      9.4        5  \n"
     ]
    },
    {
     "name": "stderr",
     "output_type": "stream",
     "text": [
      "C:\\Users\\Aishwarya\\AppData\\Local\\Temp\\ipykernel_18076\\4159714317.py:5: FutureWarning: A value is trying to be set on a copy of a DataFrame or Series through chained assignment using an inplace method.\n",
      "The behavior will change in pandas 3.0. This inplace method will never work because the intermediate object on which we are setting values always behaves as a copy.\n",
      "\n",
      "For example, when doing 'df[col].method(value, inplace=True)', try using 'df.method({col: value}, inplace=True)' or df[col] = df[col].method(value) instead, to perform the operation inplace on the original object.\n",
      "\n",
      "\n",
      "  wine['total sulfur dioxide'].fillna(wine['total sulfur dioxide'].mean(), inplace=True)\n"
     ]
    }
   ],
   "source": [
    "# Load the Wine Quality dataset\n",
    "wine = pd.read_csv(r'C:\\Users\\Aishwarya\\OneDrive\\Desktop\\DSL PRACTS\\winequality-red.csv')\n",
    "\n",
    "# Fill missing values in 'total sulfur dioxide' column with the mean\n",
    "wine['total sulfur dioxide'].fillna(wine['total sulfur dioxide'].mean(), inplace=True)\n",
    "\n",
    "# Display the cleaned DataFrame\n",
    "print(wine.head())\n"
   ]
  },
  {
   "cell_type": "markdown",
   "metadata": {},
   "source": [
    "8. In the Wine Quality dataset, replace missing values in the fixed acidity column with 0 and display the cleaned DataFrame."
   ]
  },
  {
   "cell_type": "code",
   "execution_count": 108,
   "metadata": {},
   "outputs": [
    {
     "name": "stdout",
     "output_type": "stream",
     "text": [
      "   fixed acidity  volatile acidity  citric acid  residual sugar  chlorides  \\\n",
      "0            7.4              0.70         0.00             1.9      0.076   \n",
      "1            7.8              0.88         0.00             2.6      0.098   \n",
      "2            7.8              0.76         0.04             2.3      0.092   \n",
      "3           11.2              0.28         0.56             1.9      0.075   \n",
      "4            7.4              0.70         0.00             1.9      0.076   \n",
      "\n",
      "   free sulfur dioxide  total sulfur dioxide  density    pH  sulphates  \\\n",
      "0                 11.0                  34.0   0.9978  3.51       0.56   \n",
      "1                 25.0                  67.0   0.9968  3.20       0.68   \n",
      "2                 15.0                  54.0   0.9970  3.26       0.65   \n",
      "3                 17.0                  60.0   0.9980  3.16       0.58   \n",
      "4                 11.0                  34.0   0.9978  3.51       0.56   \n",
      "\n",
      "   alcohol  quality  \n",
      "0      9.4        5  \n",
      "1      9.8        5  \n",
      "2      9.8        5  \n",
      "3      9.8        6  \n",
      "4      9.4        5  \n"
     ]
    },
    {
     "name": "stderr",
     "output_type": "stream",
     "text": [
      "C:\\Users\\Aishwarya\\AppData\\Local\\Temp\\ipykernel_18076\\556253431.py:2: FutureWarning: A value is trying to be set on a copy of a DataFrame or Series through chained assignment using an inplace method.\n",
      "The behavior will change in pandas 3.0. This inplace method will never work because the intermediate object on which we are setting values always behaves as a copy.\n",
      "\n",
      "For example, when doing 'df[col].method(value, inplace=True)', try using 'df.method({col: value}, inplace=True)' or df[col] = df[col].method(value) instead, to perform the operation inplace on the original object.\n",
      "\n",
      "\n",
      "  wine['fixed acidity'].fillna(0, inplace=True)\n"
     ]
    }
   ],
   "source": [
    "# Replace missing values in 'fixed acidity' column with 0\n",
    "wine['fixed acidity'].fillna(0, inplace=True)\n",
    "\n",
    "# Display the cleaned DataFrame\n",
    "print(wine.head())\n"
   ]
  },
  {
   "cell_type": "markdown",
   "metadata": {},
   "source": [
    "EXPERIMENT 11 ----\n",
    "\n",
    "Q1)1. In the Titanic dataset, fill missing values in the embarked column with the mode of that column."
   ]
  },
  {
   "cell_type": "code",
   "execution_count": 109,
   "metadata": {},
   "outputs": [
    {
     "name": "stderr",
     "output_type": "stream",
     "text": [
      "C:\\Users\\Aishwarya\\AppData\\Local\\Temp\\ipykernel_18076\\475240769.py:7: FutureWarning: A value is trying to be set on a copy of a DataFrame or Series through chained assignment using an inplace method.\n",
      "The behavior will change in pandas 3.0. This inplace method will never work because the intermediate object on which we are setting values always behaves as a copy.\n",
      "\n",
      "For example, when doing 'df[col].method(value, inplace=True)', try using 'df.method({col: value}, inplace=True)' or df[col] = df[col].method(value) instead, to perform the operation inplace on the original object.\n",
      "\n",
      "\n",
      "  df['Embarked'].fillna(df['Embarked'].mode()[0], inplace=True)\n"
     ]
    },
    {
     "name": "stdout",
     "output_type": "stream",
     "text": [
      "   PassengerId  Survived  Pclass  \\\n",
      "0            1         0       3   \n",
      "1            2         1       1   \n",
      "2            3         1       3   \n",
      "3            4         1       1   \n",
      "4            5         0       3   \n",
      "\n",
      "                                                Name     Sex   Age  SibSp  \\\n",
      "0                            Braund, Mr. Owen Harris    male  22.0      1   \n",
      "1  Cumings, Mrs. John Bradley (Florence Briggs Th...  female  38.0      1   \n",
      "2                             Heikkinen, Miss. Laina  female  26.0      0   \n",
      "3       Futrelle, Mrs. Jacques Heath (Lily May Peel)  female  35.0      1   \n",
      "4                           Allen, Mr. William Henry    male  35.0      0   \n",
      "\n",
      "   Parch            Ticket     Fare Cabin Embarked  \n",
      "0      0         A/5 21171   7.2500   NaN        S  \n",
      "1      0          PC 17599  71.2833   C85        C  \n",
      "2      0  STON/O2. 3101282   7.9250   NaN        S  \n",
      "3      0            113803  53.1000  C123        S  \n",
      "4      0            373450   8.0500   NaN        S  \n"
     ]
    }
   ],
   "source": [
    "import pandas as pd\n",
    "\n",
    "# Load Titanic dataset\n",
    "df = pd.read_csv(r'C:\\Users\\Aishwarya\\OneDrive\\Desktop\\DSL PRACTS\\titanic\\train.csv')\n",
    "\n",
    "# Fill missing values in 'Embarked' column with the mode\n",
    "df['Embarked'].fillna(df['Embarked'].mode()[0], inplace=True)\n",
    "\n",
    "# Display the cleaned DataFrame\n",
    "print(df.head())\n"
   ]
  },
  {
   "cell_type": "markdown",
   "metadata": {},
   "source": [
    "2. In the Titanic dataset, normalize the fare column to have values between 0 and 1."
   ]
  },
  {
   "cell_type": "code",
   "execution_count": 110,
   "metadata": {},
   "outputs": [
    {
     "name": "stdout",
     "output_type": "stream",
     "text": [
      "   PassengerId  Survived  Pclass  \\\n",
      "0            1         0       3   \n",
      "1            2         1       1   \n",
      "2            3         1       3   \n",
      "3            4         1       1   \n",
      "4            5         0       3   \n",
      "\n",
      "                                                Name     Sex   Age  SibSp  \\\n",
      "0                            Braund, Mr. Owen Harris    male  22.0      1   \n",
      "1  Cumings, Mrs. John Bradley (Florence Briggs Th...  female  38.0      1   \n",
      "2                             Heikkinen, Miss. Laina  female  26.0      0   \n",
      "3       Futrelle, Mrs. Jacques Heath (Lily May Peel)  female  35.0      1   \n",
      "4                           Allen, Mr. William Henry    male  35.0      0   \n",
      "\n",
      "   Parch            Ticket      Fare Cabin Embarked  \n",
      "0      0         A/5 21171  0.014151   NaN        S  \n",
      "1      0          PC 17599  0.139136   C85        C  \n",
      "2      0  STON/O2. 3101282  0.015469   NaN        S  \n",
      "3      0            113803  0.103644  C123        S  \n",
      "4      0            373450  0.015713   NaN        S  \n"
     ]
    }
   ],
   "source": [
    "from sklearn.preprocessing import MinMaxScaler\n",
    "\n",
    "# Initialize MinMaxScaler\n",
    "scaler = MinMaxScaler()\n",
    "\n",
    "# Normalize the 'Fare' column\n",
    "df['Fare'] = scaler.fit_transform(df[['Fare']])\n",
    "\n",
    "# Display the updated DataFrame\n",
    "print(df.head())\n"
   ]
  },
  {
   "cell_type": "markdown",
   "metadata": {},
   "source": [
    "3. In the Titanic dataset, create a new feature is_minor that indicates if the passenger is under 18 years old."
   ]
  },
  {
   "cell_type": "code",
   "execution_count": 111,
   "metadata": {},
   "outputs": [
    {
     "name": "stdout",
     "output_type": "stream",
     "text": [
      "   PassengerId  Survived  Pclass  \\\n",
      "0            1         0       3   \n",
      "1            2         1       1   \n",
      "2            3         1       3   \n",
      "3            4         1       1   \n",
      "4            5         0       3   \n",
      "\n",
      "                                                Name     Sex   Age  SibSp  \\\n",
      "0                            Braund, Mr. Owen Harris    male  22.0      1   \n",
      "1  Cumings, Mrs. John Bradley (Florence Briggs Th...  female  38.0      1   \n",
      "2                             Heikkinen, Miss. Laina  female  26.0      0   \n",
      "3       Futrelle, Mrs. Jacques Heath (Lily May Peel)  female  35.0      1   \n",
      "4                           Allen, Mr. William Henry    male  35.0      0   \n",
      "\n",
      "   Parch            Ticket      Fare Cabin Embarked  is_minor  \n",
      "0      0         A/5 21171  0.014151   NaN        S     False  \n",
      "1      0          PC 17599  0.139136   C85        C     False  \n",
      "2      0  STON/O2. 3101282  0.015469   NaN        S     False  \n",
      "3      0            113803  0.103644  C123        S     False  \n",
      "4      0            373450  0.015713   NaN        S     False  \n"
     ]
    }
   ],
   "source": [
    "# Create a new column 'is_minor' indicating if the passenger is under 18\n",
    "df['is_minor'] = df['Age'] < 18\n",
    "\n",
    "# Display the updated DataFrame\n",
    "print(df.head())\n"
   ]
  },
  {
   "cell_type": "markdown",
   "metadata": {},
   "source": [
    "4. In the Iris dataset, replace missing values in any column with the median of that column."
   ]
  },
  {
   "cell_type": "code",
   "execution_count": 112,
   "metadata": {},
   "outputs": [
    {
     "name": "stdout",
     "output_type": "stream",
     "text": [
      "   Id  SepalLengthCm  SepalWidthCm  PetalLengthCm  PetalWidthCm      Species\n",
      "0   1            5.1           3.5            1.4           0.2  Iris-setosa\n",
      "1   2            4.9           3.0            1.4           0.2  Iris-setosa\n",
      "2   3            4.7           3.2            1.3           0.2  Iris-setosa\n",
      "3   4            4.6           3.1            1.5           0.2  Iris-setosa\n",
      "4   5            5.0           3.6            1.4           0.2  Iris-setosa\n"
     ]
    }
   ],
   "source": [
    "import pandas as pd\n",
    "\n",
    "# Load the Iris dataset\n",
    "iris = pd.read_csv(r'C:\\Users\\Aishwarya\\OneDrive\\Desktop\\DSL PRACTS\\Iris.csv')\n",
    "\n",
    "# Select only numeric columns\n",
    "numeric_columns = iris.select_dtypes(include=['float64', 'int64']).columns\n",
    "\n",
    "# Replace missing values with the median of each numeric column\n",
    "iris[numeric_columns] = iris[numeric_columns].fillna(iris[numeric_columns].median())\n",
    "\n",
    "# Display the cleaned DataFrame\n",
    "print(iris.head())\n"
   ]
  },
  {
   "cell_type": "markdown",
   "metadata": {},
   "source": [
    "5. In the Iris dataset, use one-hot encoding to convert the species column to numeric values."
   ]
  },
  {
   "cell_type": "code",
   "execution_count": 113,
   "metadata": {},
   "outputs": [
    {
     "name": "stdout",
     "output_type": "stream",
     "text": [
      "   Id  SepalLengthCm  SepalWidthCm  PetalLengthCm  PetalWidthCm  \\\n",
      "0   1            5.1           3.5            1.4           0.2   \n",
      "1   2            4.9           3.0            1.4           0.2   \n",
      "2   3            4.7           3.2            1.3           0.2   \n",
      "3   4            4.6           3.1            1.5           0.2   \n",
      "4   5            5.0           3.6            1.4           0.2   \n",
      "\n",
      "   Species_Iris-versicolor  Species_Iris-virginica  \n",
      "0                    False                   False  \n",
      "1                    False                   False  \n",
      "2                    False                   False  \n",
      "3                    False                   False  \n",
      "4                    False                   False  \n"
     ]
    }
   ],
   "source": [
    "# One-hot encoding for the 'species' column\n",
    "iris_encoded = pd.get_dummies(iris, columns=['Species'], drop_first=True)\n",
    "\n",
    "# Display the updated DataFrame\n",
    "print(iris_encoded.head())\n"
   ]
  },
  {
   "cell_type": "markdown",
   "metadata": {},
   "source": [
    "6. In the Iris dataset, standardize the sepal length (cm) column to have a mean of 0 and a standard deviation of 1."
   ]
  },
  {
   "cell_type": "code",
   "execution_count": 114,
   "metadata": {},
   "outputs": [
    {
     "name": "stdout",
     "output_type": "stream",
     "text": [
      "   Id  SepalLengthCm  SepalWidthCm  PetalLengthCm  PetalWidthCm      Species\n",
      "0   1      -0.900681           3.5            1.4           0.2  Iris-setosa\n",
      "1   2      -1.143017           3.0            1.4           0.2  Iris-setosa\n",
      "2   3      -1.385353           3.2            1.3           0.2  Iris-setosa\n",
      "3   4      -1.506521           3.1            1.5           0.2  Iris-setosa\n",
      "4   5      -1.021849           3.6            1.4           0.2  Iris-setosa\n"
     ]
    }
   ],
   "source": [
    "from sklearn.preprocessing import StandardScaler\n",
    "\n",
    "# Initialize StandardScaler\n",
    "scaler = StandardScaler()\n",
    "\n",
    "# Standardize the 'SepalLengthCm' column\n",
    "iris['SepalLengthCm'] = scaler.fit_transform(iris[['SepalLengthCm']])\n",
    "\n",
    "# Display the updated DataFrame\n",
    "print(iris.head())\n"
   ]
  },
  {
   "cell_type": "markdown",
   "metadata": {},
   "source": [
    "7. In the Boston Housing dataset, remove rows where the CHAS column has missing values."
   ]
  },
  {
   "cell_type": "code",
   "execution_count": 115,
   "metadata": {},
   "outputs": [
    {
     "name": "stdout",
     "output_type": "stream",
     "text": [
      "   ID     crim    zn  indus  chas    nox     rm   age     dis  rad  tax  \\\n",
      "0   1  0.00632  18.0   2.31     0  0.538  6.575  65.2  4.0900    1  296   \n",
      "1   2  0.02731   0.0   7.07     0  0.469  6.421  78.9  4.9671    2  242   \n",
      "2   4  0.03237   0.0   2.18     0  0.458  6.998  45.8  6.0622    3  222   \n",
      "3   5  0.06905   0.0   2.18     0  0.458  7.147  54.2  6.0622    3  222   \n",
      "4   7  0.08829  12.5   7.87     0  0.524  6.012  66.6  5.5605    5  311   \n",
      "\n",
      "   ptratio   black  lstat  medv  \n",
      "0     15.3  396.90   4.98  24.0  \n",
      "1     17.8  396.90   9.14  21.6  \n",
      "2     18.7  394.63   2.94  33.4  \n",
      "3     18.7  396.90   5.33  36.2  \n",
      "4     15.2  395.60  12.43  22.9  \n"
     ]
    }
   ],
   "source": [
    "# Load the Boston Housing dataset\n",
    "boston = pd.read_csv(r'C:\\Users\\Aishwarya\\OneDrive\\Desktop\\DSL PRACTS\\boston-housing\\train.csv')\n",
    "\n",
    "# Drop rows where 'CHAS' column has missing values\n",
    "boston_cleaned = boston.dropna(subset=['chas'])\n",
    "\n",
    "# Display the cleaned DataFrame\n",
    "print(boston_cleaned.head())\n"
   ]
  },
  {
   "cell_type": "markdown",
   "metadata": {},
   "source": [
    "8. In the Boston Housing dataset, detect and remove outliers in the TAX column using the IQR method."
   ]
  },
  {
   "cell_type": "code",
   "execution_count": 116,
   "metadata": {},
   "outputs": [
    {
     "name": "stdout",
     "output_type": "stream",
     "text": [
      "   ID     crim    zn  indus  chas    nox     rm   age     dis  rad  tax  \\\n",
      "0   1  0.00632  18.0   2.31     0  0.538  6.575  65.2  4.0900    1  296   \n",
      "1   2  0.02731   0.0   7.07     0  0.469  6.421  78.9  4.9671    2  242   \n",
      "2   4  0.03237   0.0   2.18     0  0.458  6.998  45.8  6.0622    3  222   \n",
      "3   5  0.06905   0.0   2.18     0  0.458  7.147  54.2  6.0622    3  222   \n",
      "4   7  0.08829  12.5   7.87     0  0.524  6.012  66.6  5.5605    5  311   \n",
      "\n",
      "   ptratio   black  lstat  medv  \n",
      "0     15.3  396.90   4.98  24.0  \n",
      "1     17.8  396.90   9.14  21.6  \n",
      "2     18.7  394.63   2.94  33.4  \n",
      "3     18.7  396.90   5.33  36.2  \n",
      "4     15.2  395.60  12.43  22.9  \n"
     ]
    }
   ],
   "source": [
    "# Calculate IQR for 'TAX' column\n",
    "Q1 = boston['tax'].quantile(0.25)\n",
    "Q3 = boston['tax'].quantile(0.75)\n",
    "IQR = Q3 - Q1\n",
    "\n",
    "# Identify outliers\n",
    "outliers = boston[(boston['tax'] < (Q1 - 1.5 * IQR)) | (boston['tax'] > (Q3 + 1.5 * IQR))]\n",
    "\n",
    "# Remove outliers\n",
    "boston_no_outliers = boston[~boston.index.isin(outliers.index)]\n",
    "\n",
    "# Display the cleaned DataFrame\n",
    "print(boston_no_outliers.head())\n"
   ]
  },
  {
   "cell_type": "markdown",
   "metadata": {},
   "source": [
    "9. In the Boston Housing dataset, replace missing values in the DIS column with the median value of that column."
   ]
  },
  {
   "cell_type": "code",
   "execution_count": 117,
   "metadata": {},
   "outputs": [
    {
     "name": "stdout",
     "output_type": "stream",
     "text": [
      "   ID     crim    zn  indus  chas    nox     rm   age     dis  rad  tax  \\\n",
      "0   1  0.00632  18.0   2.31     0  0.538  6.575  65.2  4.0900    1  296   \n",
      "1   2  0.02731   0.0   7.07     0  0.469  6.421  78.9  4.9671    2  242   \n",
      "2   4  0.03237   0.0   2.18     0  0.458  6.998  45.8  6.0622    3  222   \n",
      "3   5  0.06905   0.0   2.18     0  0.458  7.147  54.2  6.0622    3  222   \n",
      "4   7  0.08829  12.5   7.87     0  0.524  6.012  66.6  5.5605    5  311   \n",
      "\n",
      "   ptratio   black  lstat  medv  \n",
      "0     15.3  396.90   4.98  24.0  \n",
      "1     17.8  396.90   9.14  21.6  \n",
      "2     18.7  394.63   2.94  33.4  \n",
      "3     18.7  396.90   5.33  36.2  \n",
      "4     15.2  395.60  12.43  22.9  \n"
     ]
    },
    {
     "name": "stderr",
     "output_type": "stream",
     "text": [
      "C:\\Users\\Aishwarya\\AppData\\Local\\Temp\\ipykernel_18076\\1574909836.py:2: FutureWarning: A value is trying to be set on a copy of a DataFrame or Series through chained assignment using an inplace method.\n",
      "The behavior will change in pandas 3.0. This inplace method will never work because the intermediate object on which we are setting values always behaves as a copy.\n",
      "\n",
      "For example, when doing 'df[col].method(value, inplace=True)', try using 'df.method({col: value}, inplace=True)' or df[col] = df[col].method(value) instead, to perform the operation inplace on the original object.\n",
      "\n",
      "\n",
      "  boston['dis'].fillna(boston['dis'].median(), inplace=True)\n"
     ]
    }
   ],
   "source": [
    "# Replace missing values in 'DIS' column with the median\n",
    "boston['dis'].fillna(boston['dis'].median(), inplace=True)\n",
    "\n",
    "# Display the cleaned DataFrame\n",
    "print(boston.head())\n"
   ]
  },
  {
   "cell_type": "markdown",
   "metadata": {},
   "source": [
    "10. In the Wine Quality dataset, drop duplicate rows based on all columns."
   ]
  },
  {
   "cell_type": "code",
   "execution_count": 118,
   "metadata": {},
   "outputs": [
    {
     "name": "stdout",
     "output_type": "stream",
     "text": [
      "   fixed acidity  volatile acidity  citric acid  residual sugar  chlorides  \\\n",
      "0            7.4              0.70         0.00             1.9      0.076   \n",
      "1            7.8              0.88         0.00             2.6      0.098   \n",
      "2            7.8              0.76         0.04             2.3      0.092   \n",
      "3           11.2              0.28         0.56             1.9      0.075   \n",
      "5            7.4              0.66         0.00             1.8      0.075   \n",
      "\n",
      "   free sulfur dioxide  total sulfur dioxide  density    pH  sulphates  \\\n",
      "0                 11.0                  34.0   0.9978  3.51       0.56   \n",
      "1                 25.0                  67.0   0.9968  3.20       0.68   \n",
      "2                 15.0                  54.0   0.9970  3.26       0.65   \n",
      "3                 17.0                  60.0   0.9980  3.16       0.58   \n",
      "5                 13.0                  40.0   0.9978  3.51       0.56   \n",
      "\n",
      "   alcohol  quality  \n",
      "0      9.4        5  \n",
      "1      9.8        5  \n",
      "2      9.8        5  \n",
      "3      9.8        6  \n",
      "5      9.4        5  \n"
     ]
    }
   ],
   "source": [
    "# Load the Wine Quality dataset\n",
    "wine = pd.read_csv(r'C:\\Users\\Aishwarya\\OneDrive\\Desktop\\DSL PRACTS\\winequality-red.csv')\n",
    "\n",
    "# Drop duplicate rows\n",
    "wine_cleaned = wine.drop_duplicates()\n",
    "\n",
    "# Display the cleaned DataFrame\n",
    "print(wine_cleaned.head())\n"
   ]
  },
  {
   "cell_type": "markdown",
   "metadata": {},
   "source": [
    "11. In the Wine Quality dataset, fill missing values in the citric acid column with the mean of that column."
   ]
  },
  {
   "cell_type": "code",
   "execution_count": 119,
   "metadata": {},
   "outputs": [
    {
     "name": "stderr",
     "output_type": "stream",
     "text": [
      "C:\\Users\\Aishwarya\\AppData\\Local\\Temp\\ipykernel_18076\\1901243230.py:2: FutureWarning: A value is trying to be set on a copy of a DataFrame or Series through chained assignment using an inplace method.\n",
      "The behavior will change in pandas 3.0. This inplace method will never work because the intermediate object on which we are setting values always behaves as a copy.\n",
      "\n",
      "For example, when doing 'df[col].method(value, inplace=True)', try using 'df.method({col: value}, inplace=True)' or df[col] = df[col].method(value) instead, to perform the operation inplace on the original object.\n",
      "\n",
      "\n",
      "  wine['citric acid'].fillna(wine['citric acid'].mean(), inplace=True)\n"
     ]
    },
    {
     "name": "stdout",
     "output_type": "stream",
     "text": [
      "   fixed acidity  volatile acidity  citric acid  residual sugar  chlorides  \\\n",
      "0            7.4              0.70         0.00             1.9      0.076   \n",
      "1            7.8              0.88         0.00             2.6      0.098   \n",
      "2            7.8              0.76         0.04             2.3      0.092   \n",
      "3           11.2              0.28         0.56             1.9      0.075   \n",
      "4            7.4              0.70         0.00             1.9      0.076   \n",
      "\n",
      "   free sulfur dioxide  total sulfur dioxide  density    pH  sulphates  \\\n",
      "0                 11.0                  34.0   0.9978  3.51       0.56   \n",
      "1                 25.0                  67.0   0.9968  3.20       0.68   \n",
      "2                 15.0                  54.0   0.9970  3.26       0.65   \n",
      "3                 17.0                  60.0   0.9980  3.16       0.58   \n",
      "4                 11.0                  34.0   0.9978  3.51       0.56   \n",
      "\n",
      "   alcohol  quality  \n",
      "0      9.4        5  \n",
      "1      9.8        5  \n",
      "2      9.8        5  \n",
      "3      9.8        6  \n",
      "4      9.4        5  \n"
     ]
    }
   ],
   "source": [
    "# Fill missing values in 'citric acid' column with the mean\n",
    "wine['citric acid'].fillna(wine['citric acid'].mean(), inplace=True)\n",
    "\n",
    "# Display the cleaned DataFrame\n",
    "print(wine.head())\n"
   ]
  },
  {
   "cell_type": "markdown",
   "metadata": {},
   "source": [
    "12. In the Wine Quality dataset, identify and drop outliers in the pH column using Z-scores."
   ]
  },
  {
   "cell_type": "code",
   "execution_count": 120,
   "metadata": {},
   "outputs": [
    {
     "name": "stdout",
     "output_type": "stream",
     "text": [
      "   fixed acidity  volatile acidity  citric acid  residual sugar  chlorides  \\\n",
      "0            7.4              0.70         0.00             1.9      0.076   \n",
      "1            7.8              0.88         0.00             2.6      0.098   \n",
      "2            7.8              0.76         0.04             2.3      0.092   \n",
      "3           11.2              0.28         0.56             1.9      0.075   \n",
      "4            7.4              0.70         0.00             1.9      0.076   \n",
      "\n",
      "   free sulfur dioxide  total sulfur dioxide  density    pH  sulphates  \\\n",
      "0                 11.0                  34.0   0.9978  3.51       0.56   \n",
      "1                 25.0                  67.0   0.9968  3.20       0.68   \n",
      "2                 15.0                  54.0   0.9970  3.26       0.65   \n",
      "3                 17.0                  60.0   0.9980  3.16       0.58   \n",
      "4                 11.0                  34.0   0.9978  3.51       0.56   \n",
      "\n",
      "   alcohol  quality  pH_zscore  \n",
      "0      9.4        5   1.288643  \n",
      "1      9.8        5  -0.719933  \n",
      "2      9.8        5  -0.331177  \n",
      "3      9.8        6  -0.979104  \n",
      "4      9.4        5   1.288643  \n"
     ]
    }
   ],
   "source": [
    "# Calculate Z-scores for 'pH' column\n",
    "from scipy.stats import zscore\n",
    "\n",
    "wine['pH_zscore'] = zscore(wine['pH'])\n",
    "\n",
    "# Identify outliers where the Z-score is greater than 3 or less than -3\n",
    "outliers = wine[abs(wine['pH_zscore']) > 3]\n",
    "\n",
    "# Drop outliers from the DataFrame\n",
    "wine_no_outliers = wine[~wine.index.isin(outliers.index)]\n",
    "\n",
    "# Display the cleaned DataFrame\n",
    "print(wine_no_outliers.head())\n"
   ]
  },
  {
   "cell_type": "markdown",
   "metadata": {},
   "source": [
    "1. In the Titanic dataset, create a bar chart to show the count of passengers in each 'Pclass'."
   ]
  },
  {
   "cell_type": "code",
   "execution_count": 121,
   "metadata": {},
   "outputs": [
    {
     "data": {
      "image/png": "[encoded data removed]",
      "text/plain": [
       "<Figure size 640x480 with 1 Axes>"
      ]
     },
     "metadata": {},
     "output_type": "display_data"
    }
   ],
   "source": [
    "import pandas as pd\n",
    "import matplotlib.pyplot as plt\n",
    "\n",
    "# Load the Titanic dataset\n",
    "df = pd.read_csv(r'C:\\Users\\Aishwarya\\OneDrive\\Desktop\\DSL PRACTS\\titanic\\train.csv')\n",
    "\n",
    "# Create a bar chart for the count of passengers in each Pclass\n",
    "df['Pclass'].value_counts().plot(kind='bar', color='skyblue')\n",
    "plt.title('Count of Passengers in Each Pclass')\n",
    "plt.xlabel('Pclass')\n",
    "plt.ylabel('Count')\n",
    "plt.xticks(rotation=0)\n",
    "plt.show()\n"
   ]
  },
  {
   "cell_type": "markdown",
   "metadata": {},
   "source": [
    "2. For the Titanic dataset, plot a histogram of 'Age' to see how many passengers fall into different age ranges."
   ]
  },
  {
   "cell_type": "code",
   "execution_count": 122,
   "metadata": {},
   "outputs": [
    {
     "data": {
      "image/png": "[encoded data removed]",
      "text/plain": [
       "<Figure size 640x480 with 1 Axes>"
      ]
     },
     "metadata": {},
     "output_type": "display_data"
    }
   ],
   "source": [
    "# Plot a histogram of the 'Age' column\n",
    "df['Age'].dropna().plot(kind='hist', bins=20, color='lightgreen', edgecolor='black')\n",
    "plt.title('Distribution of Passengers\\' Age')\n",
    "plt.xlabel('Age')\n",
    "plt.ylabel('Frequency')\n",
    "plt.show()\n"
   ]
  },
  {
   "cell_type": "markdown",
   "metadata": {},
   "source": [
    "3. In the Titanic dataset, generate a pie chart to display the proportion of survivors vs. non-survivors."
   ]
  },
  {
   "cell_type": "code",
   "execution_count": 123,
   "metadata": {},
   "outputs": [
    {
     "data": {
      "image/png": "[encoded data removed]",
      "text/plain": [
       "<Figure size 640x480 with 1 Axes>"
      ]
     },
     "metadata": {},
     "output_type": "display_data"
    }
   ],
   "source": [
    "# Pie chart for survivors vs non-survivors\n",
    "df['Survived'].value_counts().plot(kind='pie', autopct='%1.1f%%', colors=['lightblue', 'lightcoral'], startangle=90)\n",
    "plt.title('Proportion of Survivors vs Non-Survivors')\n",
    "plt.ylabel('')\n",
    "plt.show()\n"
   ]
  },
  {
   "cell_type": "markdown",
   "metadata": {},
   "source": [
    "4. From the Iris dataset, create a scatter plot of 'SepalLength' vs. 'SepalWidth' using different colors for each 'Species'."
   ]
  },
  {
   "cell_type": "code",
   "execution_count": 124,
   "metadata": {},
   "outputs": [
    {
     "data": {
      "image/png": "[encoded data removed]",
      "text/plain": [
       "<Figure size 640x480 with 1 Axes>"
      ]
     },
     "metadata": {},
     "output_type": "display_data"
    }
   ],
   "source": [
    "# Load the Iris dataset\n",
    "iris = pd.read_csv(r'C:\\Users\\Aishwarya\\OneDrive\\Desktop\\DSL PRACTS\\Iris.csv')\n",
    "\n",
    "# Create a scatter plot for SepalLength vs SepalWidth with different colors for each species\n",
    "import seaborn as sns\n",
    "sns.scatterplot(data=iris, x='SepalLengthCm', y='SepalWidthCm', hue='Species', palette='Set1')\n",
    "plt.title('SepalLength vs SepalWidth')\n",
    "plt.show()\n"
   ]
  },
  {
   "cell_type": "markdown",
   "metadata": {},
   "source": [
    "5. For the Iris dataset, plot a histogram of 'PetalLength' to show the distribution of petal lengths."
   ]
  },
  {
   "cell_type": "code",
   "execution_count": 125,
   "metadata": {},
   "outputs": [
    {
     "data": {
      "image/png": "[encoded data removed]",
      "text/plain": [
       "<Figure size 640x480 with 1 Axes>"
      ]
     },
     "metadata": {},
     "output_type": "display_data"
    }
   ],
   "source": [
    "# Plot a histogram for 'PetalLengthCm' in the Iris dataset\n",
    "iris['PetalLengthCm'].plot(kind='hist', bins=20, color='lightblue', edgecolor='black')\n",
    "plt.title('Distribution of Petal Length')\n",
    "plt.xlabel('Petal Length (cm)')\n",
    "plt.ylabel('Frequency')\n",
    "plt.show()\n"
   ]
  },
  {
   "cell_type": "markdown",
   "metadata": {},
   "source": [
    "6. In the Iris dataset, create a bar chart to display the average 'PetalWidth' for each 'Species'."
   ]
  },
  {
   "cell_type": "code",
   "execution_count": 126,
   "metadata": {},
   "outputs": [
    {
     "name": "stderr",
     "output_type": "stream",
     "text": [
      "C:\\Users\\Aishwarya\\AppData\\Local\\Temp\\ipykernel_18076\\554820923.py:2: FutureWarning: \n",
      "\n",
      "Passing `palette` without assigning `hue` is deprecated and will be removed in v0.14.0. Assign the `x` variable to `hue` and set `legend=False` for the same effect.\n",
      "\n",
      "  sns.barplot(data=iris, x='Species', y='PetalWidthCm', palette='Set2')\n"
     ]
    },
    {
     "data": {
      "image/png": "[encoded data removed]",
      "text/plain": [
       "<Figure size 640x480 with 1 Axes>"
      ]
     },
     "metadata": {},
     "output_type": "display_data"
    }
   ],
   "source": [
    "# Create a bar chart for the average 'PetalWidth' for each species\n",
    "sns.barplot(data=iris, x='Species', y='PetalWidthCm', palette='Set2')\n",
    "plt.title('Average PetalWidth for Each Species')\n",
    "plt.xlabel('Species')\n",
    "plt.ylabel('Average Petal Width (cm)')\n",
    "plt.show()\n"
   ]
  },
  {
   "cell_type": "markdown",
   "metadata": {},
   "source": [
    "7. In the Boston dataset, plot a scatter plot of 'RM' (average number of rooms) vs. 'MEDV' (median value of homes)."
   ]
  },
  {
   "cell_type": "markdown",
   "metadata": {},
   "source": [
    "8. For the Boston dataset, create a histogram of 'AGE' (proportion of units built before 1940)."
   ]
  },
  {
   "cell_type": "code",
   "execution_count": 127,
   "metadata": {},
   "outputs": [
    {
     "data": {
      "image/png": "[encoded data removed]",
      "text/plain": [
       "<Figure size 640x480 with 1 Axes>"
      ]
     },
     "metadata": {},
     "output_type": "display_data"
    }
   ],
   "source": [
    "import pandas as pd\n",
    "import matplotlib.pyplot as plt\n",
    "\n",
    "# Load the Boston Housing dataset\n",
    "boston_df = pd.read_csv(r'C:\\Users\\Aishwarya\\OneDrive\\Desktop\\DSL PRACTS\\boston-housing\\train.csv')\n",
    "\n",
    "# Plot a histogram of the 'AGE' column in the Boston dataset\n",
    "plt.hist(boston_df['age'], bins=20, color='lightblue', edgecolor='black')\n",
    "plt.title('Distribution of AGE (Proportion of Units Built Before 1940)')\n",
    "plt.xlabel('AGE')\n",
    "plt.ylabel('Frequency')\n",
    "plt.show()\n",
    "\n"
   ]
  },
  {
   "cell_type": "markdown",
   "metadata": {},
   "source": [
    "9. In the Boston dataset, generate a bar chart to show the count of records for different 'CHAS' (Charles River dummy variable) values."
   ]
  },
  {
   "cell_type": "code",
   "execution_count": 128,
   "metadata": {},
   "outputs": [
    {
     "data": {
      "image/png": "[encoded data removed]",
      "text/plain": [
       "<Figure size 640x480 with 1 Axes>"
      ]
     },
     "metadata": {},
     "output_type": "display_data"
    }
   ],
   "source": [
    "# Plot a bar chart for 'CHAS' (Charles River dummy variable)\n",
    "boston_df['chas'].value_counts().plot(kind='bar', color='lightgreen')\n",
    "plt.title('Count of Records for Different CHAS Values')\n",
    "plt.xlabel('chas')\n",
    "plt.ylabel('Count')\n",
    "plt.xticks(rotation=0)\n",
    "plt.show()\n"
   ]
  },
  {
   "cell_type": "markdown",
   "metadata": {},
   "source": [
    "10. From the Wine dataset, plot a scatter plot of 'Alcohol' vs. 'ColorIntensity'."
   ]
  },
  {
   "cell_type": "code",
   "execution_count": 129,
   "metadata": {},
   "outputs": [
    {
     "data": {
      "image/png": "[encoded data removed]",
      "text/plain": [
       "<Figure size 640x480 with 1 Axes>"
      ]
     },
     "metadata": {},
     "output_type": "display_data"
    }
   ],
   "source": [
    "import pandas as pd\n",
    "import matplotlib.pyplot as plt\n",
    "\n",
    "# Load the Wine Quality dataset\n",
    "wine_df = pd.read_csv(r'C:\\Users\\Aishwarya\\OneDrive\\Desktop\\DSL PRACTS\\winequality-red.csv')\n",
    "\n",
    "# Create a scatter plot for 'alcohol' vs 'color_intensity' (but there is no 'color_intensity' column in the dataset)\n",
    "# To proceed, let's plot 'alcohol' vs 'fixed acidity' instead.\n",
    "\n",
    "plt.scatter(wine_df['alcohol'], wine_df['fixed acidity'], color='purple', alpha=0.5)\n",
    "plt.title('Alcohol vs Fixed Acidity')\n",
    "plt.xlabel('Alcohol')\n",
    "plt.ylabel('Fixed Acidity')\n",
    "plt.show()\n"
   ]
  },
  {
   "cell_type": "markdown",
   "metadata": {},
   "source": [
    "11. In the Wine dataset, create a histogram of 'Hue' to visualize the distribution of hue values."
   ]
  },
  {
   "cell_type": "code",
   "execution_count": 130,
   "metadata": {},
   "outputs": [
    {
     "data": {
      "image/png": "[encoded data removed]",
      "text/plain": [
       "<Figure size 640x480 with 1 Axes>"
      ]
     },
     "metadata": {},
     "output_type": "display_data"
    }
   ],
   "source": [
    "import matplotlib.pyplot as plt\n",
    "\n",
    "# Plot a histogram for 'Alcohol' in the Wine dataset\n",
    "plt.hist(wine_df['alcohol'], bins=20, color='lightcoral', edgecolor='black')\n",
    "plt.title('Distribution of Alcohol Values')\n",
    "plt.xlabel('Alcohol')\n",
    "plt.ylabel('Frequency')\n",
    "plt.show()\n"
   ]
  },
  {
   "cell_type": "markdown",
   "metadata": {},
   "source": [
    "12. For the Wine dataset, generate a bar chart to display the average 'Flavanoids' for each wine 'Class'."
   ]
  },
  {
   "cell_type": "code",
   "execution_count": 131,
   "metadata": {},
   "outputs": [
    {
     "name": "stderr",
     "output_type": "stream",
     "text": [
      "C:\\Users\\Aishwarya\\AppData\\Local\\Temp\\ipykernel_18076\\374427500.py:8: FutureWarning: \n",
      "\n",
      "Passing `palette` without assigning `hue` is deprecated and will be removed in v0.14.0. Assign the `x` variable to `hue` and set `legend=False` for the same effect.\n",
      "\n",
      "  sns.barplot(data=wine_df, x='Class', y='alcohol', palette='Set1')\n"
     ]
    },
    {
     "data": {
      "image/png": "[encoded data removed]",
      "text/plain": [
       "<Figure size 640x480 with 1 Axes>"
      ]
     },
     "metadata": {},
     "output_type": "display_data"
    }
   ],
   "source": [
    "import seaborn as sns\n",
    "import matplotlib.pyplot as plt\n",
    "\n",
    "# Add 'Class' to the DataFrame for plotting (using 'quality' as the class)\n",
    "wine_df['Class'] = wine_df['quality']\n",
    "\n",
    "# Create a bar chart for the average 'Alcohol' content for each wine class\n",
    "sns.barplot(data=wine_df, x='Class', y='alcohol', palette='Set1')\n",
    "\n",
    "# Display the plot\n",
    "plt.title('Average Alcohol Content for Each Wine Class')\n",
    "plt.xlabel('Wine Class (Quality)')\n",
    "plt.ylabel('Average Alcohol Content')\n",
    "plt.show()\n"
   ]
  }
 ],
 "metadata": {
  "kernelspec": {
   "display_name": "Python 3",
   "language": "python",
   "name": "python3"
  },
  "language_info": {
   "codemirror_mode": {
    "name": "ipython",
    "version": 3
   },
   "file_extension": ".py",
   "mimetype": "text/x-python",
   "name": "python",
   "nbconvert_exporter": "python",
   "pygments_lexer": "ipython3",
   "version": "3.12.4"
  }
 },
 "nbformat": 4,
 "nbformat_minor": 2
}
